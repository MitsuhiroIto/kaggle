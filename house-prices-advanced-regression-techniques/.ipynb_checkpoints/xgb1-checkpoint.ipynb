{
 "cells": [
  {
   "cell_type": "code",
   "execution_count": 1,
   "metadata": {},
   "outputs": [],
   "source": [
    "import numpy as np \n",
    "import pandas as pd \n",
    "import matplotlib.pyplot as plt\n",
    "import copy"
   ]
  },
  {
   "cell_type": "code",
   "execution_count": 2,
   "metadata": {
    "_cell_guid": "79c7e3d0-c299-4dcb-8224-4455121ee9b0",
    "_uuid": "d629ff2d2480ee46fbb7e2d37f6b5fab8052498a"
   },
   "outputs": [
    {
     "name": "stdout",
     "output_type": "stream",
     "text": [
      "1460 1459\n"
     ]
    }
   ],
   "source": [
    "train = pd.read_csv('train.csv')\n",
    "test = pd.read_csv('test.csv')\n",
    "print(len(train),len(test))"
   ]
  },
  {
   "cell_type": "markdown",
   "metadata": {},
   "source": [
    "---"
   ]
  },
  {
   "cell_type": "markdown",
   "metadata": {},
   "source": [
    "# 使用データの確認"
   ]
  },
  {
   "cell_type": "code",
   "execution_count": 3,
   "metadata": {},
   "outputs": [
    {
     "data": {
      "text/html": [
       "<div>\n",
       "<style scoped>\n",
       "    .dataframe tbody tr th:only-of-type {\n",
       "        vertical-align: middle;\n",
       "    }\n",
       "\n",
       "    .dataframe tbody tr th {\n",
       "        vertical-align: top;\n",
       "    }\n",
       "\n",
       "    .dataframe thead th {\n",
       "        text-align: right;\n",
       "    }\n",
       "</style>\n",
       "<table border=\"1\" class=\"dataframe\">\n",
       "  <thead>\n",
       "    <tr style=\"text-align: right;\">\n",
       "      <th></th>\n",
       "      <th>Id</th>\n",
       "      <th>MSSubClass</th>\n",
       "      <th>MSZoning</th>\n",
       "      <th>LotFrontage</th>\n",
       "      <th>LotArea</th>\n",
       "      <th>Street</th>\n",
       "      <th>Alley</th>\n",
       "      <th>LotShape</th>\n",
       "      <th>LandContour</th>\n",
       "      <th>Utilities</th>\n",
       "      <th>...</th>\n",
       "      <th>PoolArea</th>\n",
       "      <th>PoolQC</th>\n",
       "      <th>Fence</th>\n",
       "      <th>MiscFeature</th>\n",
       "      <th>MiscVal</th>\n",
       "      <th>MoSold</th>\n",
       "      <th>YrSold</th>\n",
       "      <th>SaleType</th>\n",
       "      <th>SaleCondition</th>\n",
       "      <th>SalePrice</th>\n",
       "    </tr>\n",
       "  </thead>\n",
       "  <tbody>\n",
       "    <tr>\n",
       "      <th>0</th>\n",
       "      <td>1</td>\n",
       "      <td>60</td>\n",
       "      <td>RL</td>\n",
       "      <td>65.0</td>\n",
       "      <td>8450</td>\n",
       "      <td>Pave</td>\n",
       "      <td>NaN</td>\n",
       "      <td>Reg</td>\n",
       "      <td>Lvl</td>\n",
       "      <td>AllPub</td>\n",
       "      <td>...</td>\n",
       "      <td>0</td>\n",
       "      <td>NaN</td>\n",
       "      <td>NaN</td>\n",
       "      <td>NaN</td>\n",
       "      <td>0</td>\n",
       "      <td>2</td>\n",
       "      <td>2008</td>\n",
       "      <td>WD</td>\n",
       "      <td>Normal</td>\n",
       "      <td>208500</td>\n",
       "    </tr>\n",
       "    <tr>\n",
       "      <th>1</th>\n",
       "      <td>2</td>\n",
       "      <td>20</td>\n",
       "      <td>RL</td>\n",
       "      <td>80.0</td>\n",
       "      <td>9600</td>\n",
       "      <td>Pave</td>\n",
       "      <td>NaN</td>\n",
       "      <td>Reg</td>\n",
       "      <td>Lvl</td>\n",
       "      <td>AllPub</td>\n",
       "      <td>...</td>\n",
       "      <td>0</td>\n",
       "      <td>NaN</td>\n",
       "      <td>NaN</td>\n",
       "      <td>NaN</td>\n",
       "      <td>0</td>\n",
       "      <td>5</td>\n",
       "      <td>2007</td>\n",
       "      <td>WD</td>\n",
       "      <td>Normal</td>\n",
       "      <td>181500</td>\n",
       "    </tr>\n",
       "    <tr>\n",
       "      <th>2</th>\n",
       "      <td>3</td>\n",
       "      <td>60</td>\n",
       "      <td>RL</td>\n",
       "      <td>68.0</td>\n",
       "      <td>11250</td>\n",
       "      <td>Pave</td>\n",
       "      <td>NaN</td>\n",
       "      <td>IR1</td>\n",
       "      <td>Lvl</td>\n",
       "      <td>AllPub</td>\n",
       "      <td>...</td>\n",
       "      <td>0</td>\n",
       "      <td>NaN</td>\n",
       "      <td>NaN</td>\n",
       "      <td>NaN</td>\n",
       "      <td>0</td>\n",
       "      <td>9</td>\n",
       "      <td>2008</td>\n",
       "      <td>WD</td>\n",
       "      <td>Normal</td>\n",
       "      <td>223500</td>\n",
       "    </tr>\n",
       "    <tr>\n",
       "      <th>3</th>\n",
       "      <td>4</td>\n",
       "      <td>70</td>\n",
       "      <td>RL</td>\n",
       "      <td>60.0</td>\n",
       "      <td>9550</td>\n",
       "      <td>Pave</td>\n",
       "      <td>NaN</td>\n",
       "      <td>IR1</td>\n",
       "      <td>Lvl</td>\n",
       "      <td>AllPub</td>\n",
       "      <td>...</td>\n",
       "      <td>0</td>\n",
       "      <td>NaN</td>\n",
       "      <td>NaN</td>\n",
       "      <td>NaN</td>\n",
       "      <td>0</td>\n",
       "      <td>2</td>\n",
       "      <td>2006</td>\n",
       "      <td>WD</td>\n",
       "      <td>Abnorml</td>\n",
       "      <td>140000</td>\n",
       "    </tr>\n",
       "    <tr>\n",
       "      <th>4</th>\n",
       "      <td>5</td>\n",
       "      <td>60</td>\n",
       "      <td>RL</td>\n",
       "      <td>84.0</td>\n",
       "      <td>14260</td>\n",
       "      <td>Pave</td>\n",
       "      <td>NaN</td>\n",
       "      <td>IR1</td>\n",
       "      <td>Lvl</td>\n",
       "      <td>AllPub</td>\n",
       "      <td>...</td>\n",
       "      <td>0</td>\n",
       "      <td>NaN</td>\n",
       "      <td>NaN</td>\n",
       "      <td>NaN</td>\n",
       "      <td>0</td>\n",
       "      <td>12</td>\n",
       "      <td>2008</td>\n",
       "      <td>WD</td>\n",
       "      <td>Normal</td>\n",
       "      <td>250000</td>\n",
       "    </tr>\n",
       "  </tbody>\n",
       "</table>\n",
       "<p>5 rows × 81 columns</p>\n",
       "</div>"
      ],
      "text/plain": [
       "   Id  MSSubClass MSZoning  LotFrontage  LotArea Street Alley LotShape  \\\n",
       "0   1          60       RL         65.0     8450   Pave   NaN      Reg   \n",
       "1   2          20       RL         80.0     9600   Pave   NaN      Reg   \n",
       "2   3          60       RL         68.0    11250   Pave   NaN      IR1   \n",
       "3   4          70       RL         60.0     9550   Pave   NaN      IR1   \n",
       "4   5          60       RL         84.0    14260   Pave   NaN      IR1   \n",
       "\n",
       "  LandContour Utilities    ...     PoolArea PoolQC Fence MiscFeature MiscVal  \\\n",
       "0         Lvl    AllPub    ...            0    NaN   NaN         NaN       0   \n",
       "1         Lvl    AllPub    ...            0    NaN   NaN         NaN       0   \n",
       "2         Lvl    AllPub    ...            0    NaN   NaN         NaN       0   \n",
       "3         Lvl    AllPub    ...            0    NaN   NaN         NaN       0   \n",
       "4         Lvl    AllPub    ...            0    NaN   NaN         NaN       0   \n",
       "\n",
       "  MoSold YrSold  SaleType  SaleCondition  SalePrice  \n",
       "0      2   2008        WD         Normal     208500  \n",
       "1      5   2007        WD         Normal     181500  \n",
       "2      9   2008        WD         Normal     223500  \n",
       "3      2   2006        WD        Abnorml     140000  \n",
       "4     12   2008        WD         Normal     250000  \n",
       "\n",
       "[5 rows x 81 columns]"
      ]
     },
     "execution_count": 3,
     "metadata": {},
     "output_type": "execute_result"
    }
   ],
   "source": [
    "train.head(5)"
   ]
  },
  {
   "cell_type": "code",
   "execution_count": 4,
   "metadata": {},
   "outputs": [
    {
     "data": {
      "text/html": [
       "<div>\n",
       "<style scoped>\n",
       "    .dataframe tbody tr th:only-of-type {\n",
       "        vertical-align: middle;\n",
       "    }\n",
       "\n",
       "    .dataframe tbody tr th {\n",
       "        vertical-align: top;\n",
       "    }\n",
       "\n",
       "    .dataframe thead th {\n",
       "        text-align: right;\n",
       "    }\n",
       "</style>\n",
       "<table border=\"1\" class=\"dataframe\">\n",
       "  <thead>\n",
       "    <tr style=\"text-align: right;\">\n",
       "      <th></th>\n",
       "      <th>Id</th>\n",
       "      <th>MSSubClass</th>\n",
       "      <th>MSZoning</th>\n",
       "      <th>LotFrontage</th>\n",
       "      <th>LotArea</th>\n",
       "      <th>Street</th>\n",
       "      <th>Alley</th>\n",
       "      <th>LotShape</th>\n",
       "      <th>LandContour</th>\n",
       "      <th>Utilities</th>\n",
       "      <th>...</th>\n",
       "      <th>ScreenPorch</th>\n",
       "      <th>PoolArea</th>\n",
       "      <th>PoolQC</th>\n",
       "      <th>Fence</th>\n",
       "      <th>MiscFeature</th>\n",
       "      <th>MiscVal</th>\n",
       "      <th>MoSold</th>\n",
       "      <th>YrSold</th>\n",
       "      <th>SaleType</th>\n",
       "      <th>SaleCondition</th>\n",
       "    </tr>\n",
       "  </thead>\n",
       "  <tbody>\n",
       "    <tr>\n",
       "      <th>0</th>\n",
       "      <td>1461</td>\n",
       "      <td>20</td>\n",
       "      <td>RH</td>\n",
       "      <td>80.0</td>\n",
       "      <td>11622</td>\n",
       "      <td>Pave</td>\n",
       "      <td>NaN</td>\n",
       "      <td>Reg</td>\n",
       "      <td>Lvl</td>\n",
       "      <td>AllPub</td>\n",
       "      <td>...</td>\n",
       "      <td>120</td>\n",
       "      <td>0</td>\n",
       "      <td>NaN</td>\n",
       "      <td>MnPrv</td>\n",
       "      <td>NaN</td>\n",
       "      <td>0</td>\n",
       "      <td>6</td>\n",
       "      <td>2010</td>\n",
       "      <td>WD</td>\n",
       "      <td>Normal</td>\n",
       "    </tr>\n",
       "    <tr>\n",
       "      <th>1</th>\n",
       "      <td>1462</td>\n",
       "      <td>20</td>\n",
       "      <td>RL</td>\n",
       "      <td>81.0</td>\n",
       "      <td>14267</td>\n",
       "      <td>Pave</td>\n",
       "      <td>NaN</td>\n",
       "      <td>IR1</td>\n",
       "      <td>Lvl</td>\n",
       "      <td>AllPub</td>\n",
       "      <td>...</td>\n",
       "      <td>0</td>\n",
       "      <td>0</td>\n",
       "      <td>NaN</td>\n",
       "      <td>NaN</td>\n",
       "      <td>Gar2</td>\n",
       "      <td>12500</td>\n",
       "      <td>6</td>\n",
       "      <td>2010</td>\n",
       "      <td>WD</td>\n",
       "      <td>Normal</td>\n",
       "    </tr>\n",
       "    <tr>\n",
       "      <th>2</th>\n",
       "      <td>1463</td>\n",
       "      <td>60</td>\n",
       "      <td>RL</td>\n",
       "      <td>74.0</td>\n",
       "      <td>13830</td>\n",
       "      <td>Pave</td>\n",
       "      <td>NaN</td>\n",
       "      <td>IR1</td>\n",
       "      <td>Lvl</td>\n",
       "      <td>AllPub</td>\n",
       "      <td>...</td>\n",
       "      <td>0</td>\n",
       "      <td>0</td>\n",
       "      <td>NaN</td>\n",
       "      <td>MnPrv</td>\n",
       "      <td>NaN</td>\n",
       "      <td>0</td>\n",
       "      <td>3</td>\n",
       "      <td>2010</td>\n",
       "      <td>WD</td>\n",
       "      <td>Normal</td>\n",
       "    </tr>\n",
       "    <tr>\n",
       "      <th>3</th>\n",
       "      <td>1464</td>\n",
       "      <td>60</td>\n",
       "      <td>RL</td>\n",
       "      <td>78.0</td>\n",
       "      <td>9978</td>\n",
       "      <td>Pave</td>\n",
       "      <td>NaN</td>\n",
       "      <td>IR1</td>\n",
       "      <td>Lvl</td>\n",
       "      <td>AllPub</td>\n",
       "      <td>...</td>\n",
       "      <td>0</td>\n",
       "      <td>0</td>\n",
       "      <td>NaN</td>\n",
       "      <td>NaN</td>\n",
       "      <td>NaN</td>\n",
       "      <td>0</td>\n",
       "      <td>6</td>\n",
       "      <td>2010</td>\n",
       "      <td>WD</td>\n",
       "      <td>Normal</td>\n",
       "    </tr>\n",
       "    <tr>\n",
       "      <th>4</th>\n",
       "      <td>1465</td>\n",
       "      <td>120</td>\n",
       "      <td>RL</td>\n",
       "      <td>43.0</td>\n",
       "      <td>5005</td>\n",
       "      <td>Pave</td>\n",
       "      <td>NaN</td>\n",
       "      <td>IR1</td>\n",
       "      <td>HLS</td>\n",
       "      <td>AllPub</td>\n",
       "      <td>...</td>\n",
       "      <td>144</td>\n",
       "      <td>0</td>\n",
       "      <td>NaN</td>\n",
       "      <td>NaN</td>\n",
       "      <td>NaN</td>\n",
       "      <td>0</td>\n",
       "      <td>1</td>\n",
       "      <td>2010</td>\n",
       "      <td>WD</td>\n",
       "      <td>Normal</td>\n",
       "    </tr>\n",
       "  </tbody>\n",
       "</table>\n",
       "<p>5 rows × 80 columns</p>\n",
       "</div>"
      ],
      "text/plain": [
       "     Id  MSSubClass MSZoning  LotFrontage  LotArea Street Alley LotShape  \\\n",
       "0  1461          20       RH         80.0    11622   Pave   NaN      Reg   \n",
       "1  1462          20       RL         81.0    14267   Pave   NaN      IR1   \n",
       "2  1463          60       RL         74.0    13830   Pave   NaN      IR1   \n",
       "3  1464          60       RL         78.0     9978   Pave   NaN      IR1   \n",
       "4  1465         120       RL         43.0     5005   Pave   NaN      IR1   \n",
       "\n",
       "  LandContour Utilities      ...       ScreenPorch PoolArea PoolQC  Fence  \\\n",
       "0         Lvl    AllPub      ...               120        0    NaN  MnPrv   \n",
       "1         Lvl    AllPub      ...                 0        0    NaN    NaN   \n",
       "2         Lvl    AllPub      ...                 0        0    NaN  MnPrv   \n",
       "3         Lvl    AllPub      ...                 0        0    NaN    NaN   \n",
       "4         HLS    AllPub      ...               144        0    NaN    NaN   \n",
       "\n",
       "  MiscFeature MiscVal MoSold  YrSold  SaleType  SaleCondition  \n",
       "0         NaN       0      6    2010        WD         Normal  \n",
       "1        Gar2   12500      6    2010        WD         Normal  \n",
       "2         NaN       0      3    2010        WD         Normal  \n",
       "3         NaN       0      6    2010        WD         Normal  \n",
       "4         NaN       0      1    2010        WD         Normal  \n",
       "\n",
       "[5 rows x 80 columns]"
      ]
     },
     "execution_count": 4,
     "metadata": {},
     "output_type": "execute_result"
    }
   ],
   "source": [
    "test.head(5)"
   ]
  },
  {
   "cell_type": "code",
   "execution_count": 5,
   "metadata": {},
   "outputs": [
    {
     "name": "stdout",
     "output_type": "stream",
     "text": [
      "count      1460.000000\n",
      "mean     180921.195890\n",
      "std       79442.502883\n",
      "min       34900.000000\n",
      "25%      129975.000000\n",
      "50%      163000.000000\n",
      "75%      214000.000000\n",
      "max      755000.000000\n",
      "Name: SalePrice, dtype: float64\n"
     ]
    },
    {
     "data": {
      "text/plain": [
       "<matplotlib.axes._subplots.AxesSubplot at 0x11331a710>"
      ]
     },
     "execution_count": 5,
     "metadata": {},
     "output_type": "execute_result"
    },
    {
     "data": {
      "image/png": "[encoded data removed]",
      "text/plain": [
       "<Figure size 432x288 with 1 Axes>"
      ]
     },
     "metadata": {
      "needs_background": "light"
     },
     "output_type": "display_data"
    }
   ],
   "source": [
    "print(train['SalePrice'].describe())\n",
    "train['SalePrice'].hist(bins=20, range=(0, 800000))"
   ]
  },
  {
   "cell_type": "markdown",
   "metadata": {},
   "source": [
    "# ログ変換"
   ]
  },
  {
   "cell_type": "code",
   "execution_count": 6,
   "metadata": {},
   "outputs": [],
   "source": [
    "train[\"SalePrice\"] = np.log1p(train[\"SalePrice\"])"
   ]
  },
  {
   "cell_type": "markdown",
   "metadata": {},
   "source": [
    "# 欠陥データの確認"
   ]
  },
  {
   "cell_type": "code",
   "execution_count": 7,
   "metadata": {},
   "outputs": [
    {
     "name": "stdout",
     "output_type": "stream",
     "text": [
      "              test null rate  train null rate\n",
      "PoolQC              0.997944         0.995205\n",
      "MiscFeature         0.965045         0.963014\n",
      "Alley               0.926662         0.937671\n",
      "Fence               0.801234         0.807534\n",
      "FireplaceQu         0.500343         0.472603\n",
      "LotFrontage         0.155586         0.177397\n",
      "GarageCond          0.053461         0.055479\n",
      "GarageYrBlt         0.053461         0.055479\n",
      "GarageFinish        0.053461         0.055479\n",
      "GarageQual          0.053461         0.055479\n",
      "GarageType          0.052090         0.055479\n",
      "BsmtCond            0.030843         0.025342\n",
      "BsmtExposure        0.030158         0.026027\n",
      "BsmtQual            0.030158         0.025342\n",
      "BsmtFinType2        0.028787         0.026027\n",
      "BsmtFinType1        0.028787         0.025342\n",
      "MasVnrType          0.010966         0.005479\n",
      "MasVnrArea          0.010281         0.005479\n",
      "MSZoning            0.002742         0.000000\n",
      "Functional          0.001371         0.000000\n",
      "BsmtFullBath        0.001371         0.000000\n",
      "BsmtHalfBath        0.001371         0.000000\n",
      "Utilities           0.001371         0.000000\n",
      "KitchenQual         0.000685         0.000000\n",
      "TotalBsmtSF         0.000685         0.000000\n",
      "BsmtUnfSF           0.000685         0.000000\n",
      "GarageCars          0.000685         0.000000\n",
      "GarageArea          0.000685         0.000000\n",
      "BsmtFinSF2          0.000685         0.000000\n",
      "BsmtFinSF1          0.000685         0.000000\n",
      "Exterior2nd         0.000685         0.000000\n",
      "Exterior1st         0.000685         0.000000\n",
      "SaleType            0.000685         0.000000\n",
      "Electrical          0.000000         0.000685\n"
     ]
    }
   ],
   "source": [
    "df_null_rate_train = pd.DataFrame(train.isnull().sum()/len(train))\n",
    "df_null_rate_test = pd.DataFrame(test.isnull().sum()/len(test))\n",
    "df_null_rate = pd.concat([df_null_rate_test[df_null_rate_test.values>0], df_null_rate_train[df_null_rate_train.values>0]], axis=1, sort=False).fillna(0)\n",
    "df_null_rate.columns = ['test null rate', 'train null rate']\n",
    "print(df_null_rate.sort_values('test null rate', ascending=False))"
   ]
  },
  {
   "cell_type": "markdown",
   "metadata": {},
   "source": [
    "0.000685は欠損値1個"
   ]
  },
  {
   "cell_type": "markdown",
   "metadata": {},
   "source": [
    "PoolQC:プールあるなし、MiscFeature:エレベーター、テニスコート等の施設、Alley: 路地のあるなし?、Fence:フェンスのあるなし、FireplaceQu:暖炉のあるなし、LotFrontage:間口の広さ"
   ]
  },
  {
   "cell_type": "markdown",
   "metadata": {},
   "source": [
    "---"
   ]
  },
  {
   "cell_type": "markdown",
   "metadata": {},
   "source": [
    "# 欠陥値の補間"
   ]
  },
  {
   "cell_type": "markdown",
   "metadata": {},
   "source": [
    "1. ## PoolQC、Alley、MiscFeature 削除"
   ]
  },
  {
   "cell_type": "code",
   "execution_count": 8,
   "metadata": {},
   "outputs": [],
   "source": [
    "# 最初だし、欠陥値90%以上のPoolQC、Alley、MiscFeatureは使わない\n",
    "train_new0 = copy.deepcopy(train)\n",
    "test_new0 = copy.deepcopy(test)\n",
    "\n",
    "train_new0 = train_new0.drop(\"PoolQC\", axis=1)\n",
    "train_new0 = train_new0.drop(\"Alley\", axis=1)\n",
    "train_new0 = train_new0.drop(\"MiscFeature\", axis=1)\n",
    "\n",
    "test_new0 = test_new0.drop(\"PoolQC\", axis=1)\n",
    "test_new0 = test_new0.drop(\"Alley\", axis=1)\n",
    "test_new0 = test_new0.drop(\"MiscFeature\", axis=1)"
   ]
  },
  {
   "cell_type": "markdown",
   "metadata": {},
   "source": [
    "## Fenceデータ 数値化および欠損値は0"
   ]
  },
  {
   "cell_type": "code",
   "execution_count": 9,
   "metadata": {},
   "outputs": [
    {
     "name": "stdout",
     "output_type": "stream",
     "text": [
      "         SalePrice   SalePrice\n",
      "count  1179.000000  281.000000\n",
      "mean     12.058605   11.879106\n",
      "std       0.406170    0.333526\n",
      "min      10.471978   10.460271\n",
      "25%      11.796229   11.719948\n",
      "50%      12.061053   11.860062\n",
      "75%      12.322526   12.019749\n",
      "max      13.534474   13.521141 \n",
      "\n",
      "MnPrv    157\n",
      "GdPrv     59\n",
      "GdWo      54\n",
      "MnWw      11\n",
      "Name: Fence, dtype: int64 \n",
      "\n",
      "MnPrv    172\n",
      "GdPrv     59\n",
      "GdWo      58\n",
      "MnWw       1\n",
      "Name: Fence, dtype: int64\n"
     ]
    },
    {
     "data": {
      "image/png": "[encoded data removed]",
      "text/plain": [
       "<Figure size 864x432 with 2 Axes>"
      ]
     },
     "metadata": {
      "needs_background": "light"
     },
     "output_type": "display_data"
    }
   ],
   "source": [
    "# Fenceのデータチェック\n",
    "df_fence_yes = train[train['Fence'].isnull()==False]\n",
    "df_fence_no = train[train['Fence'].isnull()==True]\n",
    "print(pd.concat([df_fence_no['SalePrice'].describe(),df_fence_yes['SalePrice'].describe()], axis=1, sort=False),\"\\n\")\n",
    "\n",
    "fig, axes = plt.subplots(nrows=1, ncols=2, figsize=(12, 6),  squeeze=False)\n",
    "df_fence_no['SalePrice'].hist(bins=20,ax=axes[0, 1],range=(0, 800000))\n",
    "df_fence_yes['SalePrice'].hist(bins=20,ax=axes[0, 0],range=(0, 800000))\n",
    "print(train_new0['Fence'].value_counts(),\"\\n\")\n",
    "print(test_new0['Fence'].value_counts())"
   ]
  },
  {
   "cell_type": "code",
   "execution_count": 10,
   "metadata": {},
   "outputs": [
    {
     "name": "stdout",
     "output_type": "stream",
     "text": [
      "0.0    1179\n",
      "3.0     157\n",
      "4.0      59\n",
      "2.0      54\n",
      "1.0      11\n",
      "Name: Fence, dtype: int64 \n",
      "\n",
      "0.0    1169\n",
      "3.0     172\n",
      "4.0      59\n",
      "2.0      58\n",
      "1.0       1\n",
      "Name: Fence, dtype: int64\n"
     ]
    }
   ],
   "source": [
    "# Fenceを五段階評価で置き換え\n",
    "train_new1 = copy.deepcopy(train_new0)\n",
    "test_new1 = copy.deepcopy(test_new0)\n",
    "\n",
    "train_new1['Fence'] = train_new1['Fence'].replace({\"GdPrv\":4,\"MnPrv\":3,\"GdWo\":2,\"MnWw\":1})\n",
    "train_new1['Fence'] = train_new1['Fence'].fillna(0)\n",
    "print(train_new1['Fence'].value_counts(),\"\\n\")\n",
    "\n",
    "test_new1['Fence'] = test_new1['Fence'].replace({\"GdPrv\":4,\"MnPrv\":3,\"GdWo\":2,\"MnWw\":1})\n",
    "test_new1['Fence'] = test_new1['Fence'].fillna(0)\n",
    "print(test_new1['Fence'].value_counts())\n"
   ]
  },
  {
   "cell_type": "markdown",
   "metadata": {},
   "source": [
    "---"
   ]
  },
  {
   "cell_type": "markdown",
   "metadata": {},
   "source": [
    "## FireplaceQu 数値化および欠損値は0"
   ]
  },
  {
   "cell_type": "code",
   "execution_count": 11,
   "metadata": {},
   "outputs": [
    {
     "name": "stdout",
     "output_type": "stream",
     "text": [
      "        SalePrice   SalePrice\n",
      "count  690.000000  770.000000\n",
      "mean    11.808915   12.216847\n",
      "std      0.323420    0.360918\n",
      "min     10.460271   11.002117\n",
      "25%     11.626263   11.976666\n",
      "50%     11.813037   12.160034\n",
      "75%     12.009911   12.458293\n",
      "max     12.744447   13.534474 \n",
      "\n",
      "Gd    380\n",
      "TA    313\n",
      "Fa     33\n",
      "Ex     24\n",
      "Po     20\n",
      "Name: FireplaceQu, dtype: int64\n",
      "Gd    364\n",
      "TA    279\n",
      "Fa     41\n",
      "Po     26\n",
      "Ex     19\n",
      "Name: FireplaceQu, dtype: int64\n"
     ]
    },
    {
     "data": {
      "image/png": "[encoded data removed]",
      "text/plain": [
       "<Figure size 864x432 with 2 Axes>"
      ]
     },
     "metadata": {
      "needs_background": "light"
     },
     "output_type": "display_data"
    }
   ],
   "source": [
    "# FireplaceQuのデータチェック\n",
    "df_FireplaceQu_yes = train[train['FireplaceQu'].isnull()==False]\n",
    "df_FireplaceQu_no = train[train['FireplaceQu'].isnull()==True]\n",
    "print(pd.concat([df_FireplaceQu_no['SalePrice'].describe(),df_FireplaceQu_yes['SalePrice'].describe()], axis=1, sort=False),\"\\n\")\n",
    "\n",
    "fig, axes = plt.subplots(nrows=1, ncols=2, figsize=(12, 6),  squeeze=False)\n",
    "df_FireplaceQu_no['SalePrice'].hist(bins=20,ax=axes[0, 1],range=(0, 800000))\n",
    "df_FireplaceQu_yes['SalePrice'].hist(bins=20,ax=axes[0, 0],range=(0, 800000))\n",
    "print(train['FireplaceQu'].value_counts())\n",
    "print(test['FireplaceQu'].value_counts())"
   ]
  },
  {
   "cell_type": "code",
   "execution_count": 12,
   "metadata": {},
   "outputs": [
    {
     "name": "stdout",
     "output_type": "stream",
     "text": [
      "0.0    690\n",
      "4.0    380\n",
      "3.0    313\n",
      "2.0     33\n",
      "5.0     24\n",
      "1.0     20\n",
      "Name: FireplaceQu, dtype: int64 \n",
      "\n",
      "0.0    730\n",
      "4.0    364\n",
      "3.0    279\n",
      "2.0     41\n",
      "1.0     26\n",
      "5.0     19\n",
      "Name: FireplaceQu, dtype: int64 \n",
      "\n"
     ]
    }
   ],
   "source": [
    "# FireplaceQuを6段階評価で置き換え\n",
    "train_new2 = copy.deepcopy(train_new1)\n",
    "test_new2 = copy.deepcopy(test_new1)\n",
    "\n",
    "train_new2['FireplaceQu'] = train_new2['FireplaceQu'].replace({\"Ex\":5,\"Gd\":4,\"TA\":3,\"Fa\":2,\"Po\":1})\n",
    "train_new2['FireplaceQu'] = train_new2['FireplaceQu'].fillna(0)\n",
    "print(train_new2['FireplaceQu'].value_counts(),\"\\n\")\n",
    "\n",
    "test_new2['FireplaceQu'] = test_new2['FireplaceQu'].replace({\"Ex\":5,\"Gd\":4,\"TA\":3,\"Fa\":2,\"Po\":1})\n",
    "test_new2['FireplaceQu'] = test_new2['FireplaceQu'].fillna(0)\n",
    "print(test_new2['FireplaceQu'].value_counts(),\"\\n\")"
   ]
  },
  {
   "cell_type": "markdown",
   "metadata": {},
   "source": [
    "---"
   ]
  },
  {
   "cell_type": "markdown",
   "metadata": {},
   "source": [
    "## LotFrontage 回帰を使った補間"
   ]
  },
  {
   "cell_type": "code",
   "execution_count": 13,
   "metadata": {},
   "outputs": [
    {
     "name": "stdout",
     "output_type": "stream",
     "text": [
      "        SalePrice    SalePrice\n",
      "count  259.000000  1201.000000\n",
      "mean    12.062222    12.015827\n",
      "std      0.308972     0.416042\n",
      "min     11.018646    10.460271\n",
      "25%     11.873225    11.755879\n",
      "50%     12.057578    11.979805\n",
      "75%     12.278398    12.271397\n",
      "max     13.053015    13.534474\n"
     ]
    },
    {
     "data": {
      "text/plain": [
       "<matplotlib.axes._subplots.AxesSubplot at 0x112e6f5f8>"
      ]
     },
     "execution_count": 13,
     "metadata": {},
     "output_type": "execute_result"
    },
    {
     "data": {
      "image/png": "[encoded data removed]",
      "text/plain": [
       "<Figure size 864x432 with 2 Axes>"
      ]
     },
     "metadata": {
      "needs_background": "light"
     },
     "output_type": "display_data"
    }
   ],
   "source": [
    "# LotFrontageのデータチェック\n",
    "df_LotFrontage_yes = train_new2[train_new2['LotFrontage'].isnull()==False]\n",
    "df_LotFrontage_no = train_new2[train_new2['LotFrontage'].isnull()==True]\n",
    "print(pd.concat([df_LotFrontage_no['SalePrice'].describe(),df_LotFrontage_yes['SalePrice'].describe()], axis=1, sort=False))\n",
    "\n",
    "fig, axes = plt.subplots(nrows=1, ncols=2, figsize=(12, 6),  squeeze=False)\n",
    "df_LotFrontage_no['SalePrice'].hist(bins=20,ax=axes[0, 1],range=(0, 800000))\n",
    "df_LotFrontage_yes['SalePrice'].hist(bins=20,ax=axes[0, 0],range=(0, 800000))"
   ]
  },
  {
   "cell_type": "code",
   "execution_count": 14,
   "metadata": {},
   "outputs": [
    {
     "data": {
      "text/plain": [
       "Id              -0.010601\n",
       "MSSubClass      -0.386347\n",
       "LotFrontage      1.000000\n",
       "LotArea          0.426095\n",
       "OverallQual      0.251646\n",
       "OverallCond     -0.059213\n",
       "YearBuilt        0.123349\n",
       "YearRemodAdd     0.088866\n",
       "MasVnrArea       0.193458\n",
       "BsmtFinSF1       0.233633\n",
       "BsmtFinSF2       0.049900\n",
       "BsmtUnfSF        0.132644\n",
       "TotalBsmtSF      0.392075\n",
       "1stFlrSF         0.457181\n",
       "2ndFlrSF         0.080177\n",
       "LowQualFinSF     0.038469\n",
       "GrLivArea        0.402797\n",
       "BsmtFullBath     0.100949\n",
       "BsmtHalfBath    -0.007234\n",
       "FullBath         0.198769\n",
       "HalfBath         0.053532\n",
       "BedroomAbvGr     0.263170\n",
       "KitchenAbvGr    -0.006069\n",
       "TotRmsAbvGrd     0.352096\n",
       "Fireplaces       0.266639\n",
       "FireplaceQu      0.245531\n",
       "GarageYrBlt      0.070250\n",
       "GarageCars       0.285691\n",
       "GarageArea       0.344997\n",
       "WoodDeckSF       0.088521\n",
       "OpenPorchSF      0.151972\n",
       "EnclosedPorch    0.010700\n",
       "3SsnPorch        0.070029\n",
       "ScreenPorch      0.041383\n",
       "PoolArea         0.206167\n",
       "Fence            0.034139\n",
       "MiscVal          0.003368\n",
       "MoSold           0.011200\n",
       "YrSold           0.007450\n",
       "SalePrice        0.355879\n",
       "Name: LotFrontage, dtype: float64"
      ]
     },
     "execution_count": 14,
     "metadata": {},
     "output_type": "execute_result"
    }
   ],
   "source": [
    "train_new2.corr()['LotFrontage']\n",
    "\n",
    "# 相関の高いLotArea、1stFlrSFで穴埋め"
   ]
  },
  {
   "cell_type": "code",
   "execution_count": 15,
   "metadata": {},
   "outputs": [],
   "source": [
    "# 相関の高いLotArea、1stFlrSFで穴埋め\n",
    "from sklearn import linear_model\n",
    "\n",
    "train_new3 = copy.deepcopy(train_new2)\n",
    "test_new3 = copy.deepcopy(test_new2)\n",
    "\n",
    "train_LotFrontage_x = df_LotFrontage_yes[['LotArea', '1stFlrSF']]\n",
    "train_LotFrontage_y = df_LotFrontage_yes['LotFrontage']\n",
    "\n",
    "clf_LotFrontage = linear_model.LinearRegression()\n",
    "clf_LotFrontage.fit(train_LotFrontage_x,train_LotFrontage_y)\n",
    "\n",
    "pd.options.mode.chained_assignment = None\n",
    "for i in range(len(train_new3['LotFrontage'])):\n",
    "    if train_new3.isnull().iloc[i]['LotFrontage']==True:\n",
    "        train_new3['LotFrontage'][i] = int(clf_LotFrontage.predict([train_new3.iloc[i][['LotArea', '1stFlrSF']].values]))\n",
    "\n",
    "for i in range(len(test_new3['LotFrontage'])):\n",
    "    if test_new3.isnull().iloc[i]['LotFrontage']==True:\n",
    "        test_new3['LotFrontage'][i] = int(clf_LotFrontage.predict([test_new3.iloc[i][['LotArea', '1stFlrSF']].values]))"
   ]
  },
  {
   "cell_type": "markdown",
   "metadata": {},
   "source": [
    "---"
   ]
  },
  {
   "cell_type": "markdown",
   "metadata": {},
   "source": [
    "## GarageQual、GarageCond 数値化および欠損値は0"
   ]
  },
  {
   "cell_type": "markdown",
   "metadata": {},
   "source": [
    "GGarageYrBlt、GarageFinish、GarageQual、GarageCondのNAはガレージがないことを意味するので0とする "
   ]
  },
  {
   "cell_type": "code",
   "execution_count": 16,
   "metadata": {},
   "outputs": [
    {
     "name": "stdout",
     "output_type": "stream",
     "text": [
      "TA    1326\n",
      "Fa      35\n",
      "Gd       9\n",
      "Po       7\n",
      "Ex       2\n",
      "Name: GarageCond, dtype: int64 \n",
      "\n",
      "TA    1328\n",
      "Fa      39\n",
      "Po       7\n",
      "Gd       6\n",
      "Ex       1\n",
      "Name: GarageCond, dtype: int64 \n",
      "\n",
      "TA    1311\n",
      "Fa      48\n",
      "Gd      14\n",
      "Ex       3\n",
      "Po       3\n",
      "Name: GarageQual, dtype: int64 \n",
      "\n",
      "TA    1293\n",
      "Fa      76\n",
      "Gd      10\n",
      "Po       2\n",
      "Name: GarageQual, dtype: int64 \n",
      "\n"
     ]
    }
   ],
   "source": [
    "print(train_new3['GarageCond'].value_counts(),\"\\n\")\n",
    "print(test_new3['GarageCond'].value_counts(),\"\\n\")\n",
    "print(train_new3['GarageQual'].value_counts(),\"\\n\")\n",
    "print(test_new3['GarageQual'].value_counts(),\"\\n\")"
   ]
  },
  {
   "cell_type": "code",
   "execution_count": 17,
   "metadata": {},
   "outputs": [
    {
     "name": "stdout",
     "output_type": "stream",
     "text": [
      "3.0    1326\n",
      "0.0      81\n",
      "2.0      35\n",
      "4.0       9\n",
      "1.0       7\n",
      "5.0       2\n",
      "Name: GarageCond, dtype: int64 \n",
      "\n",
      "3.0    1328\n",
      "0.0      78\n",
      "2.0      39\n",
      "1.0       7\n",
      "4.0       6\n",
      "5.0       1\n",
      "Name: GarageCond, dtype: int64 \n",
      "\n",
      "3.0    1311\n",
      "0.0      81\n",
      "2.0      48\n",
      "4.0      14\n",
      "1.0       3\n",
      "5.0       3\n",
      "Name: GarageQual, dtype: int64 \n",
      "\n",
      "3.0    1293\n",
      "0.0      78\n",
      "2.0      76\n",
      "4.0      10\n",
      "1.0       2\n",
      "Name: GarageQual, dtype: int64 \n",
      "\n"
     ]
    }
   ],
   "source": [
    "# GarageQual、GarageCondは6段階評価に直す\n",
    "train_new4 = copy.deepcopy(train_new3)\n",
    "test_new4 = copy.deepcopy(test_new3)\n",
    "\n",
    "train_new4['GarageCond'] = train_new4['GarageCond'].replace({\"Ex\":5,\"Gd\":4,\"TA\":3,\"Fa\":2,\"Po\":1})\n",
    "train_new4['GarageCond'] = train_new4['GarageCond'].fillna(0)\n",
    "print(train_new4['GarageCond'].value_counts(),\"\\n\")\n",
    "\n",
    "test_new4['GarageCond'] = test_new4['GarageCond'].replace({\"Ex\":5,\"Gd\":4,\"TA\":3,\"Fa\":2,\"Po\":1})\n",
    "test_new4['GarageCond'] = test_new4['GarageCond'].fillna(0)\n",
    "print(test_new4['GarageCond'].value_counts(),\"\\n\")\n",
    "\n",
    "train_new4['GarageQual'] = train_new4['GarageQual'].replace({\"Ex\":5,\"Gd\":4,\"TA\":3,\"Fa\":2,\"Po\":1})\n",
    "train_new4['GarageQual'] = train_new4['GarageQual'].fillna(0)\n",
    "print(train_new4['GarageQual'].value_counts(),\"\\n\")\n",
    "\n",
    "test_new4['GarageQual'] = test_new4['GarageQual'].replace({\"Ex\":5,\"Gd\":4,\"TA\":3,\"Fa\":2,\"Po\":1})\n",
    "test_new4['GarageQual'] = test_new4['GarageQual'].fillna(0)\n",
    "print(test_new4['GarageQual'].value_counts(),\"\\n\")"
   ]
  },
  {
   "cell_type": "markdown",
   "metadata": {},
   "source": [
    "---"
   ]
  },
  {
   "cell_type": "markdown",
   "metadata": {},
   "source": [
    "## GarageFinish 数値化および欠損値は0"
   ]
  },
  {
   "cell_type": "code",
   "execution_count": 18,
   "metadata": {},
   "outputs": [
    {
     "name": "stdout",
     "output_type": "stream",
     "text": [
      "Unf    605\n",
      "RFn    422\n",
      "Fin    352\n",
      "Name: GarageFinish, dtype: int64 \n",
      "\n",
      "Unf    625\n",
      "RFn    389\n",
      "Fin    367\n",
      "Name: GarageFinish, dtype: int64 \n",
      "\n"
     ]
    }
   ],
   "source": [
    "print(train_new4['GarageFinish'].value_counts(),\"\\n\")\n",
    "print(test_new4['GarageFinish'].value_counts(),\"\\n\")"
   ]
  },
  {
   "cell_type": "code",
   "execution_count": 19,
   "metadata": {},
   "outputs": [
    {
     "name": "stdout",
     "output_type": "stream",
     "text": [
      "1.0    605\n",
      "2.0    422\n",
      "3.0    352\n",
      "0.0     81\n",
      "Name: GarageFinish, dtype: int64 \n",
      "\n",
      "1.0    625\n",
      "2.0    389\n",
      "3.0    367\n",
      "0.0     78\n",
      "Name: GarageFinish, dtype: int64 \n",
      "\n"
     ]
    }
   ],
   "source": [
    "# GarageFinishは4段階評価に直す\n",
    "train_new5 = copy.deepcopy(train_new4)\n",
    "test_new5 = copy.deepcopy(test_new4)\n",
    "\n",
    "train_new5['GarageFinish'] = train_new5['GarageFinish'].replace({\"Fin\":3,\"RFn\":2,\"Unf\":1})\n",
    "train_new5['GarageFinish'] = train_new5['GarageFinish'].fillna(0)\n",
    "print(train_new5['GarageFinish'].value_counts(),\"\\n\")\n",
    "\n",
    "test_new5['GarageFinish'] = test_new5['GarageFinish'].replace({\"Fin\":3,\"RFn\":2,\"Unf\":1})\n",
    "test_new5['GarageFinish'] = test_new5['GarageFinish'].fillna(0)\n",
    "print(test_new5['GarageFinish'].value_counts(),\"\\n\")\n"
   ]
  },
  {
   "cell_type": "markdown",
   "metadata": {},
   "source": [
    "## GarageYrBlt わからないし、他と相関高いのあるし削除"
   ]
  },
  {
   "cell_type": "code",
   "execution_count": 20,
   "metadata": {},
   "outputs": [
    {
     "name": "stdout",
     "output_type": "stream",
     "text": [
      "Id               0.000072\n",
      "MSSubClass       0.085072\n",
      "LotFrontage      0.046213\n",
      "LotArea         -0.024947\n",
      "OverallQual      0.547766\n",
      "OverallCond     -0.324297\n",
      "YearBuilt        0.825667\n",
      "YearRemodAdd     0.642277\n",
      "MasVnrArea       0.252691\n",
      "BsmtFinSF1       0.153484\n",
      "BsmtFinSF2      -0.088011\n",
      "BsmtUnfSF        0.190708\n",
      "TotalBsmtSF      0.322445\n",
      "1stFlrSF         0.233449\n",
      "2ndFlrSF         0.070832\n",
      "LowQualFinSF    -0.036363\n",
      "GrLivArea        0.231197\n",
      "BsmtFullBath     0.124553\n",
      "BsmtHalfBath    -0.077464\n",
      "FullBath         0.484557\n",
      "HalfBath         0.196785\n",
      "BedroomAbvGr    -0.064518\n",
      "KitchenAbvGr    -0.124411\n",
      "TotRmsAbvGrd     0.148112\n",
      "Fireplaces       0.046822\n",
      "FireplaceQu      0.141497\n",
      "GarageYrBlt      1.000000\n",
      "GarageFinish     0.525408\n",
      "GarageCars       0.588920\n",
      "GarageArea       0.564567\n",
      "GarageQual       0.308257\n",
      "GarageCond       0.262504\n",
      "WoodDeckSF       0.224577\n",
      "OpenPorchSF      0.228425\n",
      "EnclosedPorch   -0.297003\n",
      "3SsnPorch        0.023544\n",
      "ScreenPorch     -0.075418\n",
      "PoolArea        -0.014501\n",
      "Fence           -0.223381\n",
      "MiscVal         -0.032417\n",
      "MoSold           0.005337\n",
      "YrSold          -0.001014\n",
      "SalePrice        0.541073\n",
      "Name: GarageYrBlt, dtype: float64\n"
     ]
    }
   ],
   "source": [
    "print(train_new5.corr()['GarageYrBlt'])\n",
    "\n",
    "# YearBuilt、YearRemodAddと相関高いし削除     \n",
    "train_new6 = copy.deepcopy(train_new5)\n",
    "test_new6 = copy.deepcopy(test_new5)\n",
    "\n",
    "train_new6 = train_new6.drop(\"GarageYrBlt\", axis=1)\n",
    "test_new6 = test_new6.drop(\"GarageYrBlt\", axis=1)"
   ]
  },
  {
   "cell_type": "markdown",
   "metadata": {},
   "source": [
    "---"
   ]
  },
  {
   "cell_type": "markdown",
   "metadata": {},
   "source": [
    "## GarageArea、GarageCars 欠損値は0"
   ]
  },
  {
   "cell_type": "markdown",
   "metadata": {},
   "source": [
    "* GarageArea、GarageCarsデータの欠陥は1か所のみ(id:2577)で、他のGarage関連の値もNAとなっているので0とする"
   ]
  },
  {
   "cell_type": "code",
   "execution_count": 21,
   "metadata": {},
   "outputs": [],
   "source": [
    "train_new7 = copy.deepcopy(train_new6)\n",
    "test_new7 = copy.deepcopy(test_new6)\n",
    "\n",
    "train_new7['GarageArea'] = train_new7['GarageArea'].fillna(0)\n",
    "test_new7['GarageArea'] = test_new7['GarageArea'].fillna(0)\n",
    "train_new7['GarageCars'] = train_new7['GarageCars'].fillna(0)\n",
    "test_new7['GarageCars'] = test_new7['GarageCars'].fillna(0)"
   ]
  },
  {
   "cell_type": "markdown",
   "metadata": {},
   "source": [
    "---"
   ]
  },
  {
   "cell_type": "markdown",
   "metadata": {},
   "source": [
    "## GarageType　わからないのでとりあえず、最頻値で"
   ]
  },
  {
   "cell_type": "code",
   "execution_count": 22,
   "metadata": {},
   "outputs": [],
   "source": [
    "train_new8 = copy.deepcopy(train_new7)\n",
    "test_new8 = copy.deepcopy(test_new7)\n",
    "\n",
    "train_new8['GarageType'] = train_new8['GarageType'].fillna(train_new8['GarageType'].mode()[0])\n",
    "test_new8['GarageType'] = test_new8['GarageType'].fillna(train_new8['GarageType'].mode()[0])"
   ]
  },
  {
   "cell_type": "markdown",
   "metadata": {},
   "source": [
    "---"
   ]
  },
  {
   "cell_type": "markdown",
   "metadata": {},
   "source": [
    "## BsmQual、BsmCond データの数値化および補間"
   ]
  },
  {
   "cell_type": "code",
   "execution_count": 23,
   "metadata": {},
   "outputs": [
    {
     "name": "stdout",
     "output_type": "stream",
     "text": [
      "TA    1311\n",
      "Gd      65\n",
      "Fa      45\n",
      "Po       2\n",
      "Name: BsmtCond, dtype: int64 \n",
      "\n",
      "TA    1295\n",
      "Fa      59\n",
      "Gd      57\n",
      "Po       3\n",
      "Name: BsmtCond, dtype: int64 \n",
      "\n",
      "TA    649\n",
      "Gd    618\n",
      "Ex    121\n",
      "Fa     35\n",
      "Name: BsmtQual, dtype: int64 \n",
      "\n",
      "TA    634\n",
      "Gd    591\n",
      "Ex    137\n",
      "Fa     53\n",
      "Name: BsmtQual, dtype: int64 \n",
      "\n"
     ]
    }
   ],
   "source": [
    "print(train_new8['BsmtCond'].value_counts(),\"\\n\")\n",
    "print(test_new8['BsmtCond'].value_counts(),\"\\n\")\n",
    "print(train_new8['BsmtQual'].value_counts(),\"\\n\")\n",
    "print(test_new8['BsmtQual'].value_counts(),\"\\n\")"
   ]
  },
  {
   "cell_type": "code",
   "execution_count": 24,
   "metadata": {},
   "outputs": [
    {
     "name": "stdout",
     "output_type": "stream",
     "text": [
      "3.0    1311\n",
      "4.0      65\n",
      "2.0      45\n",
      "0.0      37\n",
      "1.0       2\n",
      "Name: BsmtCond, dtype: int64 \n",
      "\n",
      "3.0    1295\n",
      "2.0      59\n",
      "4.0      57\n",
      "0.0      45\n",
      "1.0       3\n",
      "Name: BsmtCond, dtype: int64 \n",
      "\n",
      "3.0    649\n",
      "4.0    618\n",
      "5.0    121\n",
      "0.0     37\n",
      "2.0     35\n",
      "Name: BsmtQual, dtype: int64 \n",
      "\n",
      "3.0    634\n",
      "4.0    591\n",
      "5.0    137\n",
      "2.0     53\n",
      "0.0     44\n",
      "Name: BsmtQual, dtype: int64 \n",
      "\n"
     ]
    }
   ],
   "source": [
    "# GarageQual、GarageCondは6段階評価に直す\n",
    "train_new9 = copy.deepcopy(train_new8)\n",
    "test_new9 = copy.deepcopy(test_new8)\n",
    "\n",
    "train_new9['BsmtCond'] = train_new9['BsmtCond'].replace({\"Ex\":5,\"Gd\":4,\"TA\":3,\"Fa\":2,\"Po\":1})\n",
    "train_new9['BsmtCond'] = train_new9['BsmtCond'].fillna(0)\n",
    "print(train_new9['BsmtCond'].value_counts(),\"\\n\")\n",
    "\n",
    "test_new9['BsmtCond'] = test_new9['BsmtCond'].replace({\"Ex\":5,\"Gd\":4,\"TA\":3,\"Fa\":2,\"Po\":1})\n",
    "test_new9['BsmtCond'] = test_new9['BsmtCond'].fillna(0)\n",
    "print(test_new9['BsmtCond'].value_counts(),\"\\n\")\n",
    "\n",
    "train_new9['BsmtQual'] = train_new9['BsmtQual'].replace({\"Ex\":5,\"Gd\":4,\"TA\":3,\"Fa\":2,\"Po\":1})\n",
    "train_new9['BsmtQual'] = train_new9['BsmtQual'].fillna(0)\n",
    "print(train_new9['BsmtQual'].value_counts(),\"\\n\")\n",
    "\n",
    "test_new9['BsmtQual'] = test_new9['BsmtQual'].replace({\"Ex\":5,\"Gd\":4,\"TA\":3,\"Fa\":2,\"Po\":1})\n",
    "test_new9['BsmtQual'] = test_new9['BsmtQual'].fillna(0)\n",
    "print(test_new9['BsmtQual'].value_counts(),\"\\n\")"
   ]
  },
  {
   "cell_type": "markdown",
   "metadata": {},
   "source": [
    "---"
   ]
  },
  {
   "cell_type": "markdown",
   "metadata": {},
   "source": [
    "## BsmtExposure、BsmtFinType1、BsmtFinType2 数値化および補間"
   ]
  },
  {
   "cell_type": "code",
   "execution_count": 25,
   "metadata": {},
   "outputs": [
    {
     "name": "stdout",
     "output_type": "stream",
     "text": [
      "No    953\n",
      "Av    221\n",
      "Gd    134\n",
      "Mn    114\n",
      "Name: BsmtExposure, dtype: int64 \n",
      "\n",
      "No    951\n",
      "Av    197\n",
      "Gd    142\n",
      "Mn    125\n",
      "Name: BsmtExposure, dtype: int64 \n",
      "\n",
      "Unf    430\n",
      "GLQ    418\n",
      "ALQ    220\n",
      "BLQ    148\n",
      "Rec    133\n",
      "LwQ     74\n",
      "Name: BsmtFinType1, dtype: int64 \n",
      "\n",
      "GLQ    431\n",
      "Unf    421\n",
      "ALQ    209\n",
      "Rec    155\n",
      "BLQ    121\n",
      "LwQ     80\n",
      "Name: BsmtFinType1, dtype: int64 \n",
      "\n",
      "Unf    1256\n",
      "Rec      54\n",
      "LwQ      46\n",
      "BLQ      33\n",
      "ALQ      19\n",
      "GLQ      14\n",
      "Name: BsmtFinType2, dtype: int64 \n",
      "\n",
      "Unf    1237\n",
      "Rec      51\n",
      "LwQ      41\n",
      "BLQ      35\n",
      "ALQ      33\n",
      "GLQ      20\n",
      "Name: BsmtFinType2, dtype: int64 \n",
      "\n"
     ]
    }
   ],
   "source": [
    "print(train_new9['BsmtExposure'].value_counts(),\"\\n\")\n",
    "print(test_new9['BsmtExposure'].value_counts(),\"\\n\")\n",
    "print(train_new9['BsmtFinType1'].value_counts(),\"\\n\")\n",
    "print(test_new9['BsmtFinType1'].value_counts(),\"\\n\")\n",
    "print(train_new9['BsmtFinType2'].value_counts(),\"\\n\")\n",
    "print(test_new9['BsmtFinType2'].value_counts(),\"\\n\")"
   ]
  },
  {
   "cell_type": "code",
   "execution_count": 26,
   "metadata": {},
   "outputs": [
    {
     "name": "stdout",
     "output_type": "stream",
     "text": [
      "1.0    953\n",
      "3.0    221\n",
      "4.0    134\n",
      "2.0    114\n",
      "0.0     38\n",
      "Name: BsmtExposure, dtype: int64 \n",
      "\n",
      "1.0    951\n",
      "3.0    197\n",
      "4.0    142\n",
      "2.0    125\n",
      "0.0     44\n",
      "Name: BsmtExposure, dtype: int64 \n",
      "\n",
      "1.0    430\n",
      "6.0    418\n",
      "5.0    220\n",
      "4.0    148\n",
      "3.0    133\n",
      "2.0     74\n",
      "0.0     37\n",
      "Name: BsmtFinType1, dtype: int64 \n",
      "\n",
      "6.0    431\n",
      "1.0    421\n",
      "5.0    209\n",
      "3.0    155\n",
      "4.0    121\n",
      "2.0     80\n",
      "0.0     42\n",
      "Name: BsmtFinType1, dtype: int64 \n",
      "\n",
      "1.0    1256\n",
      "3.0      54\n",
      "2.0      46\n",
      "0.0      38\n",
      "4.0      33\n",
      "5.0      19\n",
      "6.0      14\n",
      "Name: BsmtFinType2, dtype: int64 \n",
      "\n",
      "1.0    1237\n",
      "3.0      51\n",
      "0.0      42\n",
      "2.0      41\n",
      "4.0      35\n",
      "5.0      33\n",
      "6.0      20\n",
      "Name: BsmtFinType2, dtype: int64 \n",
      "\n"
     ]
    }
   ],
   "source": [
    "# BsmtExposureは5段階評価、BsmtFinType1、BsmtFinType2は7段階評価\n",
    "train_new10 = copy.deepcopy(train_new9)\n",
    "test_new10 = copy.deepcopy(test_new9)\n",
    "\n",
    "train_new10['BsmtExposure'] = train_new10['BsmtExposure'].replace({\"Gd\":4,\"Av\":3,\"Mn\":2,\"No\":1})\n",
    "train_new10['BsmtExposure'] = train_new10['BsmtExposure'].fillna(0)\n",
    "print(train_new10['BsmtExposure'].value_counts(),\"\\n\")\n",
    "\n",
    "test_new10['BsmtExposure'] = test_new10['BsmtExposure'].replace({\"Gd\":4,\"Av\":3,\"Mn\":2,\"No\":1})\n",
    "test_new10['BsmtExposure'] = test_new10['BsmtExposure'].fillna(0)\n",
    "print(test_new10['BsmtExposure'].value_counts(),\"\\n\")\n",
    "\n",
    "train_new10['BsmtFinType1'] = train_new10['BsmtFinType1'].replace({\"GLQ\":6,\"ALQ\":5,\"BLQ\":4,\"Rec\":3,\"LwQ\":2, \"Unf\":1})\n",
    "train_new10['BsmtFinType1'] = train_new10['BsmtFinType1'].fillna(0)\n",
    "print(train_new10['BsmtFinType1'].value_counts(),\"\\n\")\n",
    "\n",
    "test_new10['BsmtFinType1'] = test_new10['BsmtFinType1'].replace({\"GLQ\":6,\"ALQ\":5,\"BLQ\":4,\"Rec\":3,\"LwQ\":2, \"Unf\":1})\n",
    "test_new10['BsmtFinType1'] = test_new10['BsmtFinType1'].fillna(0)\n",
    "print(test_new10['BsmtFinType1'].value_counts(),\"\\n\")\n",
    "\n",
    "train_new10['BsmtFinType2'] = train_new10['BsmtFinType2'].replace({\"GLQ\":6,\"ALQ\":5,\"BLQ\":4,\"Rec\":3,\"LwQ\":2, \"Unf\":1})\n",
    "train_new10['BsmtFinType2'] = train_new10['BsmtFinType2'].fillna(0)\n",
    "print(train_new10['BsmtFinType2'].value_counts(),\"\\n\")\n",
    "\n",
    "test_new10['BsmtFinType2'] = test_new10['BsmtFinType2'].replace({\"GLQ\":6,\"ALQ\":5,\"BLQ\":4,\"Rec\":3,\"LwQ\":2, \"Unf\":1})\n",
    "test_new10['BsmtFinType2'] = test_new10['BsmtFinType2'].fillna(0)\n",
    "print(test_new10['BsmtFinType2'].value_counts(),\"\\n\")"
   ]
  },
  {
   "cell_type": "markdown",
   "metadata": {},
   "source": [
    "---"
   ]
  },
  {
   "cell_type": "markdown",
   "metadata": {},
   "source": [
    "# BsmtFullBath、BsmtHalfBath、BsmtFinSF1、BsmtFinSF2、BsmtUnfSF、TotalBsmtSF 欠陥値は0"
   ]
  },
  {
   "cell_type": "markdown",
   "metadata": {},
   "source": [
    "地下がないんでしょう"
   ]
  },
  {
   "cell_type": "code",
   "execution_count": 27,
   "metadata": {},
   "outputs": [],
   "source": [
    "train_new11 = copy.deepcopy(train_new10)\n",
    "test_new11 = copy.deepcopy(test_new10)\n",
    "\n",
    "train_new11['BsmtFullBath'] = train_new11['BsmtFullBath'].fillna(0)\n",
    "test_new11['BsmtFullBath'] = test_new11['BsmtFullBath'].fillna(0)\n",
    "train_new11['BsmtHalfBath'] = train_new11['BsmtHalfBath'].fillna(0)\n",
    "test_new11['BsmtHalfBath'] = test_new11['BsmtHalfBath'].fillna(0)\n",
    "train_new11['BsmtFinSF1'] = train_new11['BsmtFinSF1'].fillna(0)\n",
    "test_new11['BsmtFinSF1'] = test_new11['BsmtFinSF1'].fillna(0)\n",
    "train_new11['BsmtFinSF2'] = train_new11['BsmtFinSF2'].fillna(0)\n",
    "test_new11['BsmtFinSF2'] = test_new11['BsmtFinSF2'].fillna(0)\n",
    "train_new11['BsmtUnfSF'] = train_new11['BsmtUnfSF'].fillna(0)\n",
    "test_new11['BsmtUnfSF'] = test_new11['BsmtUnfSF'].fillna(0)\n",
    "train_new11['TotalBsmtSF'] = train_new11['TotalBsmtSF'].fillna(0)\n",
    "test_new11['TotalBsmtSF'] = test_new11['TotalBsmtSF'].fillna(0)"
   ]
  },
  {
   "cell_type": "markdown",
   "metadata": {},
   "source": [
    "---"
   ]
  },
  {
   "cell_type": "markdown",
   "metadata": {},
   "source": [
    "# MasVnrType、MasVnrArea  "
   ]
  },
  {
   "cell_type": "code",
   "execution_count": 28,
   "metadata": {},
   "outputs": [],
   "source": [
    "# MasVnrTypeの欠損値はNone、、MasVnrAreaの欠損値は0\n",
    "train_new12 = copy.deepcopy(train_new11)\n",
    "test_new12 = copy.deepcopy(test_new11)\n",
    "\n",
    "train_new12['MasVnrType'] = train_new12['MasVnrType'].fillna(\"None\")\n",
    "test_new12['MasVnrType'] = test_new12['MasVnrType'].fillna(\"None\")\n",
    "train_new12['MasVnrArea'] = train_new12['MasVnrArea'].fillna(0)\n",
    "test_new12['MasVnrArea'] = test_new12['MasVnrArea'].fillna(0)\n"
   ]
  },
  {
   "cell_type": "markdown",
   "metadata": {},
   "source": [
    "---"
   ]
  },
  {
   "cell_type": "markdown",
   "metadata": {},
   "source": [
    "# MSZoning わからないのでとりあえず、最頻値で(欠損1個しかないし)"
   ]
  },
  {
   "cell_type": "code",
   "execution_count": 29,
   "metadata": {},
   "outputs": [
    {
     "name": "stdout",
     "output_type": "stream",
     "text": [
      "RL         1151\n",
      "RM          218\n",
      "FV           65\n",
      "RH           16\n",
      "C (all)      10\n",
      "Name: MSZoning, dtype: int64 \n",
      "\n",
      "RL         1114\n",
      "RM          242\n",
      "FV           74\n",
      "C (all)      15\n",
      "RH           10\n",
      "Name: MSZoning, dtype: int64 \n",
      "\n",
      "RL         1151\n",
      "RM          218\n",
      "FV           65\n",
      "RH           16\n",
      "C (all)      10\n",
      "Name: MSZoning, dtype: int64 \n",
      "\n",
      "RL         1118\n",
      "RM          242\n",
      "FV           74\n",
      "C (all)      15\n",
      "RH           10\n",
      "Name: MSZoning, dtype: int64 \n",
      "\n"
     ]
    }
   ],
   "source": [
    "# BsmtExposureは5段階評価、BsmtFinType1、BsmtFinType2は7段階評価\n",
    "train_new13 = copy.deepcopy(train_new12)\n",
    "test_new13 = copy.deepcopy(test_new12)\n",
    "\n",
    "print(train_new13['MSZoning'].value_counts(),\"\\n\")\n",
    "print(test_new13['MSZoning'].value_counts(),\"\\n\")\n",
    "\n",
    "train_new13['MSZoning'] = train_new13['MSZoning'].fillna(\"RL\")\n",
    "test_new13['MSZoning'] = test_new13['MSZoning'].fillna(\"RL\")\n",
    "\n",
    "print(train_new13['MSZoning'].value_counts(),\"\\n\")\n",
    "print(test_new13['MSZoning'].value_counts(),\"\\n\")"
   ]
  },
  {
   "cell_type": "markdown",
   "metadata": {},
   "source": [
    "---"
   ]
  },
  {
   "cell_type": "markdown",
   "metadata": {},
   "source": [
    "# Utilities データが偏りすぎているので使わない"
   ]
  },
  {
   "cell_type": "code",
   "execution_count": 30,
   "metadata": {},
   "outputs": [
    {
     "name": "stdout",
     "output_type": "stream",
     "text": [
      "AllPub    1459\n",
      "NoSeWa       1\n",
      "Name: Utilities, dtype: int64 \n",
      "\n",
      "AllPub    1457\n",
      "Name: Utilities, dtype: int64 \n",
      "\n"
     ]
    }
   ],
   "source": [
    "train_new14 = copy.deepcopy(train_new13)\n",
    "test_new14 = copy.deepcopy(test_new13)\n",
    "\n",
    "print(train_new14['Utilities'].value_counts(),\"\\n\")\n",
    "print(test_new14['Utilities'].value_counts(),\"\\n\")\n",
    "\n",
    "train_new14 = train_new14.drop(\"Utilities\", axis=1)\n",
    "test_new14 = test_new14.drop(\"Utilities\", axis=1)"
   ]
  },
  {
   "cell_type": "markdown",
   "metadata": {},
   "source": [
    "---"
   ]
  },
  {
   "cell_type": "markdown",
   "metadata": {},
   "source": [
    "# Functional 最頻値で問題なさそう(欠損1個しかないし)"
   ]
  },
  {
   "cell_type": "code",
   "execution_count": 31,
   "metadata": {},
   "outputs": [
    {
     "name": "stdout",
     "output_type": "stream",
     "text": [
      "Typ     1360\n",
      "Min2      34\n",
      "Min1      31\n",
      "Mod       15\n",
      "Maj1      14\n",
      "Maj2       5\n",
      "Sev        1\n",
      "Name: Functional, dtype: int64 \n",
      "\n",
      "Typ     1357\n",
      "Min2      36\n",
      "Min1      34\n",
      "Mod       20\n",
      "Maj1       5\n",
      "Maj2       4\n",
      "Sev        1\n",
      "Name: Functional, dtype: int64 \n",
      "\n",
      "Typ     1360\n",
      "Min2      34\n",
      "Min1      31\n",
      "Mod       15\n",
      "Maj1      14\n",
      "Maj2       5\n",
      "Sev        1\n",
      "Name: Functional, dtype: int64 \n",
      "\n",
      "Typ     1359\n",
      "Min2      36\n",
      "Min1      34\n",
      "Mod       20\n",
      "Maj1       5\n",
      "Maj2       4\n",
      "Sev        1\n",
      "Name: Functional, dtype: int64 \n",
      "\n"
     ]
    }
   ],
   "source": [
    "train_new15 = copy.deepcopy(train_new14)\n",
    "test_new15 = copy.deepcopy(test_new14)\n",
    "\n",
    "print(train_new15['Functional'].value_counts(),\"\\n\")\n",
    "print(test_new15['Functional'].value_counts(),\"\\n\")\n",
    "\n",
    "train_new15['Functional'] = train_new15['Functional'].fillna(\"Typ\")\n",
    "test_new15['Functional'] = test_new15['Functional'].fillna(\"Typ\")\n",
    "\n",
    "print(train_new15['Functional'].value_counts(),\"\\n\")\n",
    "print(test_new15['Functional'].value_counts(),\"\\n\")"
   ]
  },
  {
   "cell_type": "markdown",
   "metadata": {},
   "source": [
    "---"
   ]
  },
  {
   "cell_type": "markdown",
   "metadata": {},
   "source": [
    "# Exterior1st、Exterior2nd わからないのでとりあえず、最頻値で(欠損1個しかないし) "
   ]
  },
  {
   "cell_type": "code",
   "execution_count": 32,
   "metadata": {},
   "outputs": [
    {
     "name": "stdout",
     "output_type": "stream",
     "text": [
      "VinylSd    515\n",
      "HdBoard    222\n",
      "MetalSd    220\n",
      "Wd Sdng    206\n",
      "Plywood    108\n",
      "CemntBd     61\n",
      "BrkFace     50\n",
      "WdShing     26\n",
      "Stucco      25\n",
      "AsbShng     20\n",
      "BrkComm      2\n",
      "Stone        2\n",
      "AsphShn      1\n",
      "ImStucc      1\n",
      "CBlock       1\n",
      "Name: Exterior1st, dtype: int64 \n",
      "\n",
      "VinylSd    510\n",
      "MetalSd    230\n",
      "HdBoard    220\n",
      "Wd Sdng    205\n",
      "Plywood    113\n",
      "CemntBd     65\n",
      "BrkFace     37\n",
      "WdShing     30\n",
      "AsbShng     24\n",
      "Stucco      18\n",
      "BrkComm      4\n",
      "AsphShn      1\n",
      "CBlock       1\n",
      "Name: Exterior1st, dtype: int64 \n",
      "\n",
      "VinylSd    515\n",
      "HdBoard    222\n",
      "MetalSd    220\n",
      "Wd Sdng    206\n",
      "Plywood    108\n",
      "CemntBd     61\n",
      "BrkFace     50\n",
      "WdShing     26\n",
      "Stucco      25\n",
      "AsbShng     20\n",
      "BrkComm      2\n",
      "Stone        2\n",
      "AsphShn      1\n",
      "ImStucc      1\n",
      "CBlock       1\n",
      "Name: Exterior1st, dtype: int64 \n",
      "\n",
      "VinylSd    511\n",
      "MetalSd    230\n",
      "HdBoard    220\n",
      "Wd Sdng    205\n",
      "Plywood    113\n",
      "CemntBd     65\n",
      "BrkFace     37\n",
      "WdShing     30\n",
      "AsbShng     24\n",
      "Stucco      18\n",
      "BrkComm      4\n",
      "AsphShn      1\n",
      "CBlock       1\n",
      "Name: Exterior1st, dtype: int64 \n",
      "\n",
      "VinylSd    504\n",
      "MetalSd    214\n",
      "HdBoard    207\n",
      "Wd Sdng    197\n",
      "Plywood    142\n",
      "CmentBd     60\n",
      "Wd Shng     38\n",
      "Stucco      26\n",
      "BrkFace     25\n",
      "AsbShng     20\n",
      "ImStucc     10\n",
      "Brk Cmn      7\n",
      "Stone        5\n",
      "AsphShn      3\n",
      "Other        1\n",
      "CBlock       1\n",
      "Name: Exterior2nd, dtype: int64 \n",
      "\n",
      "VinylSd    510\n",
      "MetalSd    233\n",
      "HdBoard    199\n",
      "Wd Sdng    194\n",
      "Plywood    128\n",
      "CmentBd     66\n",
      "Wd Shng     43\n",
      "BrkFace     22\n",
      "Stucco      21\n",
      "AsbShng     18\n",
      "Brk Cmn     15\n",
      "ImStucc      5\n",
      "CBlock       2\n",
      "Stone        1\n",
      "AsphShn      1\n",
      "Name: Exterior2nd, dtype: int64 \n",
      "\n",
      "VinylSd    504\n",
      "MetalSd    214\n",
      "HdBoard    207\n",
      "Wd Sdng    197\n",
      "Plywood    142\n",
      "CmentBd     60\n",
      "Wd Shng     38\n",
      "Stucco      26\n",
      "BrkFace     25\n",
      "AsbShng     20\n",
      "ImStucc     10\n",
      "Brk Cmn      7\n",
      "Stone        5\n",
      "AsphShn      3\n",
      "Other        1\n",
      "CBlock       1\n",
      "Name: Exterior2nd, dtype: int64 \n",
      "\n",
      "VinylSd    511\n",
      "MetalSd    233\n",
      "HdBoard    199\n",
      "Wd Sdng    194\n",
      "Plywood    128\n",
      "CmentBd     66\n",
      "Wd Shng     43\n",
      "BrkFace     22\n",
      "Stucco      21\n",
      "AsbShng     18\n",
      "Brk Cmn     15\n",
      "ImStucc      5\n",
      "CBlock       2\n",
      "Stone        1\n",
      "AsphShn      1\n",
      "Name: Exterior2nd, dtype: int64 \n",
      "\n"
     ]
    }
   ],
   "source": [
    "train_new16 = copy.deepcopy(train_new15)\n",
    "test_new16 = copy.deepcopy(test_new15)\n",
    "\n",
    "print(train_new16['Exterior1st'].value_counts(),\"\\n\")\n",
    "print(test_new16['Exterior1st'].value_counts(),\"\\n\")\n",
    "\n",
    "train_new16['Exterior1st'] = train_new16['Exterior1st'].fillna(\"VinylSd\")\n",
    "test_new16['Exterior1st'] = test_new16['Exterior1st'].fillna(\"VinylSd\")\n",
    "\n",
    "print(train_new16['Exterior1st'].value_counts(),\"\\n\")\n",
    "print(test_new16['Exterior1st'].value_counts(),\"\\n\")\n",
    "\n",
    "print(train_new16['Exterior2nd'].value_counts(),\"\\n\")\n",
    "print(test_new16['Exterior2nd'].value_counts(),\"\\n\")\n",
    "\n",
    "train_new16['Exterior2nd'] = train_new16['Exterior2nd'].fillna(\"VinylSd\")\n",
    "test_new16['Exterior2nd'] = test_new16['Exterior2nd'].fillna(\"VinylSd\")\n",
    "\n",
    "print(train_new16['Exterior2nd'].value_counts(),\"\\n\")\n",
    "print(test_new16['Exterior2nd'].value_counts(),\"\\n\")\n"
   ]
  },
  {
   "cell_type": "markdown",
   "metadata": {},
   "source": [
    "---"
   ]
  },
  {
   "cell_type": "markdown",
   "metadata": {},
   "source": [
    "# KitchenQual 最頻値で(欠損1個しかないし)"
   ]
  },
  {
   "cell_type": "code",
   "execution_count": 33,
   "metadata": {},
   "outputs": [
    {
     "name": "stdout",
     "output_type": "stream",
     "text": [
      "TA    735\n",
      "Gd    586\n",
      "Ex    100\n",
      "Fa     39\n",
      "Name: KitchenQual, dtype: int64 \n",
      "\n",
      "TA    757\n",
      "Gd    565\n",
      "Ex    105\n",
      "Fa     31\n",
      "Name: KitchenQual, dtype: int64 \n",
      "\n",
      "2    735\n",
      "3    586\n",
      "4    100\n",
      "1     39\n",
      "Name: KitchenQual, dtype: int64 \n",
      "\n",
      "2.0    758\n",
      "3.0    565\n",
      "4.0    105\n",
      "1.0     31\n",
      "Name: KitchenQual, dtype: int64 \n",
      "\n"
     ]
    }
   ],
   "source": [
    "# kitchenの項目はNAがないので、kitchenがないわけではないので0ではない\n",
    "\n",
    "train_new17 = copy.deepcopy(train_new16)\n",
    "test_new17 = copy.deepcopy(test_new16)\n",
    "\n",
    "print(train_new17['KitchenQual'].value_counts(),\"\\n\")\n",
    "print(test_new17['KitchenQual'].value_counts(),\"\\n\")\n",
    "\n",
    "# Poはない\n",
    "train_new17['KitchenQual'] = train_new17['KitchenQual'].replace({\"Ex\":4,\"Gd\":3,\"TA\":2,\"Fa\":1})\n",
    "train_new17['KitchenQual'] = train_new17['KitchenQual'].fillna(2)\n",
    "test_new17['KitchenQual'] = test_new17['KitchenQual'].replace({\"Ex\":4,\"Gd\":3,\"TA\":2,\"Fa\":1})\n",
    "test_new17['KitchenQual'] = test_new17['KitchenQual'].fillna(2)\n",
    "print(train_new17['KitchenQual'].value_counts(),\"\\n\")\n",
    "print(test_new17['KitchenQual'].value_counts(),\"\\n\")"
   ]
  },
  {
   "cell_type": "markdown",
   "metadata": {},
   "source": [
    "---"
   ]
  },
  {
   "cell_type": "markdown",
   "metadata": {},
   "source": [
    "# SaleType 最頻値で(欠損1個しかないし)"
   ]
  },
  {
   "cell_type": "code",
   "execution_count": 34,
   "metadata": {},
   "outputs": [
    {
     "name": "stdout",
     "output_type": "stream",
     "text": [
      "WD       1267\n",
      "New       122\n",
      "COD        43\n",
      "ConLD       9\n",
      "ConLw       5\n",
      "ConLI       5\n",
      "CWD         4\n",
      "Oth         3\n",
      "Con         2\n",
      "Name: SaleType, dtype: int64 \n",
      "\n",
      "WD       1258\n",
      "New       117\n",
      "COD        44\n",
      "ConLD      17\n",
      "CWD         8\n",
      "Oth         4\n",
      "ConLI       4\n",
      "ConLw       3\n",
      "Con         3\n",
      "Name: SaleType, dtype: int64 \n",
      "\n",
      "WD       1267\n",
      "New       122\n",
      "COD        43\n",
      "ConLD       9\n",
      "ConLw       5\n",
      "ConLI       5\n",
      "CWD         4\n",
      "Oth         3\n",
      "Con         2\n",
      "Name: SaleType, dtype: int64 \n",
      "\n",
      "WD       1259\n",
      "New       117\n",
      "COD        44\n",
      "ConLD      17\n",
      "CWD         8\n",
      "Oth         4\n",
      "ConLI       4\n",
      "ConLw       3\n",
      "Con         3\n",
      "Name: SaleType, dtype: int64 \n",
      "\n"
     ]
    }
   ],
   "source": [
    "train_new18 = copy.deepcopy(train_new17)\n",
    "test_new18 = copy.deepcopy(test_new17)\n",
    "\n",
    "print(train_new18['SaleType'].value_counts(),\"\\n\")\n",
    "print(test_new18['SaleType'].value_counts(),\"\\n\")\n",
    "\n",
    "train_new18['SaleType'] = train_new16['SaleType'].fillna(\"WD\")\n",
    "test_new18['SaleType'] = test_new16['SaleType'].fillna(\"WD\")\n",
    "\n",
    "print(train_new18['SaleType'].value_counts(),\"\\n\")\n",
    "print(test_new18['SaleType'].value_counts(),\"\\n\")"
   ]
  },
  {
   "cell_type": "markdown",
   "metadata": {},
   "source": [
    "---"
   ]
  },
  {
   "cell_type": "markdown",
   "metadata": {},
   "source": [
    "# Electrical "
   ]
  },
  {
   "cell_type": "code",
   "execution_count": 35,
   "metadata": {},
   "outputs": [
    {
     "name": "stdout",
     "output_type": "stream",
     "text": [
      "SBrkr    1334\n",
      "FuseA      94\n",
      "FuseF      27\n",
      "FuseP       3\n",
      "Mix         1\n",
      "Name: Electrical, dtype: int64 \n",
      "\n",
      "SBrkr    1337\n",
      "FuseA      94\n",
      "FuseF      23\n",
      "FuseP       5\n",
      "Name: Electrical, dtype: int64 \n",
      "\n",
      "SBrkr    1335\n",
      "FuseA      94\n",
      "FuseF      27\n",
      "FuseP       3\n",
      "Mix         1\n",
      "Name: Electrical, dtype: int64 \n",
      "\n",
      "SBrkr    1337\n",
      "FuseA      94\n",
      "FuseF      23\n",
      "FuseP       5\n",
      "Name: Electrical, dtype: int64 \n",
      "\n"
     ]
    }
   ],
   "source": [
    "train_new19 = copy.deepcopy(train_new18)\n",
    "test_new19 = copy.deepcopy(test_new18)\n",
    "\n",
    "print(train_new19['Electrical'].value_counts(),\"\\n\")\n",
    "print(test_new19['Electrical'].value_counts(),\"\\n\")\n",
    "\n",
    "train_new19['Electrical'] = train_new19['Electrical'].fillna(\"SBrkr\")\n",
    "test_new19['Electrical'] = test_new19['Electrical'].fillna(\"SBrkr\")\n",
    "\n",
    "print(train_new19['Electrical'].value_counts(),\"\\n\")\n",
    "print(test_new19['Electrical'].value_counts(),\"\\n\")"
   ]
  },
  {
   "cell_type": "markdown",
   "metadata": {},
   "source": [
    "---\n",
    "ここまでの確認"
   ]
  },
  {
   "cell_type": "code",
   "execution_count": 36,
   "metadata": {},
   "outputs": [
    {
     "name": "stdout",
     "output_type": "stream",
     "text": [
      "Empty DataFrame\n",
      "Columns: [test null rate, train null rate]\n",
      "Index: []\n"
     ]
    }
   ],
   "source": [
    "df_null_rate_train2 = pd.DataFrame(train_new19.isnull().sum()/len(train))\n",
    "df_null_rate_test2 = pd.DataFrame(test_new19.isnull().sum()/len(test))\n",
    "df_null_rate2 = pd.concat([df_null_rate_test2[df_null_rate_test2.values>0], df_null_rate_train2[df_null_rate_train2.values>0]], axis=1, sort=False).fillna(0)\n",
    "df_null_rate2.columns = ['test null rate', 'train null rate']\n",
    "print(df_null_rate2.sort_values('test null rate', ascending=False))"
   ]
  },
  {
   "cell_type": "markdown",
   "metadata": {},
   "source": [
    "# 欠陥値なし"
   ]
  },
  {
   "cell_type": "markdown",
   "metadata": {},
   "source": [
    "---"
   ]
  },
  {
   "cell_type": "markdown",
   "metadata": {},
   "source": [
    "# その他の欠陥なしデータについて"
   ]
  },
  {
   "cell_type": "code",
   "execution_count": 37,
   "metadata": {},
   "outputs": [
    {
     "name": "stdout",
     "output_type": "stream",
     "text": [
      "['1stFlrSF', '2ndFlrSF', '3SsnPorch', 'BedroomAbvGr', 'BldgType', 'BsmtFinSF1', 'BsmtFinSF2', 'BsmtFullBath', 'BsmtHalfBath', 'BsmtUnfSF', 'CentralAir', 'Condition1', 'Condition2', 'EnclosedPorch', 'ExterCond', 'ExterQual', 'Exterior1st', 'Exterior2nd', 'Fireplaces', 'Foundation', 'FullBath', 'Functional', 'GarageArea', 'GarageCars', 'GrLivArea', 'HalfBath', 'Heating', 'HeatingQC', 'HouseStyle', 'Id', 'KitchenAbvGr', 'KitchenQual', 'LandContour', 'LandSlope', 'LotArea', 'LotConfig', 'LotShape', 'LowQualFinSF', 'MSSubClass', 'MSZoning', 'MiscVal', 'MoSold', 'Neighborhood', 'OpenPorchSF', 'OverallCond', 'OverallQual', 'PavedDrive', 'PoolArea', 'RoofMatl', 'RoofStyle', 'SaleCondition', 'SalePrice', 'SaleType', 'ScreenPorch', 'Street', 'TotRmsAbvGrd', 'TotalBsmtSF', 'Utilities', 'WoodDeckSF', 'YearBuilt', 'YearRemodAdd', 'YrSold']\n"
     ]
    }
   ],
   "source": [
    "chcek_train = df_null_rate_train[df_null_rate_train[[0]][0]==0].T.columns.tolist()\n",
    "chcek_test = df_null_rate_train[df_null_rate_train[[0]][0]==0].T.columns.tolist()\n",
    "check_list = chcek_train + chcek_test\n",
    "non_NA = [x for x in set(check_list) if check_list.count(x) > 1]\n",
    "print(sorted(non_NA))"
   ]
  },
  {
   "cell_type": "code",
   "execution_count": 38,
   "metadata": {},
   "outputs": [
    {
     "name": "stdout",
     "output_type": "stream",
     "text": [
      "1Fam      1205\n",
      "TwnhsE     113\n",
      "Duplex      57\n",
      "Twnhs       53\n",
      "2fmCon      31\n",
      "Name: BldgType, dtype: int64 \n",
      "\n"
     ]
    }
   ],
   "source": [
    "# print(train_new19['Utilities'].value_counts(),\"\\n\")\n",
    "print(test_new19['BldgType'].value_counts(),\"\\n\")"
   ]
  },
  {
   "cell_type": "code",
   "execution_count": 39,
   "metadata": {},
   "outputs": [],
   "source": [
    "# そのまま　\n",
    "# 1stFlrSF、2ndFlrSF、3SsnPorch、BedroomAbvGr、BsmtFinSF1、BsmtFinSF2、BsmtFullBath、BsmtHalfBath、BsmtUnfSF、EnclosedPorch、Exterior1st,FullBath、\n",
    "# Exterior2nd、Fireplaces、GarageArea、GarageCars、GrLivArea、HalfBath、KitchenAbvGr、KitchenQual、LotArea、LowQualFinSF、MiscVal、MoSold、OpenPorchSF、OverallCond,\n",
    "# OverallQual、PoolArea、TotRmsAbvGrd、TotalBsmtSF、WoodDeckSF、"
   ]
  },
  {
   "cell_type": "code",
   "execution_count": 40,
   "metadata": {},
   "outputs": [],
   "source": [
    "# 年度 \n",
    "# YearBuilt、YearRemodAdd、YrSold\n",
    "\n",
    "train_new20 = copy.deepcopy(train_new19)\n",
    "test_new20 = copy.deepcopy(test_new19)\n",
    "\n",
    "train_new20['YearBuilt'] = train_new20['YearBuilt']- int(train_new20['YearBuilt'].mean())\n",
    "test_new20['YearBuilt'] = test_new20['YearBuilt']- int(test_new20['YearBuilt'].mean())\n",
    "train_new20['YearRemodAdd'] = train_new20['YearRemodAdd']- int(train_new20['YearRemodAdd'].mean())\n",
    "test_new20['YearRemodAdd'] = test_new20['YearRemodAdd']- int(test_new20['YearRemodAdd'].mean())\n",
    "train_new20['YrSold'] = train_new20['YrSold']- int(train_new20['YrSold'].mean())\n",
    "test_new20['YrSold'] = test_new20['YrSold']- int(test_new20['YrSold'].mean())\n"
   ]
  },
  {
   "cell_type": "code",
   "execution_count": 41,
   "metadata": {},
   "outputs": [],
   "source": [
    "# 文字列(ダミー変数)に変更　BldgType、CentralAir、Condition1、Condition2、Foundation、Functional、Heating、HouseStyle、LandContour、LandSlope、Neighborhood\n",
    "# LotConfig、LotShape、MSZoning、PavedDrive、RoofMatl、RoofStyle、SaleCondition、SaleType、Street、\n",
    "# なぜか数値　MSSubClass\n",
    "\n",
    "train_new21 = copy.deepcopy(train_new20)\n",
    "test_new21 = copy.deepcopy(test_new20)\n",
    "\n",
    "dummies_list = [\"BldgType\",\"CentralAir\",\"Condition1\",\"Condition2\",\"Foundation\",\"Functional\",\"Heating\",\"HouseStyle\",\"LandContour\",\"LandSlope\",\n",
    "                \"Neighborhood\",\"LotConfig\",\"LotShape\",\"MSZoning\",\"PavedDrive\",\"RoofMatl\",\"RoofStyle\",\"SaleCondition\",\"SaleType\",\"Street\",\n",
    "                \"Exterior1st\", \"Exterior2nd\", \"MasVnrType\",\"Electrical\", \"GarageType\" ]\n",
    "\n",
    "for name in dummies_list:\n",
    "    train_new21 = pd.concat([train_new21, pd.get_dummies(train_new21[[name]])], axis=1)\n",
    "    test_new21 = pd.concat([test_new21, pd.get_dummies(test_new21[[name]])], axis=1)\n",
    "    train_new21 = train_new21.drop(name, axis=1)\n",
    "    \n",
    "\n",
    "train_new21 = pd.concat([train_new21,pd.get_dummies(train_new2[['MSSubClass']].astype(str))], axis=1)\n",
    "test_new21 = pd.concat([test_new21,pd.get_dummies(test_new2[['MSSubClass']].astype(str))], axis=1)\n",
    "train_new21 = train_new21.drop('MSSubClass', axis=1)\n",
    "\n"
   ]
  },
  {
   "cell_type": "code",
   "execution_count": 42,
   "metadata": {},
   "outputs": [],
   "source": [
    "# 数値に変更ExterCond、ExterQual、HeatingQC、、、\n",
    "train_new22 = copy.deepcopy(train_new21)\n",
    "test_new22 = copy.deepcopy(test_new21)\n",
    "\n",
    "train_new22['ExterCond'] = train_new22['ExterCond'].replace({\"Ex\":5,\"Gd\":4,\"TA\":3,\"Fa\":2,\"Po\":1})\n",
    "test_new22['ExterCond'] = test_new22['ExterCond'].replace({\"Ex\":5,\"Gd\":4,\"TA\":3,\"Fa\":2,\"Po\":1})\n",
    "train_new22['ExterQual'] = train_new22['ExterQual'].replace({\"Ex\":4,\"Gd\":3,\"TA\":2,\"Fa\":1})\n",
    "test_new22['ExterQual'] = test_new22['ExterQual'].replace({\"Ex\":4,\"Gd\":3,\"TA\":2,\"Fa\":1})\n",
    "train_new22['HeatingQC'] = train_new22['HeatingQC'].replace({\"Ex\":5,\"Gd\":4,\"TA\":3,\"Fa\":2,\"Po\":1})\n",
    "test_new22['HeatingQC'] = test_new22['HeatingQC'].replace({\"Ex\":5,\"Gd\":4,\"TA\":3,\"Fa\":2,\"Po\":1})"
   ]
  },
  {
   "cell_type": "code",
   "execution_count": 43,
   "metadata": {},
   "outputs": [],
   "source": [
    "# 削除する　ID\n",
    "train_new23 = copy.deepcopy(train_new22)\n",
    "test_new23 = copy.deepcopy(test_new22)\n",
    "\n",
    "train_new23 = train_new23.drop(\"Id\", axis = 1)\n",
    "test_new23 = test_new23.drop(\"Id\", axis = 1)"
   ]
  },
  {
   "cell_type": "markdown",
   "metadata": {},
   "source": [
    "---"
   ]
  },
  {
   "cell_type": "code",
   "execution_count": 44,
   "metadata": {},
   "outputs": [
    {
     "name": "stdout",
     "output_type": "stream",
     "text": [
      "1460 (1460, 240)\n"
     ]
    }
   ],
   "source": [
    "train_new24 = copy.deepcopy(train_new23)\n",
    "test_new24 = copy.deepcopy(test_new23)\n",
    "\n",
    "y_train = train_new24.SalePrice.values\n",
    "x_train = train_new24.drop(['SalePrice'], axis=1)\n",
    "\n",
    "print(len(y_train), x_train.shape)"
   ]
  },
  {
   "cell_type": "markdown",
   "metadata": {},
   "source": [
    "# 前処理終了"
   ]
  },
  {
   "cell_type": "markdown",
   "metadata": {},
   "source": [
    "---"
   ]
  },
  {
   "cell_type": "code",
   "execution_count": 45,
   "metadata": {},
   "outputs": [
    {
     "name": "stderr",
     "output_type": "stream",
     "text": [
      "/Users/mitsuhiro/.pyenv/versions/anaconda3-5.3.0/lib/python3.7/site-packages/sklearn/ensemble/weight_boosting.py:29: DeprecationWarning: numpy.core.umath_tests is an internal NumPy module and should not be imported. It will be removed in a future NumPy release.\n",
      "  from numpy.core.umath_tests import inner1d\n",
      "/Users/mitsuhiro/.pyenv/versions/anaconda3-5.3.0/lib/python3.7/site-packages/lightgbm/__init__.py:46: UserWarning: Starting from version 2.2.1, the library file in distribution wheels for macOS is built by the Apple Clang (Xcode_8.3.3) compiler.\n",
      "This means that in case of installing LightGBM from PyPI via the ``pip install lightgbm`` command, you don't need to install the gcc compiler anymore.\n",
      "Instead of that, you need to install the OpenMP library, which is required for running LightGBM on the system with the Apple Clang compiler.\n",
      "You can install the OpenMP library by the following command: ``brew install libomp``.\n",
      "  \"You can install the OpenMP library by the following command: ``brew install libomp``.\", UserWarning)\n"
     ]
    }
   ],
   "source": [
    "from sklearn.linear_model import ElasticNet, Lasso,  BayesianRidge, LassoLarsIC\n",
    "from sklearn.ensemble import RandomForestRegressor,  GradientBoostingRegressor\n",
    "from sklearn.kernel_ridge import KernelRidge\n",
    "from sklearn.pipeline import make_pipeline\n",
    "from sklearn.preprocessing import RobustScaler\n",
    "from sklearn.model_selection import KFold, cross_val_score, train_test_split\n",
    "from sklearn.metrics import mean_squared_error\n",
    "import xgboost as xgb\n",
    "import lightgbm as lgb\n",
    "import numpy as np\n",
    "import optuna"
   ]
  },
  {
   "cell_type": "code",
   "execution_count": 46,
   "metadata": {},
   "outputs": [],
   "source": [
    "def result(model):\n",
    "    kfold = KFold(n_splits=5, shuffle=True, random_state=0)\n",
    "    scores_msq = cross_val_score(model, x_train, y_train, cv = kfold, scoring='neg_mean_squared_error')\n",
    "    \n",
    "    scores = []\n",
    "    for score_msq in scores_msq:\n",
    "        scores.append(np.sqrt(-score_msq))\n",
    "        \n",
    "    return scores"
   ]
  },
  {
   "cell_type": "markdown",
   "metadata": {},
   "source": [
    "---"
   ]
  },
  {
   "cell_type": "code",
   "execution_count": 47,
   "metadata": {},
   "outputs": [],
   "source": [
    "def objective(trial):\n",
    "    '''\n",
    "    trial:set of hyperparameter    \n",
    "    '''\n",
    "    # hypyer param\n",
    "    n_estimators = trial.suggest_int('n_estimators', 50, 10000) # しっかりやるなら100以上\n",
    "    max_depth = trial.suggest_int('max_depth', 3, 20) # 深すぎると過学習になるかも...\n",
    "    max_features = trial.suggest_categorical('max_features', ['sqrt', 'auto', 'log2'])\n",
    "    colsample_bytree = trial.suggest_discrete_uniform('colsample_bytree', 0.5, 0.9, 0.1)\n",
    "    gamma = trial.suggest_discrete_uniform('gamma ', 0.2, 0.9, 0.1)\n",
    "    min_child_weight = trial.suggest_int('min_child_weight', 2, 20)\n",
    "    reg_alpha = trial.suggest_loguniform('reg_alpha', 1e-3, 1e3)\n",
    "    reg_lambda = trial.suggest_loguniform('reg_lambda', 1e-3, 1e3),\n",
    "    subsample  =   trial.suggest_discrete_uniform('subsample', 0.5, 1, .1)\n",
    "    random_state =  trial.suggest_int('random_state', 1, 10)\n",
    "    \n",
    "    \n",
    "    # model\n",
    "    model  = make_pipeline(RobustScaler(),\n",
    "                                xgb.XGBRegressor(\n",
    "                                n_estimators= n_estimators, \n",
    "                                max_depth=max_depth, \n",
    "                                max_features=max_features,\n",
    "                                colsample_bytree = colsample_bytree,\n",
    "                                gamma=gamma,\n",
    "                                min_child_weight=min_child_weight,\n",
    "                                reg_alpha=reg_alpha, \n",
    "#                                 reg_lambda=reg_lambda,\n",
    "                                subsample = subsample,\n",
    "                                learning_rate = 0.05,\n",
    "                                random_state =random_state)\n",
    "                             )\n",
    "\n",
    "    scores = result(model)\n",
    "    score =  np.mean(scores)\n",
    "    \n",
    "    return score"
   ]
  },
  {
   "cell_type": "code",
   "execution_count": 48,
   "metadata": {},
   "outputs": [
    {
     "name": "stderr",
     "output_type": "stream",
     "text": [
      "[W 2019-09-07 23:14:06,651] The range of parameter `gamma ` is not divisible by `q`, and is replaced by [0.2, 0.8].\n",
      "[W 2019-09-07 23:14:06,652] The range of parameter `gamma ` is not divisible by `q`, and is replaced by [0.2, 0.8].\n",
      "[W 2019-09-07 23:14:06,653] The range of parameter `gamma ` is not divisible by `q`, and is replaced by [0.2, 0.8].\n",
      "[W 2019-09-07 23:14:06,655] The range of parameter `gamma ` is not divisible by `q`, and is replaced by [0.2, 0.8].\n",
      "[W 2019-09-07 23:14:06,656] The range of parameter `gamma ` is not divisible by `q`, and is replaced by [0.2, 0.8].\n",
      "[W 2019-09-07 23:14:06,658] The range of parameter `gamma ` is not divisible by `q`, and is replaced by [0.2, 0.8].\n",
      "[W 2019-09-07 23:14:06,660] The range of parameter `gamma ` is not divisible by `q`, and is replaced by [0.2, 0.8].\n",
      "[W 2019-09-07 23:14:06,662] The range of parameter `gamma ` is not divisible by `q`, and is replaced by [0.2, 0.8].\n",
      "[W 2019-09-07 23:14:06,665] The range of parameter `subsample` is not divisible by `q`, and is replaced by [0.5, 0.9].\n",
      "[W 2019-09-07 23:14:06,669] The range of parameter `subsample` is not divisible by `q`, and is replaced by [0.5, 0.9].\n",
      "/Users/mitsuhiro/.pyenv/versions/anaconda3-5.3.0/lib/python3.7/site-packages/sklearn/externals/joblib/parallel.py:547: UserWarning: Multiprocessing-backed parallel loops cannot be nested below threads, setting n_jobs=1\n",
      "  **self._backend_args)\n",
      "/Users/mitsuhiro/.pyenv/versions/anaconda3-5.3.0/lib/python3.7/site-packages/sklearn/externals/joblib/parallel.py:547: UserWarning: Multiprocessing-backed parallel loops cannot be nested below threads, setting n_jobs=1\n",
      "  **self._backend_args)\n",
      "[W 2019-09-07 23:14:06,675] The range of parameter `subsample` is not divisible by `q`, and is replaced by [0.5, 0.9].\n",
      "/Users/mitsuhiro/.pyenv/versions/anaconda3-5.3.0/lib/python3.7/site-packages/sklearn/externals/joblib/parallel.py:547: UserWarning: Multiprocessing-backed parallel loops cannot be nested below threads, setting n_jobs=1\n",
      "  **self._backend_args)\n",
      "[W 2019-09-07 23:14:06,680] The range of parameter `subsample` is not divisible by `q`, and is replaced by [0.5, 0.9].\n",
      "/Users/mitsuhiro/.pyenv/versions/anaconda3-5.3.0/lib/python3.7/site-packages/sklearn/externals/joblib/parallel.py:547: UserWarning: Multiprocessing-backed parallel loops cannot be nested below threads, setting n_jobs=1\n",
      "  **self._backend_args)\n",
      "[W 2019-09-07 23:14:06,684] The range of parameter `subsample` is not divisible by `q`, and is replaced by [0.5, 0.9].\n",
      "/Users/mitsuhiro/.pyenv/versions/anaconda3-5.3.0/lib/python3.7/site-packages/sklearn/externals/joblib/parallel.py:547: UserWarning: Multiprocessing-backed parallel loops cannot be nested below threads, setting n_jobs=1\n",
      "  **self._backend_args)\n",
      "[W 2019-09-07 23:14:06,689] The range of parameter `subsample` is not divisible by `q`, and is replaced by [0.5, 0.9].\n",
      "/Users/mitsuhiro/.pyenv/versions/anaconda3-5.3.0/lib/python3.7/site-packages/sklearn/externals/joblib/parallel.py:547: UserWarning: Multiprocessing-backed parallel loops cannot be nested below threads, setting n_jobs=1\n",
      "  **self._backend_args)\n",
      "[W 2019-09-07 23:14:06,694] The range of parameter `subsample` is not divisible by `q`, and is replaced by [0.5, 0.9].\n",
      "/Users/mitsuhiro/.pyenv/versions/anaconda3-5.3.0/lib/python3.7/site-packages/sklearn/externals/joblib/parallel.py:547: UserWarning: Multiprocessing-backed parallel loops cannot be nested below threads, setting n_jobs=1\n",
      "  **self._backend_args)\n",
      "[W 2019-09-07 23:14:06,699] The range of parameter `subsample` is not divisible by `q`, and is replaced by [0.5, 0.9].\n",
      "/Users/mitsuhiro/.pyenv/versions/anaconda3-5.3.0/lib/python3.7/site-packages/sklearn/externals/joblib/parallel.py:547: UserWarning: Multiprocessing-backed parallel loops cannot be nested below threads, setting n_jobs=1\n",
      "  **self._backend_args)\n",
      "[I 2019-09-07 23:17:41,930] Finished trial#5 resulted in value: 0.6848330525024879. Current best value is 0.6848330525024879 with parameters: {'n_estimators': 1215, 'max_depth': 4, 'max_features': 'log2', 'colsample_bytree': 0.5, 'gamma ': 0.7, 'min_child_weight': 17, 'reg_alpha': 414.0261642433577, 'reg_lambda': 0.013482162875898577, 'subsample': 0.6, 'random_state': 8}.\n",
      "[W 2019-09-07 23:17:42,089] The range of parameter `gamma ` is not divisible by `q`, and is replaced by [0.2, 0.8].\n",
      "[W 2019-09-07 23:17:42,104] The range of parameter `subsample` is not divisible by `q`, and is replaced by [0.5, 0.9].\n",
      "/Users/mitsuhiro/.pyenv/versions/anaconda3-5.3.0/lib/python3.7/site-packages/sklearn/externals/joblib/parallel.py:547: UserWarning: Multiprocessing-backed parallel loops cannot be nested below threads, setting n_jobs=1\n",
      "  **self._backend_args)\n",
      "[I 2019-09-07 23:23:48,504] Finished trial#1 resulted in value: 0.16500170396369035. Current best value is 0.16500170396369035 with parameters: {'n_estimators': 2129, 'max_depth': 4, 'max_features': 'sqrt', 'colsample_bytree': 0.6, 'gamma ': 0.7, 'min_child_weight': 18, 'reg_alpha': 6.1858850066682605, 'reg_lambda': 0.0013439600126388548, 'subsample': 0.5, 'random_state': 2}.\n",
      "[W 2019-09-07 23:23:48,521] The range of parameter `gamma ` is not divisible by `q`, and is replaced by [0.2, 0.8].\n",
      "[W 2019-09-07 23:23:48,536] The range of parameter `subsample` is not divisible by `q`, and is replaced by [0.5, 0.9].\n",
      "/Users/mitsuhiro/.pyenv/versions/anaconda3-5.3.0/lib/python3.7/site-packages/sklearn/externals/joblib/parallel.py:547: UserWarning: Multiprocessing-backed parallel loops cannot be nested below threads, setting n_jobs=1\n",
      "  **self._backend_args)\n",
      "[I 2019-09-07 23:24:38,119] Finished trial#2 resulted in value: 0.14184531807855255. Current best value is 0.14184531807855255 with parameters: {'n_estimators': 1062, 'max_depth': 11, 'max_features': 'auto', 'colsample_bytree': 0.8, 'gamma ': 0.5, 'min_child_weight': 12, 'reg_alpha': 0.5007824348584099, 'reg_lambda': 4.668076904903761, 'subsample': 0.6, 'random_state': 7}.\n",
      "[W 2019-09-07 23:24:38,289] The range of parameter `gamma ` is not divisible by `q`, and is replaced by [0.2, 0.8].\n",
      "[W 2019-09-07 23:24:38,302] The range of parameter `subsample` is not divisible by `q`, and is replaced by [0.5, 0.9].\n",
      "/Users/mitsuhiro/.pyenv/versions/anaconda3-5.3.0/lib/python3.7/site-packages/sklearn/externals/joblib/parallel.py:547: UserWarning: Multiprocessing-backed parallel loops cannot be nested below threads, setting n_jobs=1\n",
      "  **self._backend_args)\n",
      "[I 2019-09-07 23:25:30,862] Finished trial#9 resulted in value: 0.14121280699361138. Current best value is 0.14121280699361138 with parameters: {'n_estimators': 211, 'max_depth': 18, 'max_features': 'auto', 'colsample_bytree': 0.5, 'gamma ': 0.5, 'min_child_weight': 19, 'reg_alpha': 0.07779795473240841, 'reg_lambda': 0.02286853556247711, 'subsample': 0.9, 'random_state': 3}.\n",
      "[W 2019-09-07 23:25:31,014] The range of parameter `gamma ` is not divisible by `q`, and is replaced by [0.2, 0.8].\n",
      "[W 2019-09-07 23:25:31,029] The range of parameter `subsample` is not divisible by `q`, and is replaced by [0.5, 0.9].\n",
      "/Users/mitsuhiro/.pyenv/versions/anaconda3-5.3.0/lib/python3.7/site-packages/sklearn/externals/joblib/parallel.py:547: UserWarning: Multiprocessing-backed parallel loops cannot be nested below threads, setting n_jobs=1\n",
      "  **self._backend_args)\n",
      "[I 2019-09-07 23:26:18,924] Finished trial#11 resulted in value: 0.14038431231938014. Current best value is 0.14038431231938014 with parameters: {'n_estimators': 133, 'max_depth': 11, 'max_features': 'log2', 'colsample_bytree': 0.6, 'gamma ': 0.30000000000000004, 'min_child_weight': 11, 'reg_alpha': 0.044984552887972935, 'reg_lambda': 0.00367265837932214, 'subsample': 0.5, 'random_state': 1}.\n",
      "[W 2019-09-07 23:26:19,050] The range of parameter `gamma ` is not divisible by `q`, and is replaced by [0.2, 0.8].\n",
      "[W 2019-09-07 23:26:19,127] The range of parameter `subsample` is not divisible by `q`, and is replaced by [0.5, 0.9].\n",
      "/Users/mitsuhiro/.pyenv/versions/anaconda3-5.3.0/lib/python3.7/site-packages/sklearn/externals/joblib/parallel.py:547: UserWarning: Multiprocessing-backed parallel loops cannot be nested below threads, setting n_jobs=1\n",
      "  **self._backend_args)\n"
     ]
    },
    {
     "name": "stderr",
     "output_type": "stream",
     "text": [
      "[I 2019-09-07 23:27:40,142] Finished trial#3 resulted in value: 0.14462866088366622. Current best value is 0.14038431231938014 with parameters: {'n_estimators': 133, 'max_depth': 11, 'max_features': 'log2', 'colsample_bytree': 0.6, 'gamma ': 0.30000000000000004, 'min_child_weight': 11, 'reg_alpha': 0.044984552887972935, 'reg_lambda': 0.00367265837932214, 'subsample': 0.5, 'random_state': 1}.\n",
      "[W 2019-09-07 23:27:40,261] The range of parameter `gamma ` is not divisible by `q`, and is replaced by [0.2, 0.8].\n",
      "[W 2019-09-07 23:27:40,306] The range of parameter `subsample` is not divisible by `q`, and is replaced by [0.5, 0.9].\n",
      "/Users/mitsuhiro/.pyenv/versions/anaconda3-5.3.0/lib/python3.7/site-packages/sklearn/externals/joblib/parallel.py:547: UserWarning: Multiprocessing-backed parallel loops cannot be nested below threads, setting n_jobs=1\n",
      "  **self._backend_args)\n",
      "[I 2019-09-07 23:34:48,192] Finished trial#6 resulted in value: 0.45053012530886355. Current best value is 0.14038431231938014 with parameters: {'n_estimators': 133, 'max_depth': 11, 'max_features': 'log2', 'colsample_bytree': 0.6, 'gamma ': 0.30000000000000004, 'min_child_weight': 11, 'reg_alpha': 0.044984552887972935, 'reg_lambda': 0.00367265837932214, 'subsample': 0.5, 'random_state': 1}.\n",
      "[W 2019-09-07 23:34:48,217] The range of parameter `gamma ` is not divisible by `q`, and is replaced by [0.2, 0.8].\n",
      "[W 2019-09-07 23:34:48,246] The range of parameter `subsample` is not divisible by `q`, and is replaced by [0.5, 0.9].\n",
      "/Users/mitsuhiro/.pyenv/versions/anaconda3-5.3.0/lib/python3.7/site-packages/sklearn/externals/joblib/parallel.py:547: UserWarning: Multiprocessing-backed parallel loops cannot be nested below threads, setting n_jobs=1\n",
      "  **self._backend_args)\n",
      "[I 2019-09-07 23:39:41,098] Finished trial#0 resulted in value: 0.1554026880180488. Current best value is 0.14038431231938014 with parameters: {'n_estimators': 133, 'max_depth': 11, 'max_features': 'log2', 'colsample_bytree': 0.6, 'gamma ': 0.30000000000000004, 'min_child_weight': 11, 'reg_alpha': 0.044984552887972935, 'reg_lambda': 0.00367265837932214, 'subsample': 0.5, 'random_state': 1}.\n",
      "[W 2019-09-07 23:39:41,251] The range of parameter `gamma ` is not divisible by `q`, and is replaced by [0.2, 0.8].\n",
      "[W 2019-09-07 23:39:41,263] The range of parameter `subsample` is not divisible by `q`, and is replaced by [0.5, 0.9].\n",
      "/Users/mitsuhiro/.pyenv/versions/anaconda3-5.3.0/lib/python3.7/site-packages/sklearn/externals/joblib/parallel.py:547: UserWarning: Multiprocessing-backed parallel loops cannot be nested below threads, setting n_jobs=1\n",
      "  **self._backend_args)\n",
      "[I 2019-09-07 23:42:47,430] Finished trial#7 resulted in value: 0.32071944230989313. Current best value is 0.14038431231938014 with parameters: {'n_estimators': 133, 'max_depth': 11, 'max_features': 'log2', 'colsample_bytree': 0.6, 'gamma ': 0.30000000000000004, 'min_child_weight': 11, 'reg_alpha': 0.044984552887972935, 'reg_lambda': 0.00367265837932214, 'subsample': 0.5, 'random_state': 1}.\n",
      "[W 2019-09-07 23:42:47,448] The range of parameter `gamma ` is not divisible by `q`, and is replaced by [0.2, 0.8].\n",
      "[W 2019-09-07 23:42:47,513] The range of parameter `subsample` is not divisible by `q`, and is replaced by [0.5, 0.9].\n",
      "/Users/mitsuhiro/.pyenv/versions/anaconda3-5.3.0/lib/python3.7/site-packages/sklearn/externals/joblib/parallel.py:547: UserWarning: Multiprocessing-backed parallel loops cannot be nested below threads, setting n_jobs=1\n",
      "  **self._backend_args)\n",
      "[I 2019-09-07 23:43:45,184] Finished trial#13 resulted in value: 0.6800838916141798. Current best value is 0.14038431231938014 with parameters: {'n_estimators': 133, 'max_depth': 11, 'max_features': 'log2', 'colsample_bytree': 0.6, 'gamma ': 0.30000000000000004, 'min_child_weight': 11, 'reg_alpha': 0.044984552887972935, 'reg_lambda': 0.00367265837932214, 'subsample': 0.5, 'random_state': 1}.\n",
      "[W 2019-09-07 23:43:45,259] The range of parameter `gamma ` is not divisible by `q`, and is replaced by [0.2, 0.8].\n",
      "[W 2019-09-07 23:43:45,335] The range of parameter `subsample` is not divisible by `q`, and is replaced by [0.5, 0.9].\n",
      "/Users/mitsuhiro/.pyenv/versions/anaconda3-5.3.0/lib/python3.7/site-packages/sklearn/externals/joblib/parallel.py:547: UserWarning: Multiprocessing-backed parallel loops cannot be nested below threads, setting n_jobs=1\n",
      "  **self._backend_args)\n",
      "[I 2019-09-07 23:44:57,726] Finished trial#10 resulted in value: 0.28752394468885467. Current best value is 0.14038431231938014 with parameters: {'n_estimators': 133, 'max_depth': 11, 'max_features': 'log2', 'colsample_bytree': 0.6, 'gamma ': 0.30000000000000004, 'min_child_weight': 11, 'reg_alpha': 0.044984552887972935, 'reg_lambda': 0.00367265837932214, 'subsample': 0.5, 'random_state': 1}.\n",
      "[W 2019-09-07 23:44:57,828] The range of parameter `gamma ` is not divisible by `q`, and is replaced by [0.2, 0.8].\n",
      "[W 2019-09-07 23:44:57,893] The range of parameter `subsample` is not divisible by `q`, and is replaced by [0.5, 0.9].\n",
      "/Users/mitsuhiro/.pyenv/versions/anaconda3-5.3.0/lib/python3.7/site-packages/sklearn/externals/joblib/parallel.py:547: UserWarning: Multiprocessing-backed parallel loops cannot be nested below threads, setting n_jobs=1\n",
      "  **self._backend_args)\n",
      "[I 2019-09-07 23:58:20,688] Finished trial#8 resulted in value: 0.8137255113198589. Current best value is 0.14038431231938014 with parameters: {'n_estimators': 133, 'max_depth': 11, 'max_features': 'log2', 'colsample_bytree': 0.6, 'gamma ': 0.30000000000000004, 'min_child_weight': 11, 'reg_alpha': 0.044984552887972935, 'reg_lambda': 0.00367265837932214, 'subsample': 0.5, 'random_state': 1}.\n",
      "[W 2019-09-07 23:58:20,888] The range of parameter `gamma ` is not divisible by `q`, and is replaced by [0.2, 0.8].\n",
      "[W 2019-09-07 23:58:20,955] The range of parameter `subsample` is not divisible by `q`, and is replaced by [0.5, 0.9].\n",
      "/Users/mitsuhiro/.pyenv/versions/anaconda3-5.3.0/lib/python3.7/site-packages/sklearn/externals/joblib/parallel.py:547: UserWarning: Multiprocessing-backed parallel loops cannot be nested below threads, setting n_jobs=1\n",
      "  **self._backend_args)\n",
      "[I 2019-09-08 00:15:45,120] Finished trial#4 resulted in value: 0.13794954347022564. Current best value is 0.13794954347022564 with parameters: {'n_estimators': 4253, 'max_depth': 10, 'max_features': 'sqrt', 'colsample_bytree': 0.9, 'gamma ': 0.5, 'min_child_weight': 11, 'reg_alpha': 0.0015674518372101375, 'reg_lambda': 42.3376819602274, 'subsample': 0.7, 'random_state': 8}.\n",
      "[W 2019-09-08 00:15:45,266] The range of parameter `gamma ` is not divisible by `q`, and is replaced by [0.2, 0.8].\n",
      "[W 2019-09-08 00:15:45,359] The range of parameter `subsample` is not divisible by `q`, and is replaced by [0.5, 0.9].\n",
      "/Users/mitsuhiro/.pyenv/versions/anaconda3-5.3.0/lib/python3.7/site-packages/sklearn/externals/joblib/parallel.py:547: UserWarning: Multiprocessing-backed parallel loops cannot be nested below threads, setting n_jobs=1\n",
      "  **self._backend_args)\n",
      "[I 2019-09-08 00:25:06,706] Finished trial#12 resulted in value: 0.1284040332136444. Current best value is 0.1284040332136444 with parameters: {'n_estimators': 7329, 'max_depth': 8, 'max_features': 'auto', 'colsample_bytree': 0.5, 'gamma ': 0.2, 'min_child_weight': 9, 'reg_alpha': 0.044239723020668115, 'reg_lambda': 86.42374664918214, 'subsample': 0.6, 'random_state': 10}.\n",
      "[W 2019-09-08 00:25:06,843] The range of parameter `gamma ` is not divisible by `q`, and is replaced by [0.2, 0.8].\n",
      "[W 2019-09-08 00:25:06,875] The range of parameter `subsample` is not divisible by `q`, and is replaced by [0.5, 0.9].\n",
      "/Users/mitsuhiro/.pyenv/versions/anaconda3-5.3.0/lib/python3.7/site-packages/sklearn/externals/joblib/parallel.py:547: UserWarning: Multiprocessing-backed parallel loops cannot be nested below threads, setting n_jobs=1\n",
      "  **self._backend_args)\n"
     ]
    },
    {
     "name": "stderr",
     "output_type": "stream",
     "text": [
      "[I 2019-09-08 00:45:21,844] Finished trial#14 resulted in value: 0.14503405305163444. Current best value is 0.1284040332136444 with parameters: {'n_estimators': 7329, 'max_depth': 8, 'max_features': 'auto', 'colsample_bytree': 0.5, 'gamma ': 0.2, 'min_child_weight': 9, 'reg_alpha': 0.044239723020668115, 'reg_lambda': 86.42374664918214, 'subsample': 0.6, 'random_state': 10}.\n",
      "[W 2019-09-08 00:45:21,976] The range of parameter `gamma ` is not divisible by `q`, and is replaced by [0.2, 0.8].\n",
      "[W 2019-09-08 00:45:22,058] The range of parameter `subsample` is not divisible by `q`, and is replaced by [0.5, 0.9].\n",
      "/Users/mitsuhiro/.pyenv/versions/anaconda3-5.3.0/lib/python3.7/site-packages/sklearn/externals/joblib/parallel.py:547: UserWarning: Multiprocessing-backed parallel loops cannot be nested below threads, setting n_jobs=1\n",
      "  **self._backend_args)\n",
      "[I 2019-09-08 00:51:54,005] Finished trial#15 resulted in value: 0.2604125922620281. Current best value is 0.1284040332136444 with parameters: {'n_estimators': 7329, 'max_depth': 8, 'max_features': 'auto', 'colsample_bytree': 0.5, 'gamma ': 0.2, 'min_child_weight': 9, 'reg_alpha': 0.044239723020668115, 'reg_lambda': 86.42374664918214, 'subsample': 0.6, 'random_state': 10}.\n",
      "[W 2019-09-08 00:51:54,080] The range of parameter `gamma ` is not divisible by `q`, and is replaced by [0.2, 0.8].\n",
      "[W 2019-09-08 00:51:54,152] The range of parameter `subsample` is not divisible by `q`, and is replaced by [0.5, 0.9].\n",
      "/Users/mitsuhiro/.pyenv/versions/anaconda3-5.3.0/lib/python3.7/site-packages/sklearn/externals/joblib/parallel.py:547: UserWarning: Multiprocessing-backed parallel loops cannot be nested below threads, setting n_jobs=1\n",
      "  **self._backend_args)\n",
      "[I 2019-09-08 00:54:24,403] Finished trial#18 resulted in value: 0.127929426315511. Current best value is 0.127929426315511 with parameters: {'n_estimators': 8476, 'max_depth': 9, 'max_features': 'log2', 'colsample_bytree': 0.5, 'gamma ': 0.2, 'min_child_weight': 2, 'reg_alpha': 0.0012445278670902623, 'reg_lambda': 0.0011044425405502968, 'subsample': 0.5, 'random_state': 5}.\n",
      "[W 2019-09-08 00:54:24,521] The range of parameter `gamma ` is not divisible by `q`, and is replaced by [0.2, 0.8].\n",
      "[W 2019-09-08 00:54:24,579] The range of parameter `subsample` is not divisible by `q`, and is replaced by [0.5, 0.9].\n",
      "/Users/mitsuhiro/.pyenv/versions/anaconda3-5.3.0/lib/python3.7/site-packages/sklearn/externals/joblib/parallel.py:547: UserWarning: Multiprocessing-backed parallel loops cannot be nested below threads, setting n_jobs=1\n",
      "  **self._backend_args)\n",
      "[I 2019-09-08 00:56:24,911] Finished trial#17 resulted in value: 0.12538519752626726. Current best value is 0.12538519752626726 with parameters: {'n_estimators': 8832, 'max_depth': 9, 'max_features': 'log2', 'colsample_bytree': 0.5, 'gamma ': 0.2, 'min_child_weight': 2, 'reg_alpha': 0.0014314734047097576, 'reg_lambda': 337.9401010505051, 'subsample': 0.5, 'random_state': 4}.\n",
      "[W 2019-09-08 00:56:25,066] The range of parameter `gamma ` is not divisible by `q`, and is replaced by [0.2, 0.8].\n",
      "[W 2019-09-08 00:56:25,148] The range of parameter `subsample` is not divisible by `q`, and is replaced by [0.5, 0.9].\n",
      "/Users/mitsuhiro/.pyenv/versions/anaconda3-5.3.0/lib/python3.7/site-packages/sklearn/externals/joblib/parallel.py:547: UserWarning: Multiprocessing-backed parallel loops cannot be nested below threads, setting n_jobs=1\n",
      "  **self._backend_args)\n",
      "[I 2019-09-08 00:57:27,201] Finished trial#16 resulted in value: 0.14218305521340546. Current best value is 0.12538519752626726 with parameters: {'n_estimators': 8832, 'max_depth': 9, 'max_features': 'log2', 'colsample_bytree': 0.5, 'gamma ': 0.2, 'min_child_weight': 2, 'reg_alpha': 0.0014314734047097576, 'reg_lambda': 337.9401010505051, 'subsample': 0.5, 'random_state': 4}.\n",
      "[W 2019-09-08 00:57:27,298] The range of parameter `gamma ` is not divisible by `q`, and is replaced by [0.2, 0.8].\n",
      "[W 2019-09-08 00:57:27,432] The range of parameter `subsample` is not divisible by `q`, and is replaced by [0.5, 0.9].\n",
      "/Users/mitsuhiro/.pyenv/versions/anaconda3-5.3.0/lib/python3.7/site-packages/sklearn/externals/joblib/parallel.py:547: UserWarning: Multiprocessing-backed parallel loops cannot be nested below threads, setting n_jobs=1\n",
      "  **self._backend_args)\n",
      "[I 2019-09-08 01:04:19,537] Finished trial#19 resulted in value: 0.12652945537367086. Current best value is 0.12538519752626726 with parameters: {'n_estimators': 8832, 'max_depth': 9, 'max_features': 'log2', 'colsample_bytree': 0.5, 'gamma ': 0.2, 'min_child_weight': 2, 'reg_alpha': 0.0014314734047097576, 'reg_lambda': 337.9401010505051, 'subsample': 0.5, 'random_state': 4}.\n",
      "[W 2019-09-08 01:04:19,733] The range of parameter `gamma ` is not divisible by `q`, and is replaced by [0.2, 0.8].\n",
      "[W 2019-09-08 01:04:19,840] The range of parameter `subsample` is not divisible by `q`, and is replaced by [0.5, 0.9].\n",
      "/Users/mitsuhiro/.pyenv/versions/anaconda3-5.3.0/lib/python3.7/site-packages/sklearn/externals/joblib/parallel.py:547: UserWarning: Multiprocessing-backed parallel loops cannot be nested below threads, setting n_jobs=1\n",
      "  **self._backend_args)\n",
      "[I 2019-09-08 01:13:56,161] Finished trial#20 resulted in value: 0.1433008772137137. Current best value is 0.12538519752626726 with parameters: {'n_estimators': 8832, 'max_depth': 9, 'max_features': 'log2', 'colsample_bytree': 0.5, 'gamma ': 0.2, 'min_child_weight': 2, 'reg_alpha': 0.0014314734047097576, 'reg_lambda': 337.9401010505051, 'subsample': 0.5, 'random_state': 4}.\n",
      "[W 2019-09-08 01:13:56,416] The range of parameter `gamma ` is not divisible by `q`, and is replaced by [0.2, 0.8].\n",
      "[W 2019-09-08 01:13:56,465] The range of parameter `subsample` is not divisible by `q`, and is replaced by [0.5, 0.9].\n",
      "/Users/mitsuhiro/.pyenv/versions/anaconda3-5.3.0/lib/python3.7/site-packages/sklearn/externals/joblib/parallel.py:547: UserWarning: Multiprocessing-backed parallel loops cannot be nested below threads, setting n_jobs=1\n",
      "  **self._backend_args)\n",
      "[I 2019-09-08 01:29:13,262] Finished trial#21 resulted in value: 0.12672967336684565. Current best value is 0.12538519752626726 with parameters: {'n_estimators': 8832, 'max_depth': 9, 'max_features': 'log2', 'colsample_bytree': 0.5, 'gamma ': 0.2, 'min_child_weight': 2, 'reg_alpha': 0.0014314734047097576, 'reg_lambda': 337.9401010505051, 'subsample': 0.5, 'random_state': 4}.\n",
      "[W 2019-09-08 01:29:13,396] The range of parameter `gamma ` is not divisible by `q`, and is replaced by [0.2, 0.8].\n",
      "[W 2019-09-08 01:29:13,499] The range of parameter `subsample` is not divisible by `q`, and is replaced by [0.5, 0.9].\n",
      "/Users/mitsuhiro/.pyenv/versions/anaconda3-5.3.0/lib/python3.7/site-packages/sklearn/externals/joblib/parallel.py:547: UserWarning: Multiprocessing-backed parallel loops cannot be nested below threads, setting n_jobs=1\n",
      "  **self._backend_args)\n",
      "[I 2019-09-08 01:40:32,776] Finished trial#23 resulted in value: 0.12808775461563401. Current best value is 0.12538519752626726 with parameters: {'n_estimators': 8832, 'max_depth': 9, 'max_features': 'log2', 'colsample_bytree': 0.5, 'gamma ': 0.2, 'min_child_weight': 2, 'reg_alpha': 0.0014314734047097576, 'reg_lambda': 337.9401010505051, 'subsample': 0.5, 'random_state': 4}.\n",
      "[W 2019-09-08 01:40:32,989] The range of parameter `gamma ` is not divisible by `q`, and is replaced by [0.2, 0.8].\n",
      "[W 2019-09-08 01:40:33,157] The range of parameter `subsample` is not divisible by `q`, and is replaced by [0.5, 0.9].\n",
      "/Users/mitsuhiro/.pyenv/versions/anaconda3-5.3.0/lib/python3.7/site-packages/sklearn/externals/joblib/parallel.py:547: UserWarning: Multiprocessing-backed parallel loops cannot be nested below threads, setting n_jobs=1\n",
      "  **self._backend_args)\n",
      "[I 2019-09-08 01:47:10,640] Finished trial#22 resulted in value: 0.12637326047631064. Current best value is 0.12538519752626726 with parameters: {'n_estimators': 8832, 'max_depth': 9, 'max_features': 'log2', 'colsample_bytree': 0.5, 'gamma ': 0.2, 'min_child_weight': 2, 'reg_alpha': 0.0014314734047097576, 'reg_lambda': 337.9401010505051, 'subsample': 0.5, 'random_state': 4}.\n"
     ]
    },
    {
     "name": "stderr",
     "output_type": "stream",
     "text": [
      "[W 2019-09-08 01:47:10,787] The range of parameter `gamma ` is not divisible by `q`, and is replaced by [0.2, 0.8].\n",
      "[W 2019-09-08 01:47:10,822] The range of parameter `subsample` is not divisible by `q`, and is replaced by [0.5, 0.9].\n",
      "/Users/mitsuhiro/.pyenv/versions/anaconda3-5.3.0/lib/python3.7/site-packages/sklearn/externals/joblib/parallel.py:547: UserWarning: Multiprocessing-backed parallel loops cannot be nested below threads, setting n_jobs=1\n",
      "  **self._backend_args)\n",
      "[I 2019-09-08 01:53:40,324] Finished trial#24 resulted in value: 0.12759290029295806. Current best value is 0.12538519752626726 with parameters: {'n_estimators': 8832, 'max_depth': 9, 'max_features': 'log2', 'colsample_bytree': 0.5, 'gamma ': 0.2, 'min_child_weight': 2, 'reg_alpha': 0.0014314734047097576, 'reg_lambda': 337.9401010505051, 'subsample': 0.5, 'random_state': 4}.\n",
      "[W 2019-09-08 01:53:40,492] The range of parameter `gamma ` is not divisible by `q`, and is replaced by [0.2, 0.8].\n",
      "[W 2019-09-08 01:53:40,633] The range of parameter `subsample` is not divisible by `q`, and is replaced by [0.5, 0.9].\n",
      "/Users/mitsuhiro/.pyenv/versions/anaconda3-5.3.0/lib/python3.7/site-packages/sklearn/externals/joblib/parallel.py:547: UserWarning: Multiprocessing-backed parallel loops cannot be nested below threads, setting n_jobs=1\n",
      "  **self._backend_args)\n",
      "[I 2019-09-08 02:00:14,354] Finished trial#25 resulted in value: 0.12742971555493682. Current best value is 0.12538519752626726 with parameters: {'n_estimators': 8832, 'max_depth': 9, 'max_features': 'log2', 'colsample_bytree': 0.5, 'gamma ': 0.2, 'min_child_weight': 2, 'reg_alpha': 0.0014314734047097576, 'reg_lambda': 337.9401010505051, 'subsample': 0.5, 'random_state': 4}.\n",
      "[W 2019-09-08 02:00:14,471] The range of parameter `gamma ` is not divisible by `q`, and is replaced by [0.2, 0.8].\n",
      "[W 2019-09-08 02:00:14,627] The range of parameter `subsample` is not divisible by `q`, and is replaced by [0.5, 0.9].\n",
      "/Users/mitsuhiro/.pyenv/versions/anaconda3-5.3.0/lib/python3.7/site-packages/sklearn/externals/joblib/parallel.py:547: UserWarning: Multiprocessing-backed parallel loops cannot be nested below threads, setting n_jobs=1\n",
      "  **self._backend_args)\n",
      "[I 2019-09-08 02:00:30,193] Finished trial#26 resulted in value: 0.1269986078744057. Current best value is 0.12538519752626726 with parameters: {'n_estimators': 8832, 'max_depth': 9, 'max_features': 'log2', 'colsample_bytree': 0.5, 'gamma ': 0.2, 'min_child_weight': 2, 'reg_alpha': 0.0014314734047097576, 'reg_lambda': 337.9401010505051, 'subsample': 0.5, 'random_state': 4}.\n",
      "[W 2019-09-08 02:00:30,319] The range of parameter `gamma ` is not divisible by `q`, and is replaced by [0.2, 0.8].\n",
      "[W 2019-09-08 02:00:30,428] The range of parameter `subsample` is not divisible by `q`, and is replaced by [0.5, 0.9].\n",
      "/Users/mitsuhiro/.pyenv/versions/anaconda3-5.3.0/lib/python3.7/site-packages/sklearn/externals/joblib/parallel.py:547: UserWarning: Multiprocessing-backed parallel loops cannot be nested below threads, setting n_jobs=1\n",
      "  **self._backend_args)\n",
      "[I 2019-09-08 02:01:54,597] Finished trial#27 resulted in value: 0.1279663151686587. Current best value is 0.12538519752626726 with parameters: {'n_estimators': 8832, 'max_depth': 9, 'max_features': 'log2', 'colsample_bytree': 0.5, 'gamma ': 0.2, 'min_child_weight': 2, 'reg_alpha': 0.0014314734047097576, 'reg_lambda': 337.9401010505051, 'subsample': 0.5, 'random_state': 4}.\n",
      "[W 2019-09-08 02:01:54,735] The range of parameter `gamma ` is not divisible by `q`, and is replaced by [0.2, 0.8].\n",
      "[W 2019-09-08 02:01:54,864] The range of parameter `subsample` is not divisible by `q`, and is replaced by [0.5, 0.9].\n",
      "/Users/mitsuhiro/.pyenv/versions/anaconda3-5.3.0/lib/python3.7/site-packages/sklearn/externals/joblib/parallel.py:547: UserWarning: Multiprocessing-backed parallel loops cannot be nested below threads, setting n_jobs=1\n",
      "  **self._backend_args)\n",
      "[I 2019-09-08 02:09:11,942] Finished trial#29 resulted in value: 0.1282630403440958. Current best value is 0.12538519752626726 with parameters: {'n_estimators': 8832, 'max_depth': 9, 'max_features': 'log2', 'colsample_bytree': 0.5, 'gamma ': 0.2, 'min_child_weight': 2, 'reg_alpha': 0.0014314734047097576, 'reg_lambda': 337.9401010505051, 'subsample': 0.5, 'random_state': 4}.\n",
      "[W 2019-09-08 02:09:12,015] The range of parameter `gamma ` is not divisible by `q`, and is replaced by [0.2, 0.8].\n",
      "[W 2019-09-08 02:09:12,097] The range of parameter `subsample` is not divisible by `q`, and is replaced by [0.5, 0.9].\n",
      "/Users/mitsuhiro/.pyenv/versions/anaconda3-5.3.0/lib/python3.7/site-packages/sklearn/externals/joblib/parallel.py:547: UserWarning: Multiprocessing-backed parallel loops cannot be nested below threads, setting n_jobs=1\n",
      "  **self._backend_args)\n",
      "[I 2019-09-08 02:19:00,547] Finished trial#31 resulted in value: 0.1266095990268394. Current best value is 0.12538519752626726 with parameters: {'n_estimators': 8832, 'max_depth': 9, 'max_features': 'log2', 'colsample_bytree': 0.5, 'gamma ': 0.2, 'min_child_weight': 2, 'reg_alpha': 0.0014314734047097576, 'reg_lambda': 337.9401010505051, 'subsample': 0.5, 'random_state': 4}.\n",
      "[W 2019-09-08 02:19:00,636] The range of parameter `gamma ` is not divisible by `q`, and is replaced by [0.2, 0.8].\n",
      "[W 2019-09-08 02:19:00,689] The range of parameter `subsample` is not divisible by `q`, and is replaced by [0.5, 0.9].\n",
      "/Users/mitsuhiro/.pyenv/versions/anaconda3-5.3.0/lib/python3.7/site-packages/sklearn/externals/joblib/parallel.py:547: UserWarning: Multiprocessing-backed parallel loops cannot be nested below threads, setting n_jobs=1\n",
      "  **self._backend_args)\n",
      "[I 2019-09-08 02:21:53,842] Finished trial#28 resulted in value: 0.12740706980398825. Current best value is 0.12538519752626726 with parameters: {'n_estimators': 8832, 'max_depth': 9, 'max_features': 'log2', 'colsample_bytree': 0.5, 'gamma ': 0.2, 'min_child_weight': 2, 'reg_alpha': 0.0014314734047097576, 'reg_lambda': 337.9401010505051, 'subsample': 0.5, 'random_state': 4}.\n",
      "[W 2019-09-08 02:21:53,927] The range of parameter `gamma ` is not divisible by `q`, and is replaced by [0.2, 0.8].\n",
      "[W 2019-09-08 02:21:53,995] The range of parameter `subsample` is not divisible by `q`, and is replaced by [0.5, 0.9].\n",
      "/Users/mitsuhiro/.pyenv/versions/anaconda3-5.3.0/lib/python3.7/site-packages/sklearn/externals/joblib/parallel.py:547: UserWarning: Multiprocessing-backed parallel loops cannot be nested below threads, setting n_jobs=1\n",
      "  **self._backend_args)\n",
      "[I 2019-09-08 02:33:16,214] Finished trial#30 resulted in value: 0.12634452208107985. Current best value is 0.12538519752626726 with parameters: {'n_estimators': 8832, 'max_depth': 9, 'max_features': 'log2', 'colsample_bytree': 0.5, 'gamma ': 0.2, 'min_child_weight': 2, 'reg_alpha': 0.0014314734047097576, 'reg_lambda': 337.9401010505051, 'subsample': 0.5, 'random_state': 4}.\n",
      "[W 2019-09-08 02:33:16,277] The range of parameter `gamma ` is not divisible by `q`, and is replaced by [0.2, 0.8].\n",
      "[W 2019-09-08 02:33:16,311] The range of parameter `subsample` is not divisible by `q`, and is replaced by [0.5, 0.9].\n",
      "/Users/mitsuhiro/.pyenv/versions/anaconda3-5.3.0/lib/python3.7/site-packages/sklearn/externals/joblib/parallel.py:547: UserWarning: Multiprocessing-backed parallel loops cannot be nested below threads, setting n_jobs=1\n",
      "  **self._backend_args)\n",
      "[I 2019-09-08 02:34:29,889] Finished trial#32 resulted in value: 0.12961095787618065. Current best value is 0.12538519752626726 with parameters: {'n_estimators': 8832, 'max_depth': 9, 'max_features': 'log2', 'colsample_bytree': 0.5, 'gamma ': 0.2, 'min_child_weight': 2, 'reg_alpha': 0.0014314734047097576, 'reg_lambda': 337.9401010505051, 'subsample': 0.5, 'random_state': 4}.\n",
      "[W 2019-09-08 02:34:29,951] The range of parameter `gamma ` is not divisible by `q`, and is replaced by [0.2, 0.8].\n",
      "[W 2019-09-08 02:34:30,018] The range of parameter `subsample` is not divisible by `q`, and is replaced by [0.5, 0.9].\n",
      "/Users/mitsuhiro/.pyenv/versions/anaconda3-5.3.0/lib/python3.7/site-packages/sklearn/externals/joblib/parallel.py:547: UserWarning: Multiprocessing-backed parallel loops cannot be nested below threads, setting n_jobs=1\n",
      "  **self._backend_args)\n"
     ]
    },
    {
     "name": "stderr",
     "output_type": "stream",
     "text": [
      "[I 2019-09-08 02:41:02,227] Finished trial#35 resulted in value: 0.12935789344775975. Current best value is 0.12538519752626726 with parameters: {'n_estimators': 8832, 'max_depth': 9, 'max_features': 'log2', 'colsample_bytree': 0.5, 'gamma ': 0.2, 'min_child_weight': 2, 'reg_alpha': 0.0014314734047097576, 'reg_lambda': 337.9401010505051, 'subsample': 0.5, 'random_state': 4}.\n",
      "[W 2019-09-08 02:41:02,291] The range of parameter `gamma ` is not divisible by `q`, and is replaced by [0.2, 0.8].\n",
      "[W 2019-09-08 02:41:02,357] The range of parameter `subsample` is not divisible by `q`, and is replaced by [0.5, 0.9].\n",
      "/Users/mitsuhiro/.pyenv/versions/anaconda3-5.3.0/lib/python3.7/site-packages/sklearn/externals/joblib/parallel.py:547: UserWarning: Multiprocessing-backed parallel loops cannot be nested below threads, setting n_jobs=1\n",
      "  **self._backend_args)\n",
      "[I 2019-09-08 02:43:29,220] Finished trial#34 resulted in value: 0.1295610144472156. Current best value is 0.12538519752626726 with parameters: {'n_estimators': 8832, 'max_depth': 9, 'max_features': 'log2', 'colsample_bytree': 0.5, 'gamma ': 0.2, 'min_child_weight': 2, 'reg_alpha': 0.0014314734047097576, 'reg_lambda': 337.9401010505051, 'subsample': 0.5, 'random_state': 4}.\n",
      "[W 2019-09-08 02:43:29,259] The range of parameter `gamma ` is not divisible by `q`, and is replaced by [0.2, 0.8].\n",
      "[W 2019-09-08 02:43:29,332] The range of parameter `subsample` is not divisible by `q`, and is replaced by [0.5, 0.9].\n",
      "/Users/mitsuhiro/.pyenv/versions/anaconda3-5.3.0/lib/python3.7/site-packages/sklearn/externals/joblib/parallel.py:547: UserWarning: Multiprocessing-backed parallel loops cannot be nested below threads, setting n_jobs=1\n",
      "  **self._backend_args)\n",
      "[I 2019-09-08 02:43:45,558] Finished trial#33 resulted in value: 0.12986417602472292. Current best value is 0.12538519752626726 with parameters: {'n_estimators': 8832, 'max_depth': 9, 'max_features': 'log2', 'colsample_bytree': 0.5, 'gamma ': 0.2, 'min_child_weight': 2, 'reg_alpha': 0.0014314734047097576, 'reg_lambda': 337.9401010505051, 'subsample': 0.5, 'random_state': 4}.\n",
      "[W 2019-09-08 02:43:45,726] The range of parameter `gamma ` is not divisible by `q`, and is replaced by [0.2, 0.8].\n",
      "[W 2019-09-08 02:43:45,749] The range of parameter `subsample` is not divisible by `q`, and is replaced by [0.5, 0.9].\n",
      "/Users/mitsuhiro/.pyenv/versions/anaconda3-5.3.0/lib/python3.7/site-packages/sklearn/externals/joblib/parallel.py:547: UserWarning: Multiprocessing-backed parallel loops cannot be nested below threads, setting n_jobs=1\n",
      "  **self._backend_args)\n",
      "[I 2019-09-08 02:49:32,920] Finished trial#40 resulted in value: 0.15292006121656204. Current best value is 0.12538519752626726 with parameters: {'n_estimators': 8832, 'max_depth': 9, 'max_features': 'log2', 'colsample_bytree': 0.5, 'gamma ': 0.2, 'min_child_weight': 2, 'reg_alpha': 0.0014314734047097576, 'reg_lambda': 337.9401010505051, 'subsample': 0.5, 'random_state': 4}.\n",
      "[W 2019-09-08 02:49:33,022] The range of parameter `gamma ` is not divisible by `q`, and is replaced by [0.2, 0.8].\n",
      "[W 2019-09-08 02:49:33,074] The range of parameter `subsample` is not divisible by `q`, and is replaced by [0.5, 0.9].\n",
      "/Users/mitsuhiro/.pyenv/versions/anaconda3-5.3.0/lib/python3.7/site-packages/sklearn/externals/joblib/parallel.py:547: UserWarning: Multiprocessing-backed parallel loops cannot be nested below threads, setting n_jobs=1\n",
      "  **self._backend_args)\n",
      "[I 2019-09-08 02:55:48,436] Finished trial#39 resulted in value: 0.13347297636309263. Current best value is 0.12538519752626726 with parameters: {'n_estimators': 8832, 'max_depth': 9, 'max_features': 'log2', 'colsample_bytree': 0.5, 'gamma ': 0.2, 'min_child_weight': 2, 'reg_alpha': 0.0014314734047097576, 'reg_lambda': 337.9401010505051, 'subsample': 0.5, 'random_state': 4}.\n",
      "[W 2019-09-08 02:55:48,511] The range of parameter `gamma ` is not divisible by `q`, and is replaced by [0.2, 0.8].\n",
      "[W 2019-09-08 02:55:48,559] The range of parameter `subsample` is not divisible by `q`, and is replaced by [0.5, 0.9].\n",
      "/Users/mitsuhiro/.pyenv/versions/anaconda3-5.3.0/lib/python3.7/site-packages/sklearn/externals/joblib/parallel.py:547: UserWarning: Multiprocessing-backed parallel loops cannot be nested below threads, setting n_jobs=1\n",
      "  **self._backend_args)\n",
      "[I 2019-09-08 02:57:15,207] Finished trial#41 resulted in value: 0.14142143399663012. Current best value is 0.12538519752626726 with parameters: {'n_estimators': 8832, 'max_depth': 9, 'max_features': 'log2', 'colsample_bytree': 0.5, 'gamma ': 0.2, 'min_child_weight': 2, 'reg_alpha': 0.0014314734047097576, 'reg_lambda': 337.9401010505051, 'subsample': 0.5, 'random_state': 4}.\n",
      "[W 2019-09-08 02:57:15,270] The range of parameter `gamma ` is not divisible by `q`, and is replaced by [0.2, 0.8].\n",
      "[W 2019-09-08 02:57:15,342] The range of parameter `subsample` is not divisible by `q`, and is replaced by [0.5, 0.9].\n",
      "/Users/mitsuhiro/.pyenv/versions/anaconda3-5.3.0/lib/python3.7/site-packages/sklearn/externals/joblib/parallel.py:547: UserWarning: Multiprocessing-backed parallel loops cannot be nested below threads, setting n_jobs=1\n",
      "  **self._backend_args)\n",
      "[I 2019-09-08 02:59:28,512] Finished trial#36 resulted in value: 0.13289099882669708. Current best value is 0.12538519752626726 with parameters: {'n_estimators': 8832, 'max_depth': 9, 'max_features': 'log2', 'colsample_bytree': 0.5, 'gamma ': 0.2, 'min_child_weight': 2, 'reg_alpha': 0.0014314734047097576, 'reg_lambda': 337.9401010505051, 'subsample': 0.5, 'random_state': 4}.\n",
      "[W 2019-09-08 02:59:28,626] The range of parameter `gamma ` is not divisible by `q`, and is replaced by [0.2, 0.8].\n",
      "[W 2019-09-08 02:59:28,689] The range of parameter `subsample` is not divisible by `q`, and is replaced by [0.5, 0.9].\n",
      "/Users/mitsuhiro/.pyenv/versions/anaconda3-5.3.0/lib/python3.7/site-packages/sklearn/externals/joblib/parallel.py:547: UserWarning: Multiprocessing-backed parallel loops cannot be nested below threads, setting n_jobs=1\n",
      "  **self._backend_args)\n",
      "[I 2019-09-08 03:02:19,435] Finished trial#42 resulted in value: 0.13876845563267431. Current best value is 0.12538519752626726 with parameters: {'n_estimators': 8832, 'max_depth': 9, 'max_features': 'log2', 'colsample_bytree': 0.5, 'gamma ': 0.2, 'min_child_weight': 2, 'reg_alpha': 0.0014314734047097576, 'reg_lambda': 337.9401010505051, 'subsample': 0.5, 'random_state': 4}.\n",
      "[W 2019-09-08 03:02:19,532] The range of parameter `gamma ` is not divisible by `q`, and is replaced by [0.2, 0.8].\n",
      "[W 2019-09-08 03:02:19,577] The range of parameter `subsample` is not divisible by `q`, and is replaced by [0.5, 0.9].\n",
      "/Users/mitsuhiro/.pyenv/versions/anaconda3-5.3.0/lib/python3.7/site-packages/sklearn/externals/joblib/parallel.py:547: UserWarning: Multiprocessing-backed parallel loops cannot be nested below threads, setting n_jobs=1\n",
      "  **self._backend_args)\n",
      "[I 2019-09-08 03:03:57,091] Finished trial#43 resulted in value: 0.13493967666564438. Current best value is 0.12538519752626726 with parameters: {'n_estimators': 8832, 'max_depth': 9, 'max_features': 'log2', 'colsample_bytree': 0.5, 'gamma ': 0.2, 'min_child_weight': 2, 'reg_alpha': 0.0014314734047097576, 'reg_lambda': 337.9401010505051, 'subsample': 0.5, 'random_state': 4}.\n",
      "[W 2019-09-08 03:03:57,246] The range of parameter `gamma ` is not divisible by `q`, and is replaced by [0.2, 0.8].\n",
      "[W 2019-09-08 03:03:57,329] The range of parameter `subsample` is not divisible by `q`, and is replaced by [0.5, 0.9].\n",
      "/Users/mitsuhiro/.pyenv/versions/anaconda3-5.3.0/lib/python3.7/site-packages/sklearn/externals/joblib/parallel.py:547: UserWarning: Multiprocessing-backed parallel loops cannot be nested below threads, setting n_jobs=1\n",
      "  **self._backend_args)\n",
      "[I 2019-09-08 03:12:46,608] Finished trial#44 resulted in value: 0.13258278559101236. Current best value is 0.12538519752626726 with parameters: {'n_estimators': 8832, 'max_depth': 9, 'max_features': 'log2', 'colsample_bytree': 0.5, 'gamma ': 0.2, 'min_child_weight': 2, 'reg_alpha': 0.0014314734047097576, 'reg_lambda': 337.9401010505051, 'subsample': 0.5, 'random_state': 4}.\n"
     ]
    },
    {
     "name": "stderr",
     "output_type": "stream",
     "text": [
      "[W 2019-09-08 03:12:46,688] The range of parameter `gamma ` is not divisible by `q`, and is replaced by [0.2, 0.8].\n",
      "[W 2019-09-08 03:12:46,772] The range of parameter `subsample` is not divisible by `q`, and is replaced by [0.5, 0.9].\n",
      "/Users/mitsuhiro/.pyenv/versions/anaconda3-5.3.0/lib/python3.7/site-packages/sklearn/externals/joblib/parallel.py:547: UserWarning: Multiprocessing-backed parallel loops cannot be nested below threads, setting n_jobs=1\n",
      "  **self._backend_args)\n",
      "[I 2019-09-08 03:14:23,401] Finished trial#37 resulted in value: 0.13083290800464176. Current best value is 0.12538519752626726 with parameters: {'n_estimators': 8832, 'max_depth': 9, 'max_features': 'log2', 'colsample_bytree': 0.5, 'gamma ': 0.2, 'min_child_weight': 2, 'reg_alpha': 0.0014314734047097576, 'reg_lambda': 337.9401010505051, 'subsample': 0.5, 'random_state': 4}.\n",
      "[W 2019-09-08 03:14:23,514] The range of parameter `gamma ` is not divisible by `q`, and is replaced by [0.2, 0.8].\n",
      "[W 2019-09-08 03:14:23,588] The range of parameter `subsample` is not divisible by `q`, and is replaced by [0.5, 0.9].\n",
      "/Users/mitsuhiro/.pyenv/versions/anaconda3-5.3.0/lib/python3.7/site-packages/sklearn/externals/joblib/parallel.py:547: UserWarning: Multiprocessing-backed parallel loops cannot be nested below threads, setting n_jobs=1\n",
      "  **self._backend_args)\n",
      "[I 2019-09-08 03:16:54,781] Finished trial#48 resulted in value: 0.12843835054725067. Current best value is 0.12538519752626726 with parameters: {'n_estimators': 8832, 'max_depth': 9, 'max_features': 'log2', 'colsample_bytree': 0.5, 'gamma ': 0.2, 'min_child_weight': 2, 'reg_alpha': 0.0014314734047097576, 'reg_lambda': 337.9401010505051, 'subsample': 0.5, 'random_state': 4}.\n",
      "[W 2019-09-08 03:16:54,847] The range of parameter `gamma ` is not divisible by `q`, and is replaced by [0.2, 0.8].\n",
      "[W 2019-09-08 03:16:54,894] The range of parameter `subsample` is not divisible by `q`, and is replaced by [0.5, 0.9].\n",
      "/Users/mitsuhiro/.pyenv/versions/anaconda3-5.3.0/lib/python3.7/site-packages/sklearn/externals/joblib/parallel.py:547: UserWarning: Multiprocessing-backed parallel loops cannot be nested below threads, setting n_jobs=1\n",
      "  **self._backend_args)\n",
      "[I 2019-09-08 03:17:56,971] Finished trial#38 resulted in value: 0.13164593251815687. Current best value is 0.12538519752626726 with parameters: {'n_estimators': 8832, 'max_depth': 9, 'max_features': 'log2', 'colsample_bytree': 0.5, 'gamma ': 0.2, 'min_child_weight': 2, 'reg_alpha': 0.0014314734047097576, 'reg_lambda': 337.9401010505051, 'subsample': 0.5, 'random_state': 4}.\n",
      "[W 2019-09-08 03:17:57,130] The range of parameter `gamma ` is not divisible by `q`, and is replaced by [0.2, 0.8].\n",
      "[W 2019-09-08 03:17:57,183] The range of parameter `subsample` is not divisible by `q`, and is replaced by [0.5, 0.9].\n",
      "/Users/mitsuhiro/.pyenv/versions/anaconda3-5.3.0/lib/python3.7/site-packages/sklearn/externals/joblib/parallel.py:547: UserWarning: Multiprocessing-backed parallel loops cannot be nested below threads, setting n_jobs=1\n",
      "  **self._backend_args)\n",
      "[I 2019-09-08 03:29:50,585] Finished trial#51 resulted in value: 0.12880932049341084. Current best value is 0.12538519752626726 with parameters: {'n_estimators': 8832, 'max_depth': 9, 'max_features': 'log2', 'colsample_bytree': 0.5, 'gamma ': 0.2, 'min_child_weight': 2, 'reg_alpha': 0.0014314734047097576, 'reg_lambda': 337.9401010505051, 'subsample': 0.5, 'random_state': 4}.\n",
      "[W 2019-09-08 03:29:50,662] The range of parameter `gamma ` is not divisible by `q`, and is replaced by [0.2, 0.8].\n",
      "[W 2019-09-08 03:29:50,717] The range of parameter `subsample` is not divisible by `q`, and is replaced by [0.5, 0.9].\n",
      "/Users/mitsuhiro/.pyenv/versions/anaconda3-5.3.0/lib/python3.7/site-packages/sklearn/externals/joblib/parallel.py:547: UserWarning: Multiprocessing-backed parallel loops cannot be nested below threads, setting n_jobs=1\n",
      "  **self._backend_args)\n",
      "[I 2019-09-08 03:33:02,879] Finished trial#50 resulted in value: 0.1292595494275161. Current best value is 0.12538519752626726 with parameters: {'n_estimators': 8832, 'max_depth': 9, 'max_features': 'log2', 'colsample_bytree': 0.5, 'gamma ': 0.2, 'min_child_weight': 2, 'reg_alpha': 0.0014314734047097576, 'reg_lambda': 337.9401010505051, 'subsample': 0.5, 'random_state': 4}.\n",
      "[W 2019-09-08 03:33:02,983] The range of parameter `gamma ` is not divisible by `q`, and is replaced by [0.2, 0.8].\n",
      "[W 2019-09-08 03:33:03,034] The range of parameter `subsample` is not divisible by `q`, and is replaced by [0.5, 0.9].\n",
      "/Users/mitsuhiro/.pyenv/versions/anaconda3-5.3.0/lib/python3.7/site-packages/sklearn/externals/joblib/parallel.py:547: UserWarning: Multiprocessing-backed parallel loops cannot be nested below threads, setting n_jobs=1\n",
      "  **self._backend_args)\n",
      "[I 2019-09-08 03:34:53,189] Finished trial#47 resulted in value: 0.1268331194957145. Current best value is 0.12538519752626726 with parameters: {'n_estimators': 8832, 'max_depth': 9, 'max_features': 'log2', 'colsample_bytree': 0.5, 'gamma ': 0.2, 'min_child_weight': 2, 'reg_alpha': 0.0014314734047097576, 'reg_lambda': 337.9401010505051, 'subsample': 0.5, 'random_state': 4}.\n",
      "[W 2019-09-08 03:34:53,315] The range of parameter `gamma ` is not divisible by `q`, and is replaced by [0.2, 0.8].\n",
      "[W 2019-09-08 03:34:53,378] The range of parameter `subsample` is not divisible by `q`, and is replaced by [0.5, 0.9].\n",
      "/Users/mitsuhiro/.pyenv/versions/anaconda3-5.3.0/lib/python3.7/site-packages/sklearn/externals/joblib/parallel.py:547: UserWarning: Multiprocessing-backed parallel loops cannot be nested below threads, setting n_jobs=1\n",
      "  **self._backend_args)\n",
      "[I 2019-09-08 03:37:07,428] Finished trial#45 resulted in value: 0.1585835527675455. Current best value is 0.12538519752626726 with parameters: {'n_estimators': 8832, 'max_depth': 9, 'max_features': 'log2', 'colsample_bytree': 0.5, 'gamma ': 0.2, 'min_child_weight': 2, 'reg_alpha': 0.0014314734047097576, 'reg_lambda': 337.9401010505051, 'subsample': 0.5, 'random_state': 4}.\n",
      "[W 2019-09-08 03:37:07,482] The range of parameter `gamma ` is not divisible by `q`, and is replaced by [0.2, 0.8].\n",
      "[W 2019-09-08 03:37:07,581] The range of parameter `subsample` is not divisible by `q`, and is replaced by [0.5, 0.9].\n",
      "/Users/mitsuhiro/.pyenv/versions/anaconda3-5.3.0/lib/python3.7/site-packages/sklearn/externals/joblib/parallel.py:547: UserWarning: Multiprocessing-backed parallel loops cannot be nested below threads, setting n_jobs=1\n",
      "  **self._backend_args)\n",
      "[I 2019-09-08 03:38:11,605] Finished trial#49 resulted in value: 0.1307808591787293. Current best value is 0.12538519752626726 with parameters: {'n_estimators': 8832, 'max_depth': 9, 'max_features': 'log2', 'colsample_bytree': 0.5, 'gamma ': 0.2, 'min_child_weight': 2, 'reg_alpha': 0.0014314734047097576, 'reg_lambda': 337.9401010505051, 'subsample': 0.5, 'random_state': 4}.\n",
      "[W 2019-09-08 03:38:11,749] The range of parameter `gamma ` is not divisible by `q`, and is replaced by [0.2, 0.8].\n",
      "[W 2019-09-08 03:38:11,818] The range of parameter `subsample` is not divisible by `q`, and is replaced by [0.5, 0.9].\n",
      "/Users/mitsuhiro/.pyenv/versions/anaconda3-5.3.0/lib/python3.7/site-packages/sklearn/externals/joblib/parallel.py:547: UserWarning: Multiprocessing-backed parallel loops cannot be nested below threads, setting n_jobs=1\n",
      "  **self._backend_args)\n",
      "[I 2019-09-08 03:48:41,145] Finished trial#57 resulted in value: 0.1282897825526027. Current best value is 0.12538519752626726 with parameters: {'n_estimators': 8832, 'max_depth': 9, 'max_features': 'log2', 'colsample_bytree': 0.5, 'gamma ': 0.2, 'min_child_weight': 2, 'reg_alpha': 0.0014314734047097576, 'reg_lambda': 337.9401010505051, 'subsample': 0.5, 'random_state': 4}.\n",
      "[W 2019-09-08 03:48:41,230] The range of parameter `gamma ` is not divisible by `q`, and is replaced by [0.2, 0.8].\n",
      "[W 2019-09-08 03:48:41,280] The range of parameter `subsample` is not divisible by `q`, and is replaced by [0.5, 0.9].\n",
      "/Users/mitsuhiro/.pyenv/versions/anaconda3-5.3.0/lib/python3.7/site-packages/sklearn/externals/joblib/parallel.py:547: UserWarning: Multiprocessing-backed parallel loops cannot be nested below threads, setting n_jobs=1\n",
      "  **self._backend_args)\n"
     ]
    },
    {
     "name": "stderr",
     "output_type": "stream",
     "text": [
      "[I 2019-09-08 03:53:48,532] Finished trial#46 resulted in value: 0.12708237487792942. Current best value is 0.12538519752626726 with parameters: {'n_estimators': 8832, 'max_depth': 9, 'max_features': 'log2', 'colsample_bytree': 0.5, 'gamma ': 0.2, 'min_child_weight': 2, 'reg_alpha': 0.0014314734047097576, 'reg_lambda': 337.9401010505051, 'subsample': 0.5, 'random_state': 4}.\n",
      "[W 2019-09-08 03:53:48,594] The range of parameter `gamma ` is not divisible by `q`, and is replaced by [0.2, 0.8].\n",
      "[W 2019-09-08 03:53:48,683] The range of parameter `subsample` is not divisible by `q`, and is replaced by [0.5, 0.9].\n",
      "/Users/mitsuhiro/.pyenv/versions/anaconda3-5.3.0/lib/python3.7/site-packages/sklearn/externals/joblib/parallel.py:547: UserWarning: Multiprocessing-backed parallel loops cannot be nested below threads, setting n_jobs=1\n",
      "  **self._backend_args)\n",
      "[I 2019-09-08 03:54:13,586] Finished trial#59 resulted in value: 0.12895913815101656. Current best value is 0.12538519752626726 with parameters: {'n_estimators': 8832, 'max_depth': 9, 'max_features': 'log2', 'colsample_bytree': 0.5, 'gamma ': 0.2, 'min_child_weight': 2, 'reg_alpha': 0.0014314734047097576, 'reg_lambda': 337.9401010505051, 'subsample': 0.5, 'random_state': 4}.\n",
      "[W 2019-09-08 03:54:13,715] The range of parameter `gamma ` is not divisible by `q`, and is replaced by [0.2, 0.8].\n",
      "[W 2019-09-08 03:54:13,793] The range of parameter `subsample` is not divisible by `q`, and is replaced by [0.5, 0.9].\n",
      "/Users/mitsuhiro/.pyenv/versions/anaconda3-5.3.0/lib/python3.7/site-packages/sklearn/externals/joblib/parallel.py:547: UserWarning: Multiprocessing-backed parallel loops cannot be nested below threads, setting n_jobs=1\n",
      "  **self._backend_args)\n",
      "[I 2019-09-08 03:58:00,697] Finished trial#55 resulted in value: 0.12691108106223606. Current best value is 0.12538519752626726 with parameters: {'n_estimators': 8832, 'max_depth': 9, 'max_features': 'log2', 'colsample_bytree': 0.5, 'gamma ': 0.2, 'min_child_weight': 2, 'reg_alpha': 0.0014314734047097576, 'reg_lambda': 337.9401010505051, 'subsample': 0.5, 'random_state': 4}.\n",
      "[W 2019-09-08 03:58:00,850] The range of parameter `gamma ` is not divisible by `q`, and is replaced by [0.2, 0.8].\n",
      "[W 2019-09-08 03:58:00,908] The range of parameter `subsample` is not divisible by `q`, and is replaced by [0.5, 0.9].\n",
      "/Users/mitsuhiro/.pyenv/versions/anaconda3-5.3.0/lib/python3.7/site-packages/sklearn/externals/joblib/parallel.py:547: UserWarning: Multiprocessing-backed parallel loops cannot be nested below threads, setting n_jobs=1\n",
      "  **self._backend_args)\n",
      "[I 2019-09-08 03:59:18,463] Finished trial#52 resulted in value: 0.12790548663972143. Current best value is 0.12538519752626726 with parameters: {'n_estimators': 8832, 'max_depth': 9, 'max_features': 'log2', 'colsample_bytree': 0.5, 'gamma ': 0.2, 'min_child_weight': 2, 'reg_alpha': 0.0014314734047097576, 'reg_lambda': 337.9401010505051, 'subsample': 0.5, 'random_state': 4}.\n",
      "[W 2019-09-08 03:59:18,576] The range of parameter `gamma ` is not divisible by `q`, and is replaced by [0.2, 0.8].\n",
      "[W 2019-09-08 03:59:18,653] The range of parameter `subsample` is not divisible by `q`, and is replaced by [0.5, 0.9].\n",
      "/Users/mitsuhiro/.pyenv/versions/anaconda3-5.3.0/lib/python3.7/site-packages/sklearn/externals/joblib/parallel.py:547: UserWarning: Multiprocessing-backed parallel loops cannot be nested below threads, setting n_jobs=1\n",
      "  **self._backend_args)\n",
      "[I 2019-09-08 04:00:54,482] Finished trial#56 resulted in value: 0.12750079377283147. Current best value is 0.12538519752626726 with parameters: {'n_estimators': 8832, 'max_depth': 9, 'max_features': 'log2', 'colsample_bytree': 0.5, 'gamma ': 0.2, 'min_child_weight': 2, 'reg_alpha': 0.0014314734047097576, 'reg_lambda': 337.9401010505051, 'subsample': 0.5, 'random_state': 4}.\n",
      "[W 2019-09-08 04:00:54,703] The range of parameter `gamma ` is not divisible by `q`, and is replaced by [0.2, 0.8].\n",
      "[W 2019-09-08 04:00:54,774] The range of parameter `subsample` is not divisible by `q`, and is replaced by [0.5, 0.9].\n",
      "/Users/mitsuhiro/.pyenv/versions/anaconda3-5.3.0/lib/python3.7/site-packages/sklearn/externals/joblib/parallel.py:547: UserWarning: Multiprocessing-backed parallel loops cannot be nested below threads, setting n_jobs=1\n",
      "  **self._backend_args)\n",
      "[I 2019-09-08 04:03:38,954] Finished trial#53 resulted in value: 0.1279240991921952. Current best value is 0.12538519752626726 with parameters: {'n_estimators': 8832, 'max_depth': 9, 'max_features': 'log2', 'colsample_bytree': 0.5, 'gamma ': 0.2, 'min_child_weight': 2, 'reg_alpha': 0.0014314734047097576, 'reg_lambda': 337.9401010505051, 'subsample': 0.5, 'random_state': 4}.\n",
      "[W 2019-09-08 04:03:39,016] The range of parameter `gamma ` is not divisible by `q`, and is replaced by [0.2, 0.8].\n",
      "[W 2019-09-08 04:03:39,100] The range of parameter `subsample` is not divisible by `q`, and is replaced by [0.5, 0.9].\n",
      "/Users/mitsuhiro/.pyenv/versions/anaconda3-5.3.0/lib/python3.7/site-packages/sklearn/externals/joblib/parallel.py:547: UserWarning: Multiprocessing-backed parallel loops cannot be nested below threads, setting n_jobs=1\n",
      "  **self._backend_args)\n",
      "[I 2019-09-08 04:06:32,054] Finished trial#58 resulted in value: 0.1285824235951178. Current best value is 0.12538519752626726 with parameters: {'n_estimators': 8832, 'max_depth': 9, 'max_features': 'log2', 'colsample_bytree': 0.5, 'gamma ': 0.2, 'min_child_weight': 2, 'reg_alpha': 0.0014314734047097576, 'reg_lambda': 337.9401010505051, 'subsample': 0.5, 'random_state': 4}.\n",
      "[W 2019-09-08 04:06:32,188] The range of parameter `gamma ` is not divisible by `q`, and is replaced by [0.2, 0.8].\n",
      "[W 2019-09-08 04:06:32,277] The range of parameter `subsample` is not divisible by `q`, and is replaced by [0.5, 0.9].\n",
      "/Users/mitsuhiro/.pyenv/versions/anaconda3-5.3.0/lib/python3.7/site-packages/sklearn/externals/joblib/parallel.py:547: UserWarning: Multiprocessing-backed parallel loops cannot be nested below threads, setting n_jobs=1\n",
      "  **self._backend_args)\n",
      "[I 2019-09-08 04:10:49,335] Finished trial#54 resulted in value: 0.12746956719120386. Current best value is 0.12538519752626726 with parameters: {'n_estimators': 8832, 'max_depth': 9, 'max_features': 'log2', 'colsample_bytree': 0.5, 'gamma ': 0.2, 'min_child_weight': 2, 'reg_alpha': 0.0014314734047097576, 'reg_lambda': 337.9401010505051, 'subsample': 0.5, 'random_state': 4}.\n",
      "[W 2019-09-08 04:10:49,462] The range of parameter `gamma ` is not divisible by `q`, and is replaced by [0.2, 0.8].\n",
      "[W 2019-09-08 04:10:49,551] The range of parameter `subsample` is not divisible by `q`, and is replaced by [0.5, 0.9].\n",
      "/Users/mitsuhiro/.pyenv/versions/anaconda3-5.3.0/lib/python3.7/site-packages/sklearn/externals/joblib/parallel.py:547: UserWarning: Multiprocessing-backed parallel loops cannot be nested below threads, setting n_jobs=1\n",
      "  **self._backend_args)\n",
      "[I 2019-09-08 04:23:07,775] Finished trial#61 resulted in value: 0.12834916538350255. Current best value is 0.12538519752626726 with parameters: {'n_estimators': 8832, 'max_depth': 9, 'max_features': 'log2', 'colsample_bytree': 0.5, 'gamma ': 0.2, 'min_child_weight': 2, 'reg_alpha': 0.0014314734047097576, 'reg_lambda': 337.9401010505051, 'subsample': 0.5, 'random_state': 4}.\n",
      "[W 2019-09-08 04:23:07,889] The range of parameter `gamma ` is not divisible by `q`, and is replaced by [0.2, 0.8].\n",
      "[W 2019-09-08 04:23:07,964] The range of parameter `subsample` is not divisible by `q`, and is replaced by [0.5, 0.9].\n",
      "/Users/mitsuhiro/.pyenv/versions/anaconda3-5.3.0/lib/python3.7/site-packages/sklearn/externals/joblib/parallel.py:547: UserWarning: Multiprocessing-backed parallel loops cannot be nested below threads, setting n_jobs=1\n",
      "  **self._backend_args)\n",
      "[I 2019-09-08 04:23:44,357] Finished trial#62 resulted in value: 0.12967314172851824. Current best value is 0.12538519752626726 with parameters: {'n_estimators': 8832, 'max_depth': 9, 'max_features': 'log2', 'colsample_bytree': 0.5, 'gamma ': 0.2, 'min_child_weight': 2, 'reg_alpha': 0.0014314734047097576, 'reg_lambda': 337.9401010505051, 'subsample': 0.5, 'random_state': 4}.\n"
     ]
    },
    {
     "name": "stderr",
     "output_type": "stream",
     "text": [
      "[W 2019-09-08 04:23:44,457] The range of parameter `gamma ` is not divisible by `q`, and is replaced by [0.2, 0.8].\n",
      "[W 2019-09-08 04:23:44,540] The range of parameter `subsample` is not divisible by `q`, and is replaced by [0.5, 0.9].\n",
      "/Users/mitsuhiro/.pyenv/versions/anaconda3-5.3.0/lib/python3.7/site-packages/sklearn/externals/joblib/parallel.py:547: UserWarning: Multiprocessing-backed parallel loops cannot be nested below threads, setting n_jobs=1\n",
      "  **self._backend_args)\n",
      "[I 2019-09-08 04:27:15,000] Finished trial#65 resulted in value: 0.12815520370542702. Current best value is 0.12538519752626726 with parameters: {'n_estimators': 8832, 'max_depth': 9, 'max_features': 'log2', 'colsample_bytree': 0.5, 'gamma ': 0.2, 'min_child_weight': 2, 'reg_alpha': 0.0014314734047097576, 'reg_lambda': 337.9401010505051, 'subsample': 0.5, 'random_state': 4}.\n",
      "[W 2019-09-08 04:27:15,156] The range of parameter `gamma ` is not divisible by `q`, and is replaced by [0.2, 0.8].\n",
      "[W 2019-09-08 04:27:15,237] The range of parameter `subsample` is not divisible by `q`, and is replaced by [0.5, 0.9].\n",
      "/Users/mitsuhiro/.pyenv/versions/anaconda3-5.3.0/lib/python3.7/site-packages/sklearn/externals/joblib/parallel.py:547: UserWarning: Multiprocessing-backed parallel loops cannot be nested below threads, setting n_jobs=1\n",
      "  **self._backend_args)\n",
      "[I 2019-09-08 04:29:43,460] Finished trial#66 resulted in value: 0.127888624844052. Current best value is 0.12538519752626726 with parameters: {'n_estimators': 8832, 'max_depth': 9, 'max_features': 'log2', 'colsample_bytree': 0.5, 'gamma ': 0.2, 'min_child_weight': 2, 'reg_alpha': 0.0014314734047097576, 'reg_lambda': 337.9401010505051, 'subsample': 0.5, 'random_state': 4}.\n",
      "[W 2019-09-08 04:29:43,554] The range of parameter `gamma ` is not divisible by `q`, and is replaced by [0.2, 0.8].\n",
      "[W 2019-09-08 04:29:43,618] The range of parameter `subsample` is not divisible by `q`, and is replaced by [0.5, 0.9].\n",
      "/Users/mitsuhiro/.pyenv/versions/anaconda3-5.3.0/lib/python3.7/site-packages/sklearn/externals/joblib/parallel.py:547: UserWarning: Multiprocessing-backed parallel loops cannot be nested below threads, setting n_jobs=1\n",
      "  **self._backend_args)\n",
      "[I 2019-09-08 04:29:59,470] Finished trial#63 resulted in value: 0.128648729739856. Current best value is 0.12538519752626726 with parameters: {'n_estimators': 8832, 'max_depth': 9, 'max_features': 'log2', 'colsample_bytree': 0.5, 'gamma ': 0.2, 'min_child_weight': 2, 'reg_alpha': 0.0014314734047097576, 'reg_lambda': 337.9401010505051, 'subsample': 0.5, 'random_state': 4}.\n",
      "[W 2019-09-08 04:29:59,601] The range of parameter `gamma ` is not divisible by `q`, and is replaced by [0.2, 0.8].\n",
      "[W 2019-09-08 04:29:59,771] The range of parameter `subsample` is not divisible by `q`, and is replaced by [0.5, 0.9].\n",
      "/Users/mitsuhiro/.pyenv/versions/anaconda3-5.3.0/lib/python3.7/site-packages/sklearn/externals/joblib/parallel.py:547: UserWarning: Multiprocessing-backed parallel loops cannot be nested below threads, setting n_jobs=1\n",
      "  **self._backend_args)\n",
      "[I 2019-09-08 04:33:58,614] Finished trial#67 resulted in value: 0.13000547134933518. Current best value is 0.12538519752626726 with parameters: {'n_estimators': 8832, 'max_depth': 9, 'max_features': 'log2', 'colsample_bytree': 0.5, 'gamma ': 0.2, 'min_child_weight': 2, 'reg_alpha': 0.0014314734047097576, 'reg_lambda': 337.9401010505051, 'subsample': 0.5, 'random_state': 4}.\n",
      "[W 2019-09-08 04:33:58,764] The range of parameter `gamma ` is not divisible by `q`, and is replaced by [0.2, 0.8].\n",
      "[W 2019-09-08 04:33:58,850] The range of parameter `subsample` is not divisible by `q`, and is replaced by [0.5, 0.9].\n",
      "/Users/mitsuhiro/.pyenv/versions/anaconda3-5.3.0/lib/python3.7/site-packages/sklearn/externals/joblib/parallel.py:547: UserWarning: Multiprocessing-backed parallel loops cannot be nested below threads, setting n_jobs=1\n",
      "  **self._backend_args)\n",
      "[I 2019-09-08 04:39:23,450] Finished trial#64 resulted in value: 0.12842465427965138. Current best value is 0.12538519752626726 with parameters: {'n_estimators': 8832, 'max_depth': 9, 'max_features': 'log2', 'colsample_bytree': 0.5, 'gamma ': 0.2, 'min_child_weight': 2, 'reg_alpha': 0.0014314734047097576, 'reg_lambda': 337.9401010505051, 'subsample': 0.5, 'random_state': 4}.\n",
      "[W 2019-09-08 04:39:23,561] The range of parameter `gamma ` is not divisible by `q`, and is replaced by [0.2, 0.8].\n",
      "[W 2019-09-08 04:39:23,644] The range of parameter `subsample` is not divisible by `q`, and is replaced by [0.5, 0.9].\n",
      "/Users/mitsuhiro/.pyenv/versions/anaconda3-5.3.0/lib/python3.7/site-packages/sklearn/externals/joblib/parallel.py:547: UserWarning: Multiprocessing-backed parallel loops cannot be nested below threads, setting n_jobs=1\n",
      "  **self._backend_args)\n",
      "[I 2019-09-08 04:52:02,605] Finished trial#69 resulted in value: 0.21580333587752493. Current best value is 0.12538519752626726 with parameters: {'n_estimators': 8832, 'max_depth': 9, 'max_features': 'log2', 'colsample_bytree': 0.5, 'gamma ': 0.2, 'min_child_weight': 2, 'reg_alpha': 0.0014314734047097576, 'reg_lambda': 337.9401010505051, 'subsample': 0.5, 'random_state': 4}.\n",
      "[W 2019-09-08 04:52:02,741] The range of parameter `gamma ` is not divisible by `q`, and is replaced by [0.2, 0.8].\n",
      "[W 2019-09-08 04:52:02,827] The range of parameter `subsample` is not divisible by `q`, and is replaced by [0.5, 0.9].\n",
      "/Users/mitsuhiro/.pyenv/versions/anaconda3-5.3.0/lib/python3.7/site-packages/sklearn/externals/joblib/parallel.py:547: UserWarning: Multiprocessing-backed parallel loops cannot be nested below threads, setting n_jobs=1\n",
      "  **self._backend_args)\n",
      "[I 2019-09-08 04:54:01,698] Finished trial#70 resulted in value: 0.23672494903671018. Current best value is 0.12538519752626726 with parameters: {'n_estimators': 8832, 'max_depth': 9, 'max_features': 'log2', 'colsample_bytree': 0.5, 'gamma ': 0.2, 'min_child_weight': 2, 'reg_alpha': 0.0014314734047097576, 'reg_lambda': 337.9401010505051, 'subsample': 0.5, 'random_state': 4}.\n",
      "[W 2019-09-08 04:54:01,841] The range of parameter `gamma ` is not divisible by `q`, and is replaced by [0.2, 0.8].\n",
      "[W 2019-09-08 04:54:01,932] The range of parameter `subsample` is not divisible by `q`, and is replaced by [0.5, 0.9].\n",
      "/Users/mitsuhiro/.pyenv/versions/anaconda3-5.3.0/lib/python3.7/site-packages/sklearn/externals/joblib/parallel.py:547: UserWarning: Multiprocessing-backed parallel loops cannot be nested below threads, setting n_jobs=1\n",
      "  **self._backend_args)\n",
      "[I 2019-09-08 04:54:54,471] Finished trial#68 resulted in value: 0.1808740907012051. Current best value is 0.12538519752626726 with parameters: {'n_estimators': 8832, 'max_depth': 9, 'max_features': 'log2', 'colsample_bytree': 0.5, 'gamma ': 0.2, 'min_child_weight': 2, 'reg_alpha': 0.0014314734047097576, 'reg_lambda': 337.9401010505051, 'subsample': 0.5, 'random_state': 4}.\n",
      "[W 2019-09-08 04:54:54,588] The range of parameter `gamma ` is not divisible by `q`, and is replaced by [0.2, 0.8].\n",
      "[W 2019-09-08 04:54:54,673] The range of parameter `subsample` is not divisible by `q`, and is replaced by [0.5, 0.9].\n",
      "/Users/mitsuhiro/.pyenv/versions/anaconda3-5.3.0/lib/python3.7/site-packages/sklearn/externals/joblib/parallel.py:547: UserWarning: Multiprocessing-backed parallel loops cannot be nested below threads, setting n_jobs=1\n",
      "  **self._backend_args)\n",
      "[I 2019-09-08 05:04:28,212] Finished trial#60 resulted in value: 0.12679745342555263. Current best value is 0.12538519752626726 with parameters: {'n_estimators': 8832, 'max_depth': 9, 'max_features': 'log2', 'colsample_bytree': 0.5, 'gamma ': 0.2, 'min_child_weight': 2, 'reg_alpha': 0.0014314734047097576, 'reg_lambda': 337.9401010505051, 'subsample': 0.5, 'random_state': 4}.\n",
      "[W 2019-09-08 05:04:28,365] The range of parameter `gamma ` is not divisible by `q`, and is replaced by [0.2, 0.8].\n",
      "[W 2019-09-08 05:04:28,429] The range of parameter `subsample` is not divisible by `q`, and is replaced by [0.5, 0.9].\n",
      "/Users/mitsuhiro/.pyenv/versions/anaconda3-5.3.0/lib/python3.7/site-packages/sklearn/externals/joblib/parallel.py:547: UserWarning: Multiprocessing-backed parallel loops cannot be nested below threads, setting n_jobs=1\n",
      "  **self._backend_args)\n"
     ]
    },
    {
     "name": "stderr",
     "output_type": "stream",
     "text": [
      "[I 2019-09-08 05:23:15,746] Finished trial#72 resulted in value: 0.12913487815061492. Current best value is 0.12538519752626726 with parameters: {'n_estimators': 8832, 'max_depth': 9, 'max_features': 'log2', 'colsample_bytree': 0.5, 'gamma ': 0.2, 'min_child_weight': 2, 'reg_alpha': 0.0014314734047097576, 'reg_lambda': 337.9401010505051, 'subsample': 0.5, 'random_state': 4}.\n",
      "[W 2019-09-08 05:23:15,867] The range of parameter `gamma ` is not divisible by `q`, and is replaced by [0.2, 0.8].\n",
      "[W 2019-09-08 05:23:15,957] The range of parameter `subsample` is not divisible by `q`, and is replaced by [0.5, 0.9].\n",
      "/Users/mitsuhiro/.pyenv/versions/anaconda3-5.3.0/lib/python3.7/site-packages/sklearn/externals/joblib/parallel.py:547: UserWarning: Multiprocessing-backed parallel loops cannot be nested below threads, setting n_jobs=1\n",
      "  **self._backend_args)\n",
      "[I 2019-09-08 05:24:37,800] Finished trial#74 resulted in value: 0.13254948987076168. Current best value is 0.12538519752626726 with parameters: {'n_estimators': 8832, 'max_depth': 9, 'max_features': 'log2', 'colsample_bytree': 0.5, 'gamma ': 0.2, 'min_child_weight': 2, 'reg_alpha': 0.0014314734047097576, 'reg_lambda': 337.9401010505051, 'subsample': 0.5, 'random_state': 4}.\n",
      "[W 2019-09-08 05:24:37,899] The range of parameter `gamma ` is not divisible by `q`, and is replaced by [0.2, 0.8].\n",
      "[W 2019-09-08 05:24:37,986] The range of parameter `subsample` is not divisible by `q`, and is replaced by [0.5, 0.9].\n",
      "/Users/mitsuhiro/.pyenv/versions/anaconda3-5.3.0/lib/python3.7/site-packages/sklearn/externals/joblib/parallel.py:547: UserWarning: Multiprocessing-backed parallel loops cannot be nested below threads, setting n_jobs=1\n",
      "  **self._backend_args)\n",
      "[I 2019-09-08 05:24:55,148] Finished trial#73 resulted in value: 0.12751319476453962. Current best value is 0.12538519752626726 with parameters: {'n_estimators': 8832, 'max_depth': 9, 'max_features': 'log2', 'colsample_bytree': 0.5, 'gamma ': 0.2, 'min_child_weight': 2, 'reg_alpha': 0.0014314734047097576, 'reg_lambda': 337.9401010505051, 'subsample': 0.5, 'random_state': 4}.\n",
      "[W 2019-09-08 05:24:55,246] The range of parameter `gamma ` is not divisible by `q`, and is replaced by [0.2, 0.8].\n",
      "[W 2019-09-08 05:24:55,328] The range of parameter `subsample` is not divisible by `q`, and is replaced by [0.5, 0.9].\n",
      "/Users/mitsuhiro/.pyenv/versions/anaconda3-5.3.0/lib/python3.7/site-packages/sklearn/externals/joblib/parallel.py:547: UserWarning: Multiprocessing-backed parallel loops cannot be nested below threads, setting n_jobs=1\n",
      "  **self._backend_args)\n",
      "[I 2019-09-08 05:36:50,321] Finished trial#71 resulted in value: 0.12711317780914047. Current best value is 0.12538519752626726 with parameters: {'n_estimators': 8832, 'max_depth': 9, 'max_features': 'log2', 'colsample_bytree': 0.5, 'gamma ': 0.2, 'min_child_weight': 2, 'reg_alpha': 0.0014314734047097576, 'reg_lambda': 337.9401010505051, 'subsample': 0.5, 'random_state': 4}.\n",
      "[W 2019-09-08 05:36:50,437] The range of parameter `gamma ` is not divisible by `q`, and is replaced by [0.2, 0.8].\n",
      "[W 2019-09-08 05:36:50,565] The range of parameter `subsample` is not divisible by `q`, and is replaced by [0.5, 0.9].\n",
      "/Users/mitsuhiro/.pyenv/versions/anaconda3-5.3.0/lib/python3.7/site-packages/sklearn/externals/joblib/parallel.py:547: UserWarning: Multiprocessing-backed parallel loops cannot be nested below threads, setting n_jobs=1\n",
      "  **self._backend_args)\n",
      "[I 2019-09-08 05:38:15,009] Finished trial#75 resulted in value: 0.12866371147660077. Current best value is 0.12538519752626726 with parameters: {'n_estimators': 8832, 'max_depth': 9, 'max_features': 'log2', 'colsample_bytree': 0.5, 'gamma ': 0.2, 'min_child_weight': 2, 'reg_alpha': 0.0014314734047097576, 'reg_lambda': 337.9401010505051, 'subsample': 0.5, 'random_state': 4}.\n",
      "[W 2019-09-08 05:38:15,165] The range of parameter `gamma ` is not divisible by `q`, and is replaced by [0.2, 0.8].\n",
      "[W 2019-09-08 05:38:15,259] The range of parameter `subsample` is not divisible by `q`, and is replaced by [0.5, 0.9].\n",
      "/Users/mitsuhiro/.pyenv/versions/anaconda3-5.3.0/lib/python3.7/site-packages/sklearn/externals/joblib/parallel.py:547: UserWarning: Multiprocessing-backed parallel loops cannot be nested below threads, setting n_jobs=1\n",
      "  **self._backend_args)\n",
      "[I 2019-09-08 05:40:01,945] Finished trial#77 resulted in value: 0.12852894230565437. Current best value is 0.12538519752626726 with parameters: {'n_estimators': 8832, 'max_depth': 9, 'max_features': 'log2', 'colsample_bytree': 0.5, 'gamma ': 0.2, 'min_child_weight': 2, 'reg_alpha': 0.0014314734047097576, 'reg_lambda': 337.9401010505051, 'subsample': 0.5, 'random_state': 4}.\n",
      "[W 2019-09-08 05:40:02,095] The range of parameter `gamma ` is not divisible by `q`, and is replaced by [0.2, 0.8].\n",
      "[W 2019-09-08 05:40:02,193] The range of parameter `subsample` is not divisible by `q`, and is replaced by [0.5, 0.9].\n",
      "/Users/mitsuhiro/.pyenv/versions/anaconda3-5.3.0/lib/python3.7/site-packages/sklearn/externals/joblib/parallel.py:547: UserWarning: Multiprocessing-backed parallel loops cannot be nested below threads, setting n_jobs=1\n",
      "  **self._backend_args)\n",
      "[I 2019-09-08 05:40:34,571] Finished trial#76 resulted in value: 0.1330797682420757. Current best value is 0.12538519752626726 with parameters: {'n_estimators': 8832, 'max_depth': 9, 'max_features': 'log2', 'colsample_bytree': 0.5, 'gamma ': 0.2, 'min_child_weight': 2, 'reg_alpha': 0.0014314734047097576, 'reg_lambda': 337.9401010505051, 'subsample': 0.5, 'random_state': 4}.\n",
      "[W 2019-09-08 05:40:34,682] The range of parameter `gamma ` is not divisible by `q`, and is replaced by [0.2, 0.8].\n",
      "[W 2019-09-08 05:40:34,791] The range of parameter `subsample` is not divisible by `q`, and is replaced by [0.5, 0.9].\n",
      "/Users/mitsuhiro/.pyenv/versions/anaconda3-5.3.0/lib/python3.7/site-packages/sklearn/externals/joblib/parallel.py:547: UserWarning: Multiprocessing-backed parallel loops cannot be nested below threads, setting n_jobs=1\n",
      "  **self._backend_args)\n",
      "[I 2019-09-08 05:49:24,164] Finished trial#78 resulted in value: 0.1278298829561488. Current best value is 0.12538519752626726 with parameters: {'n_estimators': 8832, 'max_depth': 9, 'max_features': 'log2', 'colsample_bytree': 0.5, 'gamma ': 0.2, 'min_child_weight': 2, 'reg_alpha': 0.0014314734047097576, 'reg_lambda': 337.9401010505051, 'subsample': 0.5, 'random_state': 4}.\n",
      "[W 2019-09-08 05:49:24,260] The range of parameter `gamma ` is not divisible by `q`, and is replaced by [0.2, 0.8].\n",
      "[W 2019-09-08 05:49:24,359] The range of parameter `subsample` is not divisible by `q`, and is replaced by [0.5, 0.9].\n",
      "/Users/mitsuhiro/.pyenv/versions/anaconda3-5.3.0/lib/python3.7/site-packages/sklearn/externals/joblib/parallel.py:547: UserWarning: Multiprocessing-backed parallel loops cannot be nested below threads, setting n_jobs=1\n",
      "  **self._backend_args)\n",
      "[I 2019-09-08 05:57:50,096] Finished trial#81 resulted in value: 0.1278348794142846. Current best value is 0.12538519752626726 with parameters: {'n_estimators': 8832, 'max_depth': 9, 'max_features': 'log2', 'colsample_bytree': 0.5, 'gamma ': 0.2, 'min_child_weight': 2, 'reg_alpha': 0.0014314734047097576, 'reg_lambda': 337.9401010505051, 'subsample': 0.5, 'random_state': 4}.\n",
      "[W 2019-09-08 05:57:50,244] The range of parameter `gamma ` is not divisible by `q`, and is replaced by [0.2, 0.8].\n",
      "[W 2019-09-08 05:57:50,356] The range of parameter `subsample` is not divisible by `q`, and is replaced by [0.5, 0.9].\n",
      "/Users/mitsuhiro/.pyenv/versions/anaconda3-5.3.0/lib/python3.7/site-packages/sklearn/externals/joblib/parallel.py:547: UserWarning: Multiprocessing-backed parallel loops cannot be nested below threads, setting n_jobs=1\n",
      "  **self._backend_args)\n",
      "[I 2019-09-08 06:00:21,797] Finished trial#80 resulted in value: 0.12726146236073682. Current best value is 0.12538519752626726 with parameters: {'n_estimators': 8832, 'max_depth': 9, 'max_features': 'log2', 'colsample_bytree': 0.5, 'gamma ': 0.2, 'min_child_weight': 2, 'reg_alpha': 0.0014314734047097576, 'reg_lambda': 337.9401010505051, 'subsample': 0.5, 'random_state': 4}.\n"
     ]
    },
    {
     "name": "stderr",
     "output_type": "stream",
     "text": [
      "[W 2019-09-08 06:00:21,953] The range of parameter `gamma ` is not divisible by `q`, and is replaced by [0.2, 0.8].\n",
      "[W 2019-09-08 06:00:22,051] The range of parameter `subsample` is not divisible by `q`, and is replaced by [0.5, 0.9].\n",
      "/Users/mitsuhiro/.pyenv/versions/anaconda3-5.3.0/lib/python3.7/site-packages/sklearn/externals/joblib/parallel.py:547: UserWarning: Multiprocessing-backed parallel loops cannot be nested below threads, setting n_jobs=1\n",
      "  **self._backend_args)\n",
      "[I 2019-09-08 06:00:24,591] Finished trial#82 resulted in value: 0.12802879091052394. Current best value is 0.12538519752626726 with parameters: {'n_estimators': 8832, 'max_depth': 9, 'max_features': 'log2', 'colsample_bytree': 0.5, 'gamma ': 0.2, 'min_child_weight': 2, 'reg_alpha': 0.0014314734047097576, 'reg_lambda': 337.9401010505051, 'subsample': 0.5, 'random_state': 4}.\n",
      "[W 2019-09-08 06:00:24,704] The range of parameter `gamma ` is not divisible by `q`, and is replaced by [0.2, 0.8].\n",
      "[W 2019-09-08 06:00:24,801] The range of parameter `subsample` is not divisible by `q`, and is replaced by [0.5, 0.9].\n",
      "/Users/mitsuhiro/.pyenv/versions/anaconda3-5.3.0/lib/python3.7/site-packages/sklearn/externals/joblib/parallel.py:547: UserWarning: Multiprocessing-backed parallel loops cannot be nested below threads, setting n_jobs=1\n",
      "  **self._backend_args)\n",
      "[I 2019-09-08 06:01:48,958] Finished trial#83 resulted in value: 0.12792837921007746. Current best value is 0.12538519752626726 with parameters: {'n_estimators': 8832, 'max_depth': 9, 'max_features': 'log2', 'colsample_bytree': 0.5, 'gamma ': 0.2, 'min_child_weight': 2, 'reg_alpha': 0.0014314734047097576, 'reg_lambda': 337.9401010505051, 'subsample': 0.5, 'random_state': 4}.\n",
      "[W 2019-09-08 06:01:49,068] The range of parameter `gamma ` is not divisible by `q`, and is replaced by [0.2, 0.8].\n",
      "[W 2019-09-08 06:01:49,181] The range of parameter `subsample` is not divisible by `q`, and is replaced by [0.5, 0.9].\n",
      "/Users/mitsuhiro/.pyenv/versions/anaconda3-5.3.0/lib/python3.7/site-packages/sklearn/externals/joblib/parallel.py:547: UserWarning: Multiprocessing-backed parallel loops cannot be nested below threads, setting n_jobs=1\n",
      "  **self._backend_args)\n",
      "[I 2019-09-08 06:13:26,552] Finished trial#79 resulted in value: 0.12700286593561977. Current best value is 0.12538519752626726 with parameters: {'n_estimators': 8832, 'max_depth': 9, 'max_features': 'log2', 'colsample_bytree': 0.5, 'gamma ': 0.2, 'min_child_weight': 2, 'reg_alpha': 0.0014314734047097576, 'reg_lambda': 337.9401010505051, 'subsample': 0.5, 'random_state': 4}.\n",
      "[W 2019-09-08 06:13:26,703] The range of parameter `gamma ` is not divisible by `q`, and is replaced by [0.2, 0.8].\n",
      "[W 2019-09-08 06:13:26,812] The range of parameter `subsample` is not divisible by `q`, and is replaced by [0.5, 0.9].\n",
      "/Users/mitsuhiro/.pyenv/versions/anaconda3-5.3.0/lib/python3.7/site-packages/sklearn/externals/joblib/parallel.py:547: UserWarning: Multiprocessing-backed parallel loops cannot be nested below threads, setting n_jobs=1\n",
      "  **self._backend_args)\n",
      "[I 2019-09-08 06:13:42,693] Finished trial#84 resulted in value: 0.12758015554326257. Current best value is 0.12538519752626726 with parameters: {'n_estimators': 8832, 'max_depth': 9, 'max_features': 'log2', 'colsample_bytree': 0.5, 'gamma ': 0.2, 'min_child_weight': 2, 'reg_alpha': 0.0014314734047097576, 'reg_lambda': 337.9401010505051, 'subsample': 0.5, 'random_state': 4}.\n",
      "[W 2019-09-08 06:13:42,785] The range of parameter `gamma ` is not divisible by `q`, and is replaced by [0.2, 0.8].\n",
      "[W 2019-09-08 06:13:42,908] The range of parameter `subsample` is not divisible by `q`, and is replaced by [0.5, 0.9].\n",
      "/Users/mitsuhiro/.pyenv/versions/anaconda3-5.3.0/lib/python3.7/site-packages/sklearn/externals/joblib/parallel.py:547: UserWarning: Multiprocessing-backed parallel loops cannot be nested below threads, setting n_jobs=1\n",
      "  **self._backend_args)\n",
      "[I 2019-09-08 06:28:50,885] Finished trial#91 resulted in value: 1.0467638774466672. Current best value is 0.12538519752626726 with parameters: {'n_estimators': 8832, 'max_depth': 9, 'max_features': 'log2', 'colsample_bytree': 0.5, 'gamma ': 0.2, 'min_child_weight': 2, 'reg_alpha': 0.0014314734047097576, 'reg_lambda': 337.9401010505051, 'subsample': 0.5, 'random_state': 4}.\n",
      "[W 2019-09-08 06:28:51,053] The range of parameter `gamma ` is not divisible by `q`, and is replaced by [0.2, 0.8].\n",
      "[W 2019-09-08 06:28:51,170] The range of parameter `subsample` is not divisible by `q`, and is replaced by [0.5, 0.9].\n",
      "/Users/mitsuhiro/.pyenv/versions/anaconda3-5.3.0/lib/python3.7/site-packages/sklearn/externals/joblib/parallel.py:547: UserWarning: Multiprocessing-backed parallel loops cannot be nested below threads, setting n_jobs=1\n",
      "  **self._backend_args)\n",
      "[I 2019-09-08 06:34:31,828] Finished trial#88 resulted in value: 0.12903098650174713. Current best value is 0.12538519752626726 with parameters: {'n_estimators': 8832, 'max_depth': 9, 'max_features': 'log2', 'colsample_bytree': 0.5, 'gamma ': 0.2, 'min_child_weight': 2, 'reg_alpha': 0.0014314734047097576, 'reg_lambda': 337.9401010505051, 'subsample': 0.5, 'random_state': 4}.\n",
      "[W 2019-09-08 06:34:31,949] The range of parameter `gamma ` is not divisible by `q`, and is replaced by [0.2, 0.8].\n",
      "[W 2019-09-08 06:34:32,046] The range of parameter `subsample` is not divisible by `q`, and is replaced by [0.5, 0.9].\n",
      "/Users/mitsuhiro/.pyenv/versions/anaconda3-5.3.0/lib/python3.7/site-packages/sklearn/externals/joblib/parallel.py:547: UserWarning: Multiprocessing-backed parallel loops cannot be nested below threads, setting n_jobs=1\n",
      "  **self._backend_args)\n",
      "[I 2019-09-08 06:45:28,628] Finished trial#85 resulted in value: 0.12681597158523. Current best value is 0.12538519752626726 with parameters: {'n_estimators': 8832, 'max_depth': 9, 'max_features': 'log2', 'colsample_bytree': 0.5, 'gamma ': 0.2, 'min_child_weight': 2, 'reg_alpha': 0.0014314734047097576, 'reg_lambda': 337.9401010505051, 'subsample': 0.5, 'random_state': 4}.\n",
      "[W 2019-09-08 06:45:28,910] The range of parameter `gamma ` is not divisible by `q`, and is replaced by [0.2, 0.8].\n",
      "[W 2019-09-08 06:45:29,032] The range of parameter `subsample` is not divisible by `q`, and is replaced by [0.5, 0.9].\n",
      "/Users/mitsuhiro/.pyenv/versions/anaconda3-5.3.0/lib/python3.7/site-packages/sklearn/externals/joblib/parallel.py:547: UserWarning: Multiprocessing-backed parallel loops cannot be nested below threads, setting n_jobs=1\n",
      "  **self._backend_args)\n",
      "[I 2019-09-08 06:45:33,998] Finished trial#87 resulted in value: 0.1290936605828747. Current best value is 0.12538519752626726 with parameters: {'n_estimators': 8832, 'max_depth': 9, 'max_features': 'log2', 'colsample_bytree': 0.5, 'gamma ': 0.2, 'min_child_weight': 2, 'reg_alpha': 0.0014314734047097576, 'reg_lambda': 337.9401010505051, 'subsample': 0.5, 'random_state': 4}.\n",
      "[W 2019-09-08 06:45:34,127] The range of parameter `gamma ` is not divisible by `q`, and is replaced by [0.2, 0.8].\n",
      "[W 2019-09-08 06:45:34,224] The range of parameter `subsample` is not divisible by `q`, and is replaced by [0.5, 0.9].\n",
      "/Users/mitsuhiro/.pyenv/versions/anaconda3-5.3.0/lib/python3.7/site-packages/sklearn/externals/joblib/parallel.py:547: UserWarning: Multiprocessing-backed parallel loops cannot be nested below threads, setting n_jobs=1\n",
      "  **self._backend_args)\n",
      "[I 2019-09-08 06:53:47,127] Finished trial#86 resulted in value: 0.12741270081905975. Current best value is 0.12538519752626726 with parameters: {'n_estimators': 8832, 'max_depth': 9, 'max_features': 'log2', 'colsample_bytree': 0.5, 'gamma ': 0.2, 'min_child_weight': 2, 'reg_alpha': 0.0014314734047097576, 'reg_lambda': 337.9401010505051, 'subsample': 0.5, 'random_state': 4}.\n",
      "[W 2019-09-08 06:53:47,269] The range of parameter `gamma ` is not divisible by `q`, and is replaced by [0.2, 0.8].\n",
      "[W 2019-09-08 06:53:47,478] The range of parameter `subsample` is not divisible by `q`, and is replaced by [0.5, 0.9].\n",
      "/Users/mitsuhiro/.pyenv/versions/anaconda3-5.3.0/lib/python3.7/site-packages/sklearn/externals/joblib/parallel.py:547: UserWarning: Multiprocessing-backed parallel loops cannot be nested below threads, setting n_jobs=1\n",
      "  **self._backend_args)\n"
     ]
    },
    {
     "name": "stderr",
     "output_type": "stream",
     "text": [
      "[I 2019-09-08 07:02:33,372] Finished trial#89 resulted in value: 0.1284745124385917. Current best value is 0.12538519752626726 with parameters: {'n_estimators': 8832, 'max_depth': 9, 'max_features': 'log2', 'colsample_bytree': 0.5, 'gamma ': 0.2, 'min_child_weight': 2, 'reg_alpha': 0.0014314734047097576, 'reg_lambda': 337.9401010505051, 'subsample': 0.5, 'random_state': 4}.\n",
      "[W 2019-09-08 07:02:33,519] The range of parameter `gamma ` is not divisible by `q`, and is replaced by [0.2, 0.8].\n",
      "[W 2019-09-08 07:02:33,634] The range of parameter `subsample` is not divisible by `q`, and is replaced by [0.5, 0.9].\n",
      "/Users/mitsuhiro/.pyenv/versions/anaconda3-5.3.0/lib/python3.7/site-packages/sklearn/externals/joblib/parallel.py:547: UserWarning: Multiprocessing-backed parallel loops cannot be nested below threads, setting n_jobs=1\n",
      "  **self._backend_args)\n",
      "[I 2019-09-08 07:04:27,106] Finished trial#95 resulted in value: 0.49591600311775563. Current best value is 0.12538519752626726 with parameters: {'n_estimators': 8832, 'max_depth': 9, 'max_features': 'log2', 'colsample_bytree': 0.5, 'gamma ': 0.2, 'min_child_weight': 2, 'reg_alpha': 0.0014314734047097576, 'reg_lambda': 337.9401010505051, 'subsample': 0.5, 'random_state': 4}.\n",
      "[W 2019-09-08 07:04:27,241] The range of parameter `gamma ` is not divisible by `q`, and is replaced by [0.2, 0.8].\n",
      "[W 2019-09-08 07:04:27,343] The range of parameter `subsample` is not divisible by `q`, and is replaced by [0.5, 0.9].\n",
      "/Users/mitsuhiro/.pyenv/versions/anaconda3-5.3.0/lib/python3.7/site-packages/sklearn/externals/joblib/parallel.py:547: UserWarning: Multiprocessing-backed parallel loops cannot be nested below threads, setting n_jobs=1\n",
      "  **self._backend_args)\n",
      "[I 2019-09-08 07:05:22,488] Finished trial#90 resulted in value: 0.13212862408283754. Current best value is 0.12538519752626726 with parameters: {'n_estimators': 8832, 'max_depth': 9, 'max_features': 'log2', 'colsample_bytree': 0.5, 'gamma ': 0.2, 'min_child_weight': 2, 'reg_alpha': 0.0014314734047097576, 'reg_lambda': 337.9401010505051, 'subsample': 0.5, 'random_state': 4}.\n",
      "[W 2019-09-08 07:05:22,625] The range of parameter `gamma ` is not divisible by `q`, and is replaced by [0.2, 0.8].\n",
      "[W 2019-09-08 07:05:22,736] The range of parameter `subsample` is not divisible by `q`, and is replaced by [0.5, 0.9].\n",
      "/Users/mitsuhiro/.pyenv/versions/anaconda3-5.3.0/lib/python3.7/site-packages/sklearn/externals/joblib/parallel.py:547: UserWarning: Multiprocessing-backed parallel loops cannot be nested below threads, setting n_jobs=1\n",
      "  **self._backend_args)\n",
      "[I 2019-09-08 07:14:13,909] Finished trial#94 resulted in value: 0.12770620393801999. Current best value is 0.12538519752626726 with parameters: {'n_estimators': 8832, 'max_depth': 9, 'max_features': 'log2', 'colsample_bytree': 0.5, 'gamma ': 0.2, 'min_child_weight': 2, 'reg_alpha': 0.0014314734047097576, 'reg_lambda': 337.9401010505051, 'subsample': 0.5, 'random_state': 4}.\n",
      "[W 2019-09-08 07:14:14,083] The range of parameter `gamma ` is not divisible by `q`, and is replaced by [0.2, 0.8].\n",
      "[W 2019-09-08 07:14:14,204] The range of parameter `subsample` is not divisible by `q`, and is replaced by [0.5, 0.9].\n",
      "/Users/mitsuhiro/.pyenv/versions/anaconda3-5.3.0/lib/python3.7/site-packages/sklearn/externals/joblib/parallel.py:547: UserWarning: Multiprocessing-backed parallel loops cannot be nested below threads, setting n_jobs=1\n",
      "  **self._backend_args)\n",
      "[I 2019-09-08 07:16:22,838] Finished trial#96 resulted in value: 0.12773606544435268. Current best value is 0.12538519752626726 with parameters: {'n_estimators': 8832, 'max_depth': 9, 'max_features': 'log2', 'colsample_bytree': 0.5, 'gamma ': 0.2, 'min_child_weight': 2, 'reg_alpha': 0.0014314734047097576, 'reg_lambda': 337.9401010505051, 'subsample': 0.5, 'random_state': 4}.\n",
      "[W 2019-09-08 07:16:22,986] The range of parameter `gamma ` is not divisible by `q`, and is replaced by [0.2, 0.8].\n",
      "[W 2019-09-08 07:16:23,105] The range of parameter `subsample` is not divisible by `q`, and is replaced by [0.5, 0.9].\n",
      "/Users/mitsuhiro/.pyenv/versions/anaconda3-5.3.0/lib/python3.7/site-packages/sklearn/externals/joblib/parallel.py:547: UserWarning: Multiprocessing-backed parallel loops cannot be nested below threads, setting n_jobs=1\n",
      "  **self._backend_args)\n",
      "[I 2019-09-08 07:16:37,747] Finished trial#92 resulted in value: 0.12861364877571266. Current best value is 0.12538519752626726 with parameters: {'n_estimators': 8832, 'max_depth': 9, 'max_features': 'log2', 'colsample_bytree': 0.5, 'gamma ': 0.2, 'min_child_weight': 2, 'reg_alpha': 0.0014314734047097576, 'reg_lambda': 337.9401010505051, 'subsample': 0.5, 'random_state': 4}.\n",
      "[W 2019-09-08 07:16:37,876] The range of parameter `gamma ` is not divisible by `q`, and is replaced by [0.2, 0.8].\n",
      "[W 2019-09-08 07:16:37,993] The range of parameter `subsample` is not divisible by `q`, and is replaced by [0.5, 0.9].\n",
      "/Users/mitsuhiro/.pyenv/versions/anaconda3-5.3.0/lib/python3.7/site-packages/sklearn/externals/joblib/parallel.py:547: UserWarning: Multiprocessing-backed parallel loops cannot be nested below threads, setting n_jobs=1\n",
      "  **self._backend_args)\n"
     ]
    },
    {
     "ename": "KeyboardInterrupt",
     "evalue": "",
     "output_type": "error",
     "traceback": [
      "\u001b[0;31m---------------------------------------------------------------------------\u001b[0m",
      "\u001b[0;31mFull\u001b[0m                                      Traceback (most recent call last)",
      "\u001b[0;32m~/.pyenv/versions/anaconda3-5.3.0/lib/python3.7/site-packages/optuna/study.py\u001b[0m in \u001b[0;36m_optimize_parallel\u001b[0;34m(self, func, n_trials, timeout, n_jobs, catch)\u001b[0m\n\u001b[1;32m    377\u001b[0m             \u001b[0;32mtry\u001b[0m\u001b[0;34m:\u001b[0m\u001b[0;34m\u001b[0m\u001b[0m\n\u001b[0;32m--> 378\u001b[0;31m                 \u001b[0mque\u001b[0m\u001b[0;34m.\u001b[0m\u001b[0mput_nowait\u001b[0m\u001b[0;34m(\u001b[0m\u001b[0;32mTrue\u001b[0m\u001b[0;34m)\u001b[0m\u001b[0;34m\u001b[0m\u001b[0m\n\u001b[0m\u001b[1;32m    379\u001b[0m                 \u001b[0mn_enqueued_trials\u001b[0m \u001b[0;34m+=\u001b[0m \u001b[0;36m1\u001b[0m\u001b[0;34m\u001b[0m\u001b[0m\n",
      "\u001b[0;32m~/.pyenv/versions/anaconda3-5.3.0/lib/python3.7/multiprocessing/queues.py\u001b[0m in \u001b[0;36mput_nowait\u001b[0;34m(self, obj)\u001b[0m\n\u001b[1;32m    128\u001b[0m     \u001b[0;32mdef\u001b[0m \u001b[0mput_nowait\u001b[0m\u001b[0;34m(\u001b[0m\u001b[0mself\u001b[0m\u001b[0;34m,\u001b[0m \u001b[0mobj\u001b[0m\u001b[0;34m)\u001b[0m\u001b[0;34m:\u001b[0m\u001b[0;34m\u001b[0m\u001b[0m\n\u001b[0;32m--> 129\u001b[0;31m         \u001b[0;32mreturn\u001b[0m \u001b[0mself\u001b[0m\u001b[0;34m.\u001b[0m\u001b[0mput\u001b[0m\u001b[0;34m(\u001b[0m\u001b[0mobj\u001b[0m\u001b[0;34m,\u001b[0m \u001b[0;32mFalse\u001b[0m\u001b[0;34m)\u001b[0m\u001b[0;34m\u001b[0m\u001b[0m\n\u001b[0m\u001b[1;32m    130\u001b[0m \u001b[0;34m\u001b[0m\u001b[0m\n",
      "\u001b[0;32m~/.pyenv/versions/anaconda3-5.3.0/lib/python3.7/multiprocessing/queues.py\u001b[0m in \u001b[0;36mput\u001b[0;34m(self, obj, block, timeout)\u001b[0m\n\u001b[1;32m     82\u001b[0m         \u001b[0;32mif\u001b[0m \u001b[0;32mnot\u001b[0m \u001b[0mself\u001b[0m\u001b[0;34m.\u001b[0m\u001b[0m_sem\u001b[0m\u001b[0;34m.\u001b[0m\u001b[0macquire\u001b[0m\u001b[0;34m(\u001b[0m\u001b[0mblock\u001b[0m\u001b[0;34m,\u001b[0m \u001b[0mtimeout\u001b[0m\u001b[0;34m)\u001b[0m\u001b[0;34m:\u001b[0m\u001b[0;34m\u001b[0m\u001b[0m\n\u001b[0;32m---> 83\u001b[0;31m             \u001b[0;32mraise\u001b[0m \u001b[0mFull\u001b[0m\u001b[0;34m\u001b[0m\u001b[0m\n\u001b[0m\u001b[1;32m     84\u001b[0m \u001b[0;34m\u001b[0m\u001b[0m\n",
      "\u001b[0;31mFull\u001b[0m: ",
      "\nDuring handling of the above exception, another exception occurred:\n",
      "\u001b[0;31mKeyboardInterrupt\u001b[0m                         Traceback (most recent call last)",
      "\u001b[0;32m<ipython-input-48-26b7c3e98ed6>\u001b[0m in \u001b[0;36m<module>\u001b[0;34m()\u001b[0m\n\u001b[1;32m      5\u001b[0m                \u001b[0mn_trials\u001b[0m\u001b[0;34m=\u001b[0m\u001b[0;36m1000\u001b[0m\u001b[0;34m,\u001b[0m \u001b[0;31m# 試行回数\u001b[0m\u001b[0;34m\u001b[0m\u001b[0m\n\u001b[1;32m      6\u001b[0m                \u001b[0mtimeout\u001b[0m\u001b[0;34m=\u001b[0m\u001b[0;32mNone\u001b[0m\u001b[0;34m,\u001b[0m \u001b[0;31m# 与えられた秒数後に学習を中止します。default=None\u001b[0m\u001b[0;34m\u001b[0m\u001b[0m\n\u001b[0;32m----> 7\u001b[0;31m                \u001b[0mn_jobs\u001b[0m\u001b[0;34m=\u001b[0m\u001b[0;36m8\u001b[0m \u001b[0;31m# 並列実行するjob数\u001b[0m\u001b[0;34m\u001b[0m\u001b[0m\n\u001b[0m\u001b[1;32m      8\u001b[0m               )\n",
      "\u001b[0;32m~/.pyenv/versions/anaconda3-5.3.0/lib/python3.7/site-packages/optuna/study.py\u001b[0m in \u001b[0;36moptimize\u001b[0;34m(self, func, n_trials, timeout, n_jobs, catch)\u001b[0m\n\u001b[1;32m    211\u001b[0m             \u001b[0mself\u001b[0m\u001b[0;34m.\u001b[0m\u001b[0m_optimize_sequential\u001b[0m\u001b[0;34m(\u001b[0m\u001b[0mfunc\u001b[0m\u001b[0;34m,\u001b[0m \u001b[0mn_trials\u001b[0m\u001b[0;34m,\u001b[0m \u001b[0mtimeout\u001b[0m\u001b[0;34m,\u001b[0m \u001b[0mcatch\u001b[0m\u001b[0;34m)\u001b[0m\u001b[0;34m\u001b[0m\u001b[0m\n\u001b[1;32m    212\u001b[0m         \u001b[0;32melse\u001b[0m\u001b[0;34m:\u001b[0m\u001b[0;34m\u001b[0m\u001b[0m\n\u001b[0;32m--> 213\u001b[0;31m             \u001b[0mself\u001b[0m\u001b[0;34m.\u001b[0m\u001b[0m_optimize_parallel\u001b[0m\u001b[0;34m(\u001b[0m\u001b[0mfunc\u001b[0m\u001b[0;34m,\u001b[0m \u001b[0mn_trials\u001b[0m\u001b[0;34m,\u001b[0m \u001b[0mtimeout\u001b[0m\u001b[0;34m,\u001b[0m \u001b[0mn_jobs\u001b[0m\u001b[0;34m,\u001b[0m \u001b[0mcatch\u001b[0m\u001b[0;34m)\u001b[0m\u001b[0;34m\u001b[0m\u001b[0m\n\u001b[0m\u001b[1;32m    214\u001b[0m \u001b[0;34m\u001b[0m\u001b[0m\n\u001b[1;32m    215\u001b[0m     \u001b[0;32mdef\u001b[0m \u001b[0mset_user_attr\u001b[0m\u001b[0;34m(\u001b[0m\u001b[0mself\u001b[0m\u001b[0;34m,\u001b[0m \u001b[0mkey\u001b[0m\u001b[0;34m,\u001b[0m \u001b[0mvalue\u001b[0m\u001b[0;34m)\u001b[0m\u001b[0;34m:\u001b[0m\u001b[0;34m\u001b[0m\u001b[0m\n",
      "\u001b[0;32m~/.pyenv/versions/anaconda3-5.3.0/lib/python3.7/site-packages/optuna/study.py\u001b[0m in \u001b[0;36m_optimize_parallel\u001b[0;34m(self, func, n_trials, timeout, n_jobs, catch)\u001b[0m\n\u001b[1;32m    379\u001b[0m                 \u001b[0mn_enqueued_trials\u001b[0m \u001b[0;34m+=\u001b[0m \u001b[0;36m1\u001b[0m\u001b[0;34m\u001b[0m\u001b[0m\n\u001b[1;32m    380\u001b[0m             \u001b[0;32mexcept\u001b[0m \u001b[0mqueue\u001b[0m\u001b[0;34m.\u001b[0m\u001b[0mFull\u001b[0m\u001b[0;34m:\u001b[0m\u001b[0;34m\u001b[0m\u001b[0m\n\u001b[0;32m--> 381\u001b[0;31m                 \u001b[0mtime\u001b[0m\u001b[0;34m.\u001b[0m\u001b[0msleep\u001b[0m\u001b[0;34m(\u001b[0m\u001b[0;36m1\u001b[0m\u001b[0;34m)\u001b[0m\u001b[0;34m\u001b[0m\u001b[0m\n\u001b[0m\u001b[1;32m    382\u001b[0m \u001b[0;34m\u001b[0m\u001b[0m\n\u001b[1;32m    383\u001b[0m         \u001b[0;32mfor\u001b[0m \u001b[0m_\u001b[0m \u001b[0;32min\u001b[0m \u001b[0mrange\u001b[0m\u001b[0;34m(\u001b[0m\u001b[0mn_jobs\u001b[0m\u001b[0;34m)\u001b[0m\u001b[0;34m:\u001b[0m\u001b[0;34m\u001b[0m\u001b[0m\n",
      "\u001b[0;31mKeyboardInterrupt\u001b[0m: "
     ]
    },
    {
     "name": "stderr",
     "output_type": "stream",
     "text": [
      "[I 2019-09-08 07:26:48,992] Finished trial#102 resulted in value: 0.12888003837078094. Current best value is 0.12538519752626726 with parameters: {'n_estimators': 8832, 'max_depth': 9, 'max_features': 'log2', 'colsample_bytree': 0.5, 'gamma ': 0.2, 'min_child_weight': 2, 'reg_alpha': 0.0014314734047097576, 'reg_lambda': 337.9401010505051, 'subsample': 0.5, 'random_state': 4}.\n",
      "[W 2019-09-08 07:26:49,164] The range of parameter `gamma ` is not divisible by `q`, and is replaced by [0.2, 0.8].\n",
      "[W 2019-09-08 07:26:49,282] The range of parameter `subsample` is not divisible by `q`, and is replaced by [0.5, 0.9].\n",
      "/Users/mitsuhiro/.pyenv/versions/anaconda3-5.3.0/lib/python3.7/site-packages/sklearn/externals/joblib/parallel.py:547: UserWarning: Multiprocessing-backed parallel loops cannot be nested below threads, setting n_jobs=1\n",
      "  **self._backend_args)\n",
      "[I 2019-09-08 07:38:03,885] Finished trial#93 resulted in value: 0.12808065848381048. Current best value is 0.12538519752626726 with parameters: {'n_estimators': 8832, 'max_depth': 9, 'max_features': 'log2', 'colsample_bytree': 0.5, 'gamma ': 0.2, 'min_child_weight': 2, 'reg_alpha': 0.0014314734047097576, 'reg_lambda': 337.9401010505051, 'subsample': 0.5, 'random_state': 4}.\n",
      "[W 2019-09-08 07:38:04,072] The range of parameter `gamma ` is not divisible by `q`, and is replaced by [0.2, 0.8].\n",
      "[W 2019-09-08 07:38:04,215] The range of parameter `subsample` is not divisible by `q`, and is replaced by [0.5, 0.9].\n",
      "/Users/mitsuhiro/.pyenv/versions/anaconda3-5.3.0/lib/python3.7/site-packages/sklearn/externals/joblib/parallel.py:547: UserWarning: Multiprocessing-backed parallel loops cannot be nested below threads, setting n_jobs=1\n",
      "  **self._backend_args)\n",
      "[I 2019-09-08 07:40:40,646] Finished trial#98 resulted in value: 0.13116164727436821. Current best value is 0.12538519752626726 with parameters: {'n_estimators': 8832, 'max_depth': 9, 'max_features': 'log2', 'colsample_bytree': 0.5, 'gamma ': 0.2, 'min_child_weight': 2, 'reg_alpha': 0.0014314734047097576, 'reg_lambda': 337.9401010505051, 'subsample': 0.5, 'random_state': 4}.\n",
      "[W 2019-09-08 07:40:40,779] The range of parameter `gamma ` is not divisible by `q`, and is replaced by [0.2, 0.8].\n",
      "[W 2019-09-08 07:40:40,905] The range of parameter `subsample` is not divisible by `q`, and is replaced by [0.5, 0.9].\n",
      "/Users/mitsuhiro/.pyenv/versions/anaconda3-5.3.0/lib/python3.7/site-packages/sklearn/externals/joblib/parallel.py:547: UserWarning: Multiprocessing-backed parallel loops cannot be nested below threads, setting n_jobs=1\n",
      "  **self._backend_args)\n",
      "[I 2019-09-08 07:48:42,952] Finished trial#101 resulted in value: 0.1319309920774311. Current best value is 0.12538519752626726 with parameters: {'n_estimators': 8832, 'max_depth': 9, 'max_features': 'log2', 'colsample_bytree': 0.5, 'gamma ': 0.2, 'min_child_weight': 2, 'reg_alpha': 0.0014314734047097576, 'reg_lambda': 337.9401010505051, 'subsample': 0.5, 'random_state': 4}.\n",
      "[W 2019-09-08 07:48:43,083] The range of parameter `gamma ` is not divisible by `q`, and is replaced by [0.2, 0.8].\n",
      "[W 2019-09-08 07:48:43,204] The range of parameter `subsample` is not divisible by `q`, and is replaced by [0.5, 0.9].\n",
      "/Users/mitsuhiro/.pyenv/versions/anaconda3-5.3.0/lib/python3.7/site-packages/sklearn/externals/joblib/parallel.py:547: UserWarning: Multiprocessing-backed parallel loops cannot be nested below threads, setting n_jobs=1\n",
      "  **self._backend_args)\n",
      "[I 2019-09-08 07:51:46,970] Finished trial#103 resulted in value: 0.1392444263894348. Current best value is 0.12538519752626726 with parameters: {'n_estimators': 8832, 'max_depth': 9, 'max_features': 'log2', 'colsample_bytree': 0.5, 'gamma ': 0.2, 'min_child_weight': 2, 'reg_alpha': 0.0014314734047097576, 'reg_lambda': 337.9401010505051, 'subsample': 0.5, 'random_state': 4}.\n",
      "[W 2019-09-08 07:51:47,133] The range of parameter `gamma ` is not divisible by `q`, and is replaced by [0.2, 0.8].\n",
      "[W 2019-09-08 07:51:47,268] The range of parameter `subsample` is not divisible by `q`, and is replaced by [0.5, 0.9].\n",
      "/Users/mitsuhiro/.pyenv/versions/anaconda3-5.3.0/lib/python3.7/site-packages/sklearn/externals/joblib/parallel.py:547: UserWarning: Multiprocessing-backed parallel loops cannot be nested below threads, setting n_jobs=1\n",
      "  **self._backend_args)\n",
      "[I 2019-09-08 07:54:37,901] Finished trial#99 resulted in value: 0.12950136019769826. Current best value is 0.12538519752626726 with parameters: {'n_estimators': 8832, 'max_depth': 9, 'max_features': 'log2', 'colsample_bytree': 0.5, 'gamma ': 0.2, 'min_child_weight': 2, 'reg_alpha': 0.0014314734047097576, 'reg_lambda': 337.9401010505051, 'subsample': 0.5, 'random_state': 4}.\n",
      "[W 2019-09-08 07:54:38,018] The range of parameter `gamma ` is not divisible by `q`, and is replaced by [0.2, 0.8].\n",
      "[W 2019-09-08 07:54:38,135] The range of parameter `subsample` is not divisible by `q`, and is replaced by [0.5, 0.9].\n",
      "/Users/mitsuhiro/.pyenv/versions/anaconda3-5.3.0/lib/python3.7/site-packages/sklearn/externals/joblib/parallel.py:547: UserWarning: Multiprocessing-backed parallel loops cannot be nested below threads, setting n_jobs=1\n",
      "  **self._backend_args)\n",
      "[I 2019-09-08 07:55:57,570] Finished trial#100 resulted in value: 0.12968195840805868. Current best value is 0.12538519752626726 with parameters: {'n_estimators': 8832, 'max_depth': 9, 'max_features': 'log2', 'colsample_bytree': 0.5, 'gamma ': 0.2, 'min_child_weight': 2, 'reg_alpha': 0.0014314734047097576, 'reg_lambda': 337.9401010505051, 'subsample': 0.5, 'random_state': 4}.\n",
      "[W 2019-09-08 07:55:57,749] The range of parameter `gamma ` is not divisible by `q`, and is replaced by [0.2, 0.8].\n",
      "[W 2019-09-08 07:55:57,873] The range of parameter `subsample` is not divisible by `q`, and is replaced by [0.5, 0.9].\n",
      "/Users/mitsuhiro/.pyenv/versions/anaconda3-5.3.0/lib/python3.7/site-packages/sklearn/externals/joblib/parallel.py:547: UserWarning: Multiprocessing-backed parallel loops cannot be nested below threads, setting n_jobs=1\n",
      "  **self._backend_args)\n",
      "[I 2019-09-08 08:10:07,715] Finished trial#106 resulted in value: 0.13736955448629692. Current best value is 0.12538519752626726 with parameters: {'n_estimators': 8832, 'max_depth': 9, 'max_features': 'log2', 'colsample_bytree': 0.5, 'gamma ': 0.2, 'min_child_weight': 2, 'reg_alpha': 0.0014314734047097576, 'reg_lambda': 337.9401010505051, 'subsample': 0.5, 'random_state': 4}.\n",
      "[W 2019-09-08 08:10:07,887] The range of parameter `gamma ` is not divisible by `q`, and is replaced by [0.2, 0.8].\n",
      "[W 2019-09-08 08:10:08,023] The range of parameter `subsample` is not divisible by `q`, and is replaced by [0.5, 0.9].\n",
      "/Users/mitsuhiro/.pyenv/versions/anaconda3-5.3.0/lib/python3.7/site-packages/sklearn/externals/joblib/parallel.py:547: UserWarning: Multiprocessing-backed parallel loops cannot be nested below threads, setting n_jobs=1\n",
      "  **self._backend_args)\n",
      "[I 2019-09-08 08:12:35,703] Finished trial#105 resulted in value: 0.1282420302890021. Current best value is 0.12538519752626726 with parameters: {'n_estimators': 8832, 'max_depth': 9, 'max_features': 'log2', 'colsample_bytree': 0.5, 'gamma ': 0.2, 'min_child_weight': 2, 'reg_alpha': 0.0014314734047097576, 'reg_lambda': 337.9401010505051, 'subsample': 0.5, 'random_state': 4}.\n",
      "[I 2019-09-08 08:14:52,357] Finished trial#109 resulted in value: 0.12989196958710464. Current best value is 0.12538519752626726 with parameters: {'n_estimators': 8832, 'max_depth': 9, 'max_features': 'log2', 'colsample_bytree': 0.5, 'gamma ': 0.2, 'min_child_weight': 2, 'reg_alpha': 0.0014314734047097576, 'reg_lambda': 337.9401010505051, 'subsample': 0.5, 'random_state': 4}.\n",
      "[I 2019-09-08 08:33:12,515] Finished trial#97 resulted in value: 0.12754456392574348. Current best value is 0.12538519752626726 with parameters: {'n_estimators': 8832, 'max_depth': 9, 'max_features': 'log2', 'colsample_bytree': 0.5, 'gamma ': 0.2, 'min_child_weight': 2, 'reg_alpha': 0.0014314734047097576, 'reg_lambda': 337.9401010505051, 'subsample': 0.5, 'random_state': 4}.\n"
     ]
    },
    {
     "name": "stderr",
     "output_type": "stream",
     "text": [
      "[I 2019-09-08 08:41:41,238] Finished trial#110 resulted in value: 0.12814041231288623. Current best value is 0.12538519752626726 with parameters: {'n_estimators': 8832, 'max_depth': 9, 'max_features': 'log2', 'colsample_bytree': 0.5, 'gamma ': 0.2, 'min_child_weight': 2, 'reg_alpha': 0.0014314734047097576, 'reg_lambda': 337.9401010505051, 'subsample': 0.5, 'random_state': 4}.\n",
      "[I 2019-09-08 08:43:43,388] Finished trial#104 resulted in value: 0.12847493135040217. Current best value is 0.12538519752626726 with parameters: {'n_estimators': 8832, 'max_depth': 9, 'max_features': 'log2', 'colsample_bytree': 0.5, 'gamma ': 0.2, 'min_child_weight': 2, 'reg_alpha': 0.0014314734047097576, 'reg_lambda': 337.9401010505051, 'subsample': 0.5, 'random_state': 4}.\n",
      "[I 2019-09-08 08:52:18,827] Finished trial#108 resulted in value: 0.13015069821802347. Current best value is 0.12538519752626726 with parameters: {'n_estimators': 8832, 'max_depth': 9, 'max_features': 'log2', 'colsample_bytree': 0.5, 'gamma ': 0.2, 'min_child_weight': 2, 'reg_alpha': 0.0014314734047097576, 'reg_lambda': 337.9401010505051, 'subsample': 0.5, 'random_state': 4}.\n",
      "[I 2019-09-08 09:02:22,959] Finished trial#107 resulted in value: 0.1273648798707162. Current best value is 0.12538519752626726 with parameters: {'n_estimators': 8832, 'max_depth': 9, 'max_features': 'log2', 'colsample_bytree': 0.5, 'gamma ': 0.2, 'min_child_weight': 2, 'reg_alpha': 0.0014314734047097576, 'reg_lambda': 337.9401010505051, 'subsample': 0.5, 'random_state': 4}.\n"
     ]
    }
   ],
   "source": [
    "study = optuna.create_study()\n",
    " \n",
    "# https://optuna.readthedocs.io/en/stable/reference/study.html#optuna.study.Study.optimize\n",
    "study.optimize(func=objective, # 実行する関数\n",
    "               n_trials=1000, # 試行回数\n",
    "               timeout=None, # 与えられた秒数後に学習を中止します。default=None\n",
    "               n_jobs=8 # 並列実行するjob数\n",
    "              )"
   ]
  },
  {
   "cell_type": "code",
   "execution_count": null,
   "metadata": {},
   "outputs": [],
   "source": []
  }
 ],
 "metadata": {
  "anaconda-cloud": {},
  "kernelspec": {
   "display_name": "Python 3",
   "language": "python",
   "name": "python3"
  },
  "language_info": {
   "codemirror_mode": {
    "name": "ipython",
    "version": 3
   },
   "file_extension": ".py",
   "mimetype": "text/x-python",
   "name": "python",
   "nbconvert_exporter": "python",
   "pygments_lexer": "ipython3",
   "version": "3.7.0"
  }
 },
 "nbformat": 4,
 "nbformat_minor": 1
}
